{
 "cells": [
  {
   "cell_type": "markdown",
   "metadata": {},
   "source": [
    "# Imports"
   ]
  },
  {
   "cell_type": "code",
   "execution_count": 1,
   "metadata": {},
   "outputs": [],
   "source": [
    "## imports \n",
    "import pandas as pd\n",
    "import numpy as np\n",
    "import yaml\n",
    "import plotnine\n",
    "from plotnine import *\n",
    "\n",
    "import bitdotio\n",
    "\n",
    "## print mult\n",
    "## repeated printouts\n",
    "from IPython.core.interactiveshell import InteractiveShell\n",
    "InteractiveShell.ast_node_interactivity = \"all\"\n",
    "\n",
    "## function to feed path name to load\n",
    "## credentials\n",
    "def load_creds(path: str):\n",
    "    with open(path, 'r') as stream:\n",
    "        try:\n",
    "            creds = yaml.safe_load(stream)\n",
    "        except yaml.YAMLError as exc:\n",
    "            print(exc)\n",
    "    return(creds)\n"
   ]
  },
  {
   "cell_type": "markdown",
   "metadata": {},
   "source": [
    "# 0. Preliminary: define connection and read sample of data"
   ]
  },
  {
   "cell_type": "markdown",
   "metadata": {},
   "source": [
    "Task: \n",
    "\n",
    "- Connect to the database - instructions here and API key on Canvas: https://github.com/rebeccajohnson88/PPOL564_slides_activities/issues/65\n",
    "- Read a sample of data (first five rows) from the `caseinit` table in the database"
   ]
  },
  {
   "cell_type": "code",
   "execution_count": 2,
   "metadata": {},
   "outputs": [],
   "source": [
    "creds = load_creds(\"../../cred.yml\")\n",
    "b = bitdotio.bitdotio(creds['class_database']['api_key'])\n",
    "cnx = b.get_connection(\"rebeccajohnson88/ppol564_classdb\")"
   ]
  },
  {
   "cell_type": "code",
   "execution_count": null,
   "metadata": {},
   "outputs": [],
   "source": []
  },
  {
   "cell_type": "markdown",
   "metadata": {},
   "source": [
    "# 1. Row and column filtering"
   ]
  },
  {
   "cell_type": "markdown",
   "metadata": {},
   "source": [
    "## 1.1 Pulling columns\n",
    "\n",
    "*Task*: pull the `CASE_ID` and `CASE_PARTICIPANT_ID` columns from the `caseinit` table"
   ]
  },
  {
   "cell_type": "code",
   "execution_count": null,
   "metadata": {},
   "outputs": [],
   "source": []
  },
  {
   "cell_type": "markdown",
   "metadata": {},
   "source": [
    "## 1.2 Subsetting rows\n",
    "\n"
   ]
  },
  {
   "cell_type": "markdown",
   "metadata": {},
   "source": [
    "### 1.2.1 Subsetting rows based on logical conditions\n",
    "\n",
    "*Task*: pull those two columns and restrict to rows where `AGE_AT_INCIDENT` is older than 40"
   ]
  },
  {
   "cell_type": "code",
   "execution_count": null,
   "metadata": {},
   "outputs": [],
   "source": []
  },
  {
   "cell_type": "markdown",
   "metadata": {},
   "source": [
    "*Task*: pull those two columns and restrict to rows where `RACE` is Black or HISPANIC "
   ]
  },
  {
   "cell_type": "code",
   "execution_count": null,
   "metadata": {},
   "outputs": [],
   "source": []
  },
  {
   "cell_type": "markdown",
   "metadata": {},
   "source": [
    "### 1.2.2 Subsetting rows based on similarity to a string\n",
    "\n",
    "*Task*: use the `like` command to subset to rows with Black anywhere in the `RACE` column"
   ]
  },
  {
   "cell_type": "code",
   "execution_count": null,
   "metadata": {},
   "outputs": [],
   "source": []
  },
  {
   "cell_type": "markdown",
   "metadata": {},
   "source": [
    "## 1.3 Creating new columns"
   ]
  },
  {
   "cell_type": "markdown",
   "metadata": {},
   "source": [
    "*Task*: create a new column-- `charge_update`-- that takes the value \"Same offense\" if offense category is the same as updated offense category; \"diff offense\" otherwise"
   ]
  },
  {
   "cell_type": "code",
   "execution_count": null,
   "metadata": {},
   "outputs": [],
   "source": []
  },
  {
   "cell_type": "markdown",
   "metadata": {},
   "source": [
    "### 1.3.1 Code that deliberately throws error due to creating a new column in same step as row filter"
   ]
  },
  {
   "cell_type": "code",
   "execution_count": 10,
   "metadata": {},
   "outputs": [],
   "source": [
    "## create new col \n",
    "## using case when logic\n",
    "## and then row filter\n",
    "## throws error bc doesn't\n",
    "## know that charge_update exists\n",
    "compare_charge_filt_q = \"\"\"\n",
    "select *,\n",
    "CASE \n",
    "WHEN OFFENSE_CATEGORY = UPDATED_OFFENSE_CATEGORY THEN 'Same offense'\n",
    "    ELSE 'Diff offense'\n",
    "END as charge_update\n",
    "from caseinit\n",
    "where charge_update = 'Diff offense'\n",
    "\"\"\"\n",
    "\n",
    "#compare_charge_filt_d = pd.read_sql_query(compare_charge_filt_q, cnx)\n"
   ]
  },
  {
   "cell_type": "markdown",
   "metadata": {},
   "source": [
    "### 1.3.1 Fix: instead of creating a new column and then filtering, filter directly "
   ]
  },
  {
   "cell_type": "code",
   "execution_count": null,
   "metadata": {},
   "outputs": [],
   "source": []
  },
  {
   "cell_type": "markdown",
   "metadata": {},
   "source": [
    "# 2. Subqueries and aggregation: one dataset\n",
    "\n",
    "Here we're going to remain focused on the `caseinit` dataset"
   ]
  },
  {
   "cell_type": "markdown",
   "metadata": {},
   "source": [
    "## 2.1 Row filtering using subquery\n",
    "\n",
    "- Write an inner query to construct the same `charge_update` column discussed above\n",
    "- Then, use the outer query to filter to rows where `charge_update = 'Diff offense'` "
   ]
  },
  {
   "cell_type": "code",
   "execution_count": null,
   "metadata": {},
   "outputs": [],
   "source": []
  },
  {
   "cell_type": "markdown",
   "metadata": {},
   "source": [
    "## 2.2 Longer example: racial disparities in who's offered diversion\n",
    "\n",
    "-  Find the five most common offenses in the `caseinit` table for Black or White defendants (filter out other race/ethnicities)\n",
    "- For those five most common offenses, find the percent of Black defendants whose cases are diverted and the percent of White defendants whose cases are diverted\n"
   ]
  },
  {
   "cell_type": "markdown",
   "metadata": {},
   "source": [
    "### 2.2.1 Step one: write the part of the code that finds the most common offenses"
   ]
  },
  {
   "cell_type": "code",
   "execution_count": null,
   "metadata": {},
   "outputs": [],
   "source": []
  },
  {
   "cell_type": "markdown",
   "metadata": {},
   "source": [
    "### 2.2.2 Step two: add that as a subquery to filter to rows where the UPDATED_OFFENSE_CATEGORY is in one of those top 5 offenses"
   ]
  },
  {
   "cell_type": "code",
   "execution_count": null,
   "metadata": {},
   "outputs": [],
   "source": []
  },
  {
   "cell_type": "markdown",
   "metadata": {},
   "source": [
    "### 2.2.3 Step three: write the part of the code that finds proportion diverted by race/ethnicity "
   ]
  },
  {
   "cell_type": "code",
   "execution_count": null,
   "metadata": {},
   "outputs": [],
   "source": []
  },
  {
   "cell_type": "markdown",
   "metadata": {},
   "source": [
    "### 2.2.4 Step four: combine all pieces of the code to find prop diverted for top 5 offenses"
   ]
  },
  {
   "cell_type": "code",
   "execution_count": null,
   "metadata": {},
   "outputs": [],
   "source": []
  },
  {
   "cell_type": "markdown",
   "metadata": {},
   "source": [
    "# 2.3 Activity break 1: are elderly defendants more likely to receive diversion?\n",
    "\n",
    "- Create a new column -- `is_elderly` when pulling from the caseinit table that takes on the value of 1 if the defendant's `AGE_AT_INCIDENT` is > 65; 0 otherwise\n",
    "- Use `where` to row filter to initiations where the defendant is elderly and use group by to find the count of cases diverted and not diverted (`is_in_diversion`); pull the table with those counts\n",
    "- Find the proportion of cases diverted for elderly versus non-elderly defendants (mean `is_in_diversion`} by group"
   ]
  },
  {
   "cell_type": "code",
   "execution_count": null,
   "metadata": {},
   "outputs": [],
   "source": []
  },
  {
   "cell_type": "markdown",
   "metadata": {},
   "source": [
    "# 3. Subqueries and aggregations: two datasets\n",
    "\n",
    "Here, we're going to add in an additional table `divert` that, for the initiated cases that are sent to diversion, what types of non-prison diversion programs people are sent to"
   ]
  },
  {
   "cell_type": "markdown",
   "metadata": {},
   "source": [
    "## 3.1 Looking at structure of `divert` table"
   ]
  },
  {
   "cell_type": "code",
   "execution_count": null,
   "metadata": {},
   "outputs": [],
   "source": []
  },
  {
   "cell_type": "markdown",
   "metadata": {},
   "source": [
    "## 3.2 Left joining certain cols from caseinit onto diversions"
   ]
  },
  {
   "cell_type": "markdown",
   "metadata": {},
   "source": [
    "### Left join with everything from divert; certain cols from caseinit\n",
    "\n",
    "*Task*: join `caseinit` and `divert` on CASE_ID and CASE_PARTICIPANT_ID; select all columns from divert; `AGE_AT_INCIDENT` from `caseinit`"
   ]
  },
  {
   "cell_type": "code",
   "execution_count": null,
   "metadata": {},
   "outputs": [],
   "source": []
  },
  {
   "cell_type": "markdown",
   "metadata": {},
   "source": [
    "### Deliberate error- selecting RACE col from both"
   ]
  },
  {
   "cell_type": "code",
   "execution_count": 28,
   "metadata": {},
   "outputs": [],
   "source": [
    "lj_dup_q = \"\"\"\n",
    "select divert.*,\n",
    "RACE\n",
    "from divert\n",
    "LEFT JOIN caseinit\n",
    "ON divert.CASE_ID = caseinit.CASE_ID\n",
    "AND divert.CASE_PARTICIPANT_ID = caseinit.CASE_PARTICIPANT_ID\n",
    "\"\"\""
   ]
  },
  {
   "cell_type": "code",
   "execution_count": 29,
   "metadata": {},
   "outputs": [],
   "source": [
    "#lj_d_dup = pd.read_sql_query(lj_dup_q, cnx)\n"
   ]
  },
  {
   "cell_type": "markdown",
   "metadata": {},
   "source": [
    "### Fixing that error - aliasing (temporary rename) race column"
   ]
  },
  {
   "cell_type": "code",
   "execution_count": null,
   "metadata": {},
   "outputs": [],
   "source": []
  },
  {
   "cell_type": "markdown",
   "metadata": {},
   "source": [
    "### Another way to simplify: aliasing the tables in the join\n",
    "\n",
    "*Task*: alias the `caseinit` table as `c` and the `divert` table as `d` and perform the same join/select as above"
   ]
  },
  {
   "cell_type": "code",
   "execution_count": null,
   "metadata": {},
   "outputs": [],
   "source": []
  },
  {
   "cell_type": "markdown",
   "metadata": {},
   "source": [
    "# 4. Combining agg and join\n",
    "\n",
    "*Task*: among the cases that are diverted, for each of the charges (`UPDATED_OFFENSE_CATEGORY`) in the case initiations, find the percentage of defendants with that charge going to each `DIVERSION_PROGRAM`"
   ]
  },
  {
   "cell_type": "markdown",
   "metadata": {},
   "source": [
    "## 4.1 Step one: count of offenses by diversion program"
   ]
  },
  {
   "cell_type": "code",
   "execution_count": null,
   "metadata": {},
   "outputs": [],
   "source": []
  },
  {
   "cell_type": "markdown",
   "metadata": {},
   "source": [
    "## 4.2 Step two: count of offenses total"
   ]
  },
  {
   "cell_type": "code",
   "execution_count": null,
   "metadata": {},
   "outputs": [],
   "source": []
  },
  {
   "cell_type": "markdown",
   "metadata": {},
   "source": [
    "## 4.3 Step three: combining into one query \n",
    "\n"
   ]
  },
  {
   "cell_type": "code",
   "execution_count": null,
   "metadata": {},
   "outputs": [],
   "source": []
  },
  {
   "cell_type": "markdown",
   "metadata": {},
   "source": [
    "# 4.4 Activity break 2 \n",
    "\n",
    "- Create a new column using the `divert` table:  `is_vetcourt` where for values of `DIVERSION_PROGRAM` = 'VC', takes on value of 1, 0 otherwise; execute this query to make sure the query for this step is correct\n",
    "-  In the case initiations table, filter to (1) defendants with `UPDATED_OFFENSE_CATEGORY` is 'Narcotics'; (2) race is Black or White; and (3) is diverted; execute this query to make sure the query for this step is correct\n",
    "- Combine the queries from step 1 and 2 to find, among the defendants diverted to something for narcotics offenses, the percentage of Black and percentage of white defendants sent specifically to veteran's treatment court"
   ]
  },
  {
   "cell_type": "code",
   "execution_count": null,
   "metadata": {},
   "outputs": [],
   "source": []
  }
 ],
 "metadata": {
  "kernelspec": {
   "display_name": "Python 3",
   "language": "python",
   "name": "python3"
  },
  "language_info": {
   "codemirror_mode": {
    "name": "ipython",
    "version": 3
   },
   "file_extension": ".py",
   "mimetype": "text/x-python",
   "name": "python",
   "nbconvert_exporter": "python",
   "pygments_lexer": "ipython3",
   "version": "3.8.3"
  }
 },
 "nbformat": 4,
 "nbformat_minor": 4
}
