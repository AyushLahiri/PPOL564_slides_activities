{
 "cells": [
  {
   "cell_type": "code",
   "execution_count": null,
   "metadata": {},
   "outputs": [],
   "source": [
    "## imports\n",
    "import pandas as pd\n",
    "import numpy as np\n",
    "import re\n",
    "import requests\n",
    "import yaml\n",
    "import os\n",
    "\n",
    "## repeated printouts\n",
    "from IPython.core.interactiveshell import InteractiveShell\n",
    "InteractiveShell.ast_node_interactivity = \"all\"\n",
    "\n",
    "## print all of text\n",
    "pd.options.display.max_colwidth = 1000"
   ]
  },
  {
   "cell_type": "markdown",
   "metadata": {},
   "source": [
    "# 1. Example 1: no credentials; no wrapper (API for NAEP data)\n",
    "\n",
    "Site: National Assessment of Education Progress (NAEP)\n",
    "\n",
    "Documentation: https://www.nationsreportcard.gov/api_documentation.aspx\n",
    "\n",
    "Base link: https://www.nationsreportcard.gov/DataService/GetAdhocData.aspx "
   ]
  },
  {
   "cell_type": "markdown",
   "metadata": {},
   "source": [
    "## 1.1 Query to pull some data"
   ]
  },
  {
   "cell_type": "code",
   "execution_count": null,
   "metadata": {},
   "outputs": [],
   "source": [
    "## using their example query of 2011 writing scores separated by gender\n",
    "## based on here - https://stackoverflow.com/questions/40836749/pythonic-way-of-writing-a-single-line-long-string\n",
    "## using the ( ) syntax to formulate a long\n",
    "## string without linebreaks added\n",
    "example_naep_query = (\n",
    "'https://www.nationsreportcard.gov/'\n",
    "'Dataservice/GetAdhocData.aspx?'\n",
    "'type=data&subject=writing&grade=8&'\n",
    "'subscale=WRIRP&variable=GENDER&jurisdiction=NP&stattype=MN:MN&Year=2011')\n",
    "\n",
    "\n",
    "example_naep_query\n"
   ]
  },
  {
   "cell_type": "code",
   "execution_count": null,
   "metadata": {},
   "outputs": [],
   "source": [
    "## use requests to call the api\n",
    "\n"
   ]
  },
  {
   "cell_type": "code",
   "execution_count": null,
   "metadata": {},
   "outputs": [],
   "source": [
    "## get the json contents of the response \n",
    "## here, we're assuming valid response\n"
   ]
  },
  {
   "cell_type": "code",
   "execution_count": null,
   "metadata": {},
   "outputs": [],
   "source": [
    "\n",
    "## with result, turn it into a dataframe\n"
   ]
  },
  {
   "cell_type": "markdown",
   "metadata": {},
   "source": [
    "## 1.2 What happens if there's an error in our query?"
   ]
  },
  {
   "cell_type": "code",
   "execution_count": null,
   "metadata": {},
   "outputs": [],
   "source": [
    "## here's a query that from the documentation we know\n",
    "## won't work since i modified year to 2025 which doesnt\n",
    "## exist in the data\n",
    "wrong_naep_query = (\n",
    "'https://www.nationsreportcard.gov/'\n",
    "'Dataservice/GetAdhocData.aspx?'\n",
    "'type=data&subject=writing&grade=8&'\n",
    "'subscale=WRIRP&variable=GENDER&jurisdiction=NP&stattype=MN:MN&Year=2025')\n",
    "\n",
    "wrong_naep_query"
   ]
  },
  {
   "cell_type": "code",
   "execution_count": null,
   "metadata": {},
   "outputs": [],
   "source": [
    "## use requests to call the api\n",
    "\n",
    "\n",
    "## in the case of this particular api,\n",
    "## the call returns some response but\n",
    "## when we try to extract the json containing\n",
    "## status or results, we get in an error\n",
    "#naep_wrong_resp.json()"
   ]
  },
  {
   "cell_type": "markdown",
   "metadata": {},
   "source": [
    "### 1.2.2 More all-purpose way of allowing remainder of calls to run: try, except"
   ]
  },
  {
   "cell_type": "code",
   "execution_count": null,
   "metadata": {},
   "outputs": [],
   "source": [
    "## putting it in a try; except as general error catching\n"
   ]
  },
  {
   "cell_type": "markdown",
   "metadata": {},
   "source": [
    "### 1.2.3 Can usually also find more targeted way but that varies more across APIs"
   ]
  },
  {
   "cell_type": "code",
   "execution_count": null,
   "metadata": {},
   "outputs": [],
   "source": [
    "## if we wanted do more specific error catching,\n",
    "## see that the status == 400 actually appears here\n",
    "## so could write if else along thos elines\n"
   ]
  },
  {
   "cell_type": "markdown",
   "metadata": {},
   "source": [
    "## Example to go through as group: writing a function to make multiple, sequential calls\n",
    "\n",
    "- Say we want to pull the data for grades 4, 8, and 12\n",
    "- How can we write a function that iterates over a list of those grades and pulls the data for each grade?\n",
    "\n",
    "**Note**: an ideal function would have arguments for each parameter in the API like subject, subscale, etc. Here we can leave those other parts constant"
   ]
  },
  {
   "cell_type": "code",
   "execution_count": null,
   "metadata": {},
   "outputs": [],
   "source": [
    "\n"
   ]
  },
  {
   "cell_type": "markdown",
   "metadata": {},
   "source": [
    "# 2. Example 2: needs credentials; no wrapper (API for Yelp)"
   ]
  },
  {
   "cell_type": "code",
   "execution_count": null,
   "metadata": {},
   "outputs": [],
   "source": [
    "## load creds- STUDENTS: REPLACE WITH PATHNAME TO YOURS\n",
    "## setup instructions noted here: https://georgetown.instructure.com/courses/158038/discussion_topics/975975\n",
    "with open(\"../../cred.yml\", 'r') as stream:\n",
    "    try:\n",
    "        creds = yaml.safe_load(stream)\n",
    "    except yaml.YAMLError as exc:\n",
    "        print(exc)\n",
    "\n",
    "## get the key\n"
   ]
  },
  {
   "cell_type": "code",
   "execution_count": null,
   "metadata": {},
   "outputs": [],
   "source": [
    "## use documentation to define what to search\n",
    "## doc: https://www.yelp.com/developers/documentation/v3/business_search\n",
    "## write the query \n"
   ]
  },
  {
   "cell_type": "code",
   "execution_count": null,
   "metadata": {},
   "outputs": [],
   "source": [
    "## example business\n",
    "\n",
    "\n",
    "\n"
   ]
  },
  {
   "cell_type": "code",
   "execution_count": null,
   "metadata": {},
   "outputs": [],
   "source": [
    "## more automatic way of summarizing but things end up in lists\n",
    "## within columns for things like categories\n"
   ]
  },
  {
   "cell_type": "code",
   "execution_count": null,
   "metadata": {},
   "outputs": [],
   "source": [
    "## more data-specific way of summarizing\n",
    "## we're doing a simple approach and just retaining\n",
    "## cols that have a simple str structure\n",
    "## if doing for real, would want to extract things\n",
    "\n"
   ]
  },
  {
   "cell_type": "markdown",
   "metadata": {},
   "source": [
    "# Activity for you: pull restaurants in a different location\n",
    "\n",
    "- Try running a business search query for another place in the United States by constructing a query similar to `yelp_genquery` but changing the location parameter\n",
    "- Other endpoints require feeding what's called the business' fusion id into the API. Take an id from `yelp_stronly.id` and use the documentation here to pull the reviews for that business: https://www.yelp.com/developers/documentation/v3/business_reviews\n",
    "- **Challenge**: generalize the previous step by writing a function that (1) takes a single business ID as an input, (2) calls the reviews API for that id, (3) returns the reviews. Execute that function over all the ids from your first pull and print the results as a dataframe\n"
   ]
  },
  {
   "cell_type": "code",
   "execution_count": null,
   "metadata": {},
   "outputs": [],
   "source": [
    "## query for another location"
   ]
  },
  {
   "cell_type": "code",
   "execution_count": null,
   "metadata": {},
   "outputs": [],
   "source": [
    "## query to get reviews for a specific id\n",
    "\n"
   ]
  },
  {
   "cell_type": "code",
   "execution_count": null,
   "metadata": {},
   "outputs": [],
   "source": [
    "## challenge exercise:\n",
    "## translate that into a function"
   ]
  }
 ],
 "metadata": {
  "kernelspec": {
   "display_name": "Python 3",
   "language": "python",
   "name": "python3"
  },
  "language_info": {
   "codemirror_mode": {
    "name": "ipython",
    "version": 3
   },
   "file_extension": ".py",
   "mimetype": "text/x-python",
   "name": "python",
   "nbconvert_exporter": "python",
   "pygments_lexer": "ipython3",
   "version": "3.8.3"
  }
 },
 "nbformat": 4,
 "nbformat_minor": 4
}
