{
 "cells": [
  {
   "cell_type": "markdown",
   "metadata": {},
   "source": [
    "# Notebook for topic modeling "
   ]
  },
  {
   "cell_type": "markdown",
   "metadata": {},
   "source": [
    "# 0. Imports"
   ]
  },
  {
   "cell_type": "code",
   "execution_count": 1,
   "metadata": {},
   "outputs": [
    {
     "name": "stderr",
     "output_type": "stream",
     "text": [
      "[nltk_data] Downloading package stopwords to\n",
      "[nltk_data]     /Users/rebeccajohnson/nltk_data...\n",
      "[nltk_data]   Package stopwords is already up-to-date!\n"
     ]
    }
   ],
   "source": [
    "## load packages \n",
    "import pandas as pd\n",
    "import re\n",
    "import numpy as np\n",
    "\n",
    "## nltk imports\n",
    "import nltk\n",
    "nltk.download(\"stopwords\")\n",
    "from nltk.tokenize import word_tokenize, wordpunct_tokenize\n",
    "from nltk.corpus import stopwords\n",
    "from nltk.stem.porter import PorterStemmer\n",
    "\n",
    "## sklearn imports\n",
    "from sklearn.feature_extraction.text import CountVectorizer\n",
    "\n",
    "## lda \n",
    "from gensim import corpora\n",
    "import gensim\n",
    "\n",
    "## visualization - if you have issues installing comment out\n",
    "import pyLDAvis.gensim as gensimvis\n",
    "# alternate: import pyLDAvis.gensim_models as gensimvis \n",
    "import pyLDAvis\n",
    "#pyLDAvis.enable_notebook()\n",
    "\n",
    "## print mult things\n",
    "from IPython.core.interactiveshell import InteractiveShell\n",
    "InteractiveShell.ast_node_interactivity = \"all\"\n",
    "\n",
    "## random\n",
    "import random"
   ]
  },
  {
   "cell_type": "markdown",
   "metadata": {},
   "source": [
    "# 0. Load data"
   ]
  },
  {
   "cell_type": "code",
   "execution_count": 2,
   "metadata": {},
   "outputs": [
    {
     "data": {
      "text/html": [
       "<div>\n",
       "<style scoped>\n",
       "    .dataframe tbody tr th:only-of-type {\n",
       "        vertical-align: middle;\n",
       "    }\n",
       "\n",
       "    .dataframe tbody tr th {\n",
       "        vertical-align: top;\n",
       "    }\n",
       "\n",
       "    .dataframe thead th {\n",
       "        text-align: right;\n",
       "    }\n",
       "</style>\n",
       "<table border=\"1\" class=\"dataframe\">\n",
       "  <thead>\n",
       "    <tr style=\"text-align: right;\">\n",
       "      <th></th>\n",
       "      <th>id</th>\n",
       "      <th>name</th>\n",
       "      <th>name_upper</th>\n",
       "      <th>neighbourhood_group</th>\n",
       "      <th>price</th>\n",
       "    </tr>\n",
       "  </thead>\n",
       "  <tbody>\n",
       "    <tr>\n",
       "      <th>0</th>\n",
       "      <td>2539</td>\n",
       "      <td>Clean &amp; quiet apt home by the park</td>\n",
       "      <td>CLEAN &amp; QUIET APT HOME BY THE PARK</td>\n",
       "      <td>Brooklyn</td>\n",
       "      <td>149</td>\n",
       "    </tr>\n",
       "    <tr>\n",
       "      <th>1</th>\n",
       "      <td>2595</td>\n",
       "      <td>Skylit Midtown Castle</td>\n",
       "      <td>SKYLIT MIDTOWN CASTLE</td>\n",
       "      <td>Manhattan</td>\n",
       "      <td>225</td>\n",
       "    </tr>\n",
       "    <tr>\n",
       "      <th>2</th>\n",
       "      <td>3647</td>\n",
       "      <td>THE VILLAGE OF HARLEM....NEW YORK !</td>\n",
       "      <td>THE VILLAGE OF HARLEM....NEW YORK !</td>\n",
       "      <td>Manhattan</td>\n",
       "      <td>150</td>\n",
       "    </tr>\n",
       "    <tr>\n",
       "      <th>3</th>\n",
       "      <td>3831</td>\n",
       "      <td>Cozy Entire Floor of Brownstone</td>\n",
       "      <td>COZY ENTIRE FLOOR OF BROWNSTONE</td>\n",
       "      <td>Brooklyn</td>\n",
       "      <td>89</td>\n",
       "    </tr>\n",
       "    <tr>\n",
       "      <th>4</th>\n",
       "      <td>5022</td>\n",
       "      <td>Entire Apt: Spacious Studio/Loft by central park</td>\n",
       "      <td>ENTIRE APT: SPACIOUS STUDIO/LOFT BY CENTRAL PARK</td>\n",
       "      <td>Manhattan</td>\n",
       "      <td>80</td>\n",
       "    </tr>\n",
       "  </tbody>\n",
       "</table>\n",
       "</div>"
      ],
      "text/plain": [
       "     id                                              name  \\\n",
       "0  2539                Clean & quiet apt home by the park   \n",
       "1  2595                             Skylit Midtown Castle   \n",
       "2  3647               THE VILLAGE OF HARLEM....NEW YORK !   \n",
       "3  3831                   Cozy Entire Floor of Brownstone   \n",
       "4  5022  Entire Apt: Spacious Studio/Loft by central park   \n",
       "\n",
       "                                         name_upper neighbourhood_group  price  \n",
       "0                CLEAN & QUIET APT HOME BY THE PARK            Brooklyn    149  \n",
       "1                             SKYLIT MIDTOWN CASTLE           Manhattan    225  \n",
       "2               THE VILLAGE OF HARLEM....NEW YORK !           Manhattan    150  \n",
       "3                   COZY ENTIRE FLOOR OF BROWNSTONE            Brooklyn     89  \n",
       "4  ENTIRE APT: SPACIOUS STUDIO/LOFT BY CENTRAL PARK           Manhattan     80  "
      ]
     },
     "execution_count": 2,
     "metadata": {},
     "output_type": "execute_result"
    }
   ],
   "source": [
    "ab = pd.read_csv(\"../../../public_data/airbnb_text.zip\")\n",
    "ab.head()\n"
   ]
  },
  {
   "cell_type": "markdown",
   "metadata": {},
   "source": [
    "# 1. Preprocess documents\n",
    "\n",
    "In this case, each name/name_upper, or listing title, we're treating as a document"
   ]
  },
  {
   "cell_type": "markdown",
   "metadata": {},
   "source": [
    "## 1.1 Load stopwords list and augment with our own custom ones"
   ]
  },
  {
   "cell_type": "code",
   "execution_count": 3,
   "metadata": {},
   "outputs": [],
   "source": [
    "list_stopwords = stopwords.words(\"english\")\n",
    "custom_words_toadd = ['apartment', 'new york', 'nyc',\n",
    "                      'bronx', 'brooklyn',\n",
    "                     'manhattan', 'queens', \n",
    "                      'staten island']\n",
    "list_stopwords_new = list_stopwords + custom_words_toadd\n"
   ]
  },
  {
   "cell_type": "markdown",
   "metadata": {},
   "source": [
    "## 1.2 Remove stopwords from lowercase version of corpus\n"
   ]
  },
  {
   "cell_type": "code",
   "execution_count": 4,
   "metadata": {},
   "outputs": [
    {
     "data": {
      "text/plain": [
       "['cozy', 'entire', 'floor', 'of', 'brownstone']"
      ]
     },
     "execution_count": 4,
     "metadata": {},
     "output_type": "execute_result"
    }
   ],
   "source": [
    "## convert to lowercase and a list\n",
    "corpus_lower = ab.name.str.lower().to_list()\n",
    "\n",
    "## use wordpunct tokenize and filter out with one\n",
    "example_listing = corpus_lower[3]\n",
    "wordpunct_tokenize(example_listing)\n",
    "nostop_listing = [word \n",
    "                for word in wordpunct_tokenize(example_listing) \n",
    "                if word not in list_stopwords_new]\n"
   ]
  },
  {
   "cell_type": "markdown",
   "metadata": {},
   "source": [
    "## 1.3 stem and remove non-alpha\n",
    "\n",
    "Other contexts we may want to leave digits in"
   ]
  },
  {
   "cell_type": "code",
   "execution_count": 5,
   "metadata": {},
   "outputs": [],
   "source": [
    "## initialize stemmer\n",
    "porter = PorterStemmer()\n",
    "\n",
    "## apply to one by iterating\n",
    "## over the tokens in the list\n",
    "example_listing_preprocess = [porter.stem(token) \n",
    "                            for token in nostop_listing \n",
    "                            if token.isalpha() and \n",
    "                            len(token) > 2]\n"
   ]
  },
  {
   "cell_type": "markdown",
   "metadata": {},
   "source": [
    "## 1.4 Activity 1\n",
    "\n",
    "The above example performed preprocessing on a single Airbnb listing. We want to generalize this preprocessing across all listings.\n",
    "\n",
    "- Embed step two (remove stopwords) and step three (stem) into one or two functions that take in a raw string (eg the raw text of an Airbnb review) and return a preprocessed string \n",
    "- Apply the function to all the texts in `corpus_lower`"
   ]
  },
  {
   "cell_type": "code",
   "execution_count": 6,
   "metadata": {},
   "outputs": [],
   "source": [
    "def process_step1(one_str):   \n",
    "    try:\n",
    "        nostop_listing1 = [word for word in wordpunct_tokenize(one_str)\n",
    "                          if word not in list_stopwords_new]\n",
    "        clean_listing = [porter.stem(word) for word in nostop_listing1\n",
    "                        if word.isalpha() \n",
    "                        and len(word) > 3]\n",
    "        clean_listing_str = \" \".join(clean_listing)\n",
    "        return(clean_listing_str)\n",
    "    except:\n",
    "        return(\"\")\n",
    "\n",
    "cleaned_listings = [process_step1(one_listing) for one_listing in \n",
    "                   corpus_lower]\n"
   ]
  },
  {
   "cell_type": "code",
   "execution_count": 7,
   "metadata": {},
   "outputs": [],
   "source": [
    "ab['proc_name'] = cleaned_listings\n"
   ]
  },
  {
   "cell_type": "markdown",
   "metadata": {},
   "source": [
    "# 2. Create a document-term matrix and do some basic diagnostics (more manual approach)\n",
    "\n",
    "Here we'll create a DTM first using the raw documents; in the activity, you'll create one using the preprocessed docs\n",
    "that you created in activity 1"
   ]
  },
  {
   "cell_type": "markdown",
   "metadata": {},
   "source": [
    "## 2.1 Define the dtm function and select data to transform into a document-term matrix"
   ]
  },
  {
   "cell_type": "code",
   "execution_count": 8,
   "metadata": {},
   "outputs": [],
   "source": [
    "## function I'm providing\n",
    "def create_dtm(list_of_strings, metadata):\n",
    "    vectorizer = CountVectorizer(lowercase = True)\n",
    "    dtm_sparse = vectorizer.fit_transform(list_of_strings)\n",
    "    dtm_dense_named = pd.DataFrame(dtm_sparse.todense(),\n",
    "                columns=vectorizer.get_feature_names())\n",
    "    metadata.columns = [\"metadata_\" + col for col in metadata.columns]\n",
    "    dtm_dense_named_withid = pd.concat([metadata.reset_index(), \n",
    "                                        dtm_dense_named], axis = 1)\n",
    "    return(dtm_dense_named_withid)"
   ]
  },
  {
   "cell_type": "code",
   "execution_count": 9,
   "metadata": {},
   "outputs": [
    {
     "data": {
      "text/html": [
       "<div>\n",
       "<style scoped>\n",
       "    .dataframe tbody tr th:only-of-type {\n",
       "        vertical-align: middle;\n",
       "    }\n",
       "\n",
       "    .dataframe tbody tr th {\n",
       "        vertical-align: top;\n",
       "    }\n",
       "\n",
       "    .dataframe thead th {\n",
       "        text-align: right;\n",
       "    }\n",
       "</style>\n",
       "<table border=\"1\" class=\"dataframe\">\n",
       "  <thead>\n",
       "    <tr style=\"text-align: right;\">\n",
       "      <th></th>\n",
       "      <th>id</th>\n",
       "      <th>neighbourhood_group</th>\n",
       "      <th>price_rawdata</th>\n",
       "      <th>name</th>\n",
       "      <th>name_lower</th>\n",
       "    </tr>\n",
       "  </thead>\n",
       "  <tbody>\n",
       "    <tr>\n",
       "      <th>22540</th>\n",
       "      <td>18227529</td>\n",
       "      <td>Manhattan</td>\n",
       "      <td>140</td>\n",
       "      <td>Live in New York Near Central Park and Columbi...</td>\n",
       "      <td>live in new york near central park and columbi...</td>\n",
       "    </tr>\n",
       "    <tr>\n",
       "      <th>47531</th>\n",
       "      <td>35794273</td>\n",
       "      <td>Brooklyn</td>\n",
       "      <td>130</td>\n",
       "      <td>Hope Garden</td>\n",
       "      <td>hope garden</td>\n",
       "    </tr>\n",
       "    <tr>\n",
       "      <th>33906</th>\n",
       "      <td>26858196</td>\n",
       "      <td>Brooklyn</td>\n",
       "      <td>75</td>\n",
       "      <td>AWESOME 2 BEDS - QUEEN + SOFA - NEXT TO METRO</td>\n",
       "      <td>awesome 2 beds - queen + sofa - next to metro</td>\n",
       "    </tr>\n",
       "    <tr>\n",
       "      <th>12047</th>\n",
       "      <td>9369514</td>\n",
       "      <td>Brooklyn</td>\n",
       "      <td>25</td>\n",
       "      <td>STARTUP CHEAP PLACE BROOKLYN</td>\n",
       "      <td>startup cheap place brooklyn</td>\n",
       "    </tr>\n",
       "    <tr>\n",
       "      <th>2908</th>\n",
       "      <td>1669149</td>\n",
       "      <td>Manhattan</td>\n",
       "      <td>250</td>\n",
       "      <td>Beautiful Modern Midtown Apartment</td>\n",
       "      <td>beautiful modern midtown apartment</td>\n",
       "    </tr>\n",
       "  </tbody>\n",
       "</table>\n",
       "</div>"
      ],
      "text/plain": [
       "             id neighbourhood_group  price_rawdata  \\\n",
       "22540  18227529           Manhattan            140   \n",
       "47531  35794273            Brooklyn            130   \n",
       "33906  26858196            Brooklyn             75   \n",
       "12047   9369514            Brooklyn             25   \n",
       "2908    1669149           Manhattan            250   \n",
       "\n",
       "                                                    name  \\\n",
       "22540  Live in New York Near Central Park and Columbi...   \n",
       "47531                                        Hope Garden   \n",
       "33906      AWESOME 2 BEDS - QUEEN + SOFA - NEXT TO METRO   \n",
       "12047                       STARTUP CHEAP PLACE BROOKLYN   \n",
       "2908                  Beautiful Modern Midtown Apartment   \n",
       "\n",
       "                                              name_lower  \n",
       "22540  live in new york near central park and columbi...  \n",
       "47531                                        hope garden  \n",
       "33906      awesome 2 beds - queen + sofa - next to metro  \n",
       "12047                       startup cheap place brooklyn  \n",
       "2908                  beautiful modern midtown apartment  "
      ]
     },
     "execution_count": 9,
     "metadata": {},
     "output_type": "execute_result"
    }
   ],
   "source": [
    "## filter out na's\n",
    "## for shorter runtime, random sampling of 1000\n",
    "## get metadata for those\n",
    "## and also renaming price col since it's likely to be corpus word\n",
    "ab_small = ab.loc[~ab.name.isnull(),\n",
    "           ['id', 'neighbourhood_group', 'price',\n",
    "            'name']].copy().rename(columns = {'price':\n",
    "            'price_rawdata'}).sample(n = 1000, random_state = 9899)\n",
    "\n",
    "ab_small['name_lower'] = ab_small['name'].str.lower()\n",
    "ab_small.head()"
   ]
  },
  {
   "cell_type": "markdown",
   "metadata": {},
   "source": [
    "## 2.2 Execute the dtm function to create the document-term matrix"
   ]
  },
  {
   "cell_type": "code",
   "execution_count": 10,
   "metadata": {},
   "outputs": [
    {
     "data": {
      "text/html": [
       "<div>\n",
       "<style scoped>\n",
       "    .dataframe tbody tr th:only-of-type {\n",
       "        vertical-align: middle;\n",
       "    }\n",
       "\n",
       "    .dataframe tbody tr th {\n",
       "        vertical-align: top;\n",
       "    }\n",
       "\n",
       "    .dataframe thead th {\n",
       "        text-align: right;\n",
       "    }\n",
       "</style>\n",
       "<table border=\"1\" class=\"dataframe\">\n",
       "  <thead>\n",
       "    <tr style=\"text-align: right;\">\n",
       "      <th></th>\n",
       "      <th>index</th>\n",
       "      <th>metadata_id</th>\n",
       "      <th>metadata_neighbourhood_group</th>\n",
       "      <th>metadata_price_rawdata</th>\n",
       "      <th>10</th>\n",
       "      <th>100</th>\n",
       "      <th>1000</th>\n",
       "      <th>1000sq</th>\n",
       "      <th>10292</th>\n",
       "      <th>10ft</th>\n",
       "      <th>...</th>\n",
       "      <th>交通便利</th>\n",
       "      <th>位于北上远离开辆</th>\n",
       "      <th>家庭式獨立衛生間套房g</th>\n",
       "      <th>温馨小筑</th>\n",
       "      <th>简单的四房一厅两卫生间</th>\n",
       "      <th>纽约之家</th>\n",
       "      <th>走路四分钟到地铁站</th>\n",
       "      <th>건물</th>\n",
       "      <th>따뜻한</th>\n",
       "      <th>작은</th>\n",
       "    </tr>\n",
       "  </thead>\n",
       "  <tbody>\n",
       "    <tr>\n",
       "      <th>0</th>\n",
       "      <td>22540</td>\n",
       "      <td>18227529</td>\n",
       "      <td>Manhattan</td>\n",
       "      <td>140</td>\n",
       "      <td>0</td>\n",
       "      <td>0</td>\n",
       "      <td>0</td>\n",
       "      <td>0</td>\n",
       "      <td>0</td>\n",
       "      <td>0</td>\n",
       "      <td>...</td>\n",
       "      <td>0</td>\n",
       "      <td>0</td>\n",
       "      <td>0</td>\n",
       "      <td>0</td>\n",
       "      <td>0</td>\n",
       "      <td>0</td>\n",
       "      <td>0</td>\n",
       "      <td>0</td>\n",
       "      <td>0</td>\n",
       "      <td>0</td>\n",
       "    </tr>\n",
       "    <tr>\n",
       "      <th>1</th>\n",
       "      <td>47531</td>\n",
       "      <td>35794273</td>\n",
       "      <td>Brooklyn</td>\n",
       "      <td>130</td>\n",
       "      <td>0</td>\n",
       "      <td>0</td>\n",
       "      <td>0</td>\n",
       "      <td>0</td>\n",
       "      <td>0</td>\n",
       "      <td>0</td>\n",
       "      <td>...</td>\n",
       "      <td>0</td>\n",
       "      <td>0</td>\n",
       "      <td>0</td>\n",
       "      <td>0</td>\n",
       "      <td>0</td>\n",
       "      <td>0</td>\n",
       "      <td>0</td>\n",
       "      <td>0</td>\n",
       "      <td>0</td>\n",
       "      <td>0</td>\n",
       "    </tr>\n",
       "    <tr>\n",
       "      <th>2</th>\n",
       "      <td>33906</td>\n",
       "      <td>26858196</td>\n",
       "      <td>Brooklyn</td>\n",
       "      <td>75</td>\n",
       "      <td>0</td>\n",
       "      <td>0</td>\n",
       "      <td>0</td>\n",
       "      <td>0</td>\n",
       "      <td>0</td>\n",
       "      <td>0</td>\n",
       "      <td>...</td>\n",
       "      <td>0</td>\n",
       "      <td>0</td>\n",
       "      <td>0</td>\n",
       "      <td>0</td>\n",
       "      <td>0</td>\n",
       "      <td>0</td>\n",
       "      <td>0</td>\n",
       "      <td>0</td>\n",
       "      <td>0</td>\n",
       "      <td>0</td>\n",
       "    </tr>\n",
       "    <tr>\n",
       "      <th>3</th>\n",
       "      <td>12047</td>\n",
       "      <td>9369514</td>\n",
       "      <td>Brooklyn</td>\n",
       "      <td>25</td>\n",
       "      <td>0</td>\n",
       "      <td>0</td>\n",
       "      <td>0</td>\n",
       "      <td>0</td>\n",
       "      <td>0</td>\n",
       "      <td>0</td>\n",
       "      <td>...</td>\n",
       "      <td>0</td>\n",
       "      <td>0</td>\n",
       "      <td>0</td>\n",
       "      <td>0</td>\n",
       "      <td>0</td>\n",
       "      <td>0</td>\n",
       "      <td>0</td>\n",
       "      <td>0</td>\n",
       "      <td>0</td>\n",
       "      <td>0</td>\n",
       "    </tr>\n",
       "    <tr>\n",
       "      <th>4</th>\n",
       "      <td>2908</td>\n",
       "      <td>1669149</td>\n",
       "      <td>Manhattan</td>\n",
       "      <td>250</td>\n",
       "      <td>0</td>\n",
       "      <td>0</td>\n",
       "      <td>0</td>\n",
       "      <td>0</td>\n",
       "      <td>0</td>\n",
       "      <td>0</td>\n",
       "      <td>...</td>\n",
       "      <td>0</td>\n",
       "      <td>0</td>\n",
       "      <td>0</td>\n",
       "      <td>0</td>\n",
       "      <td>0</td>\n",
       "      <td>0</td>\n",
       "      <td>0</td>\n",
       "      <td>0</td>\n",
       "      <td>0</td>\n",
       "      <td>0</td>\n",
       "    </tr>\n",
       "  </tbody>\n",
       "</table>\n",
       "<p>5 rows × 983 columns</p>\n",
       "</div>"
      ],
      "text/plain": [
       "   index  metadata_id metadata_neighbourhood_group  metadata_price_rawdata  \\\n",
       "0  22540     18227529                    Manhattan                     140   \n",
       "1  47531     35794273                     Brooklyn                     130   \n",
       "2  33906     26858196                     Brooklyn                      75   \n",
       "3  12047      9369514                     Brooklyn                      25   \n",
       "4   2908      1669149                    Manhattan                     250   \n",
       "\n",
       "   10  100  1000  1000sq  10292  10ft  ...  交通便利  位于北上远离开辆  家庭式獨立衛生間套房g  温馨小筑  \\\n",
       "0   0    0     0       0      0     0  ...     0         0            0     0   \n",
       "1   0    0     0       0      0     0  ...     0         0            0     0   \n",
       "2   0    0     0       0      0     0  ...     0         0            0     0   \n",
       "3   0    0     0       0      0     0  ...     0         0            0     0   \n",
       "4   0    0     0       0      0     0  ...     0         0            0     0   \n",
       "\n",
       "   简单的四房一厅两卫生间  纽约之家  走路四分钟到地铁站  건물  따뜻한  작은  \n",
       "0            0     0          0   0    0   0  \n",
       "1            0     0          0   0    0   0  \n",
       "2            0     0          0   0    0   0  \n",
       "3            0     0          0   0    0   0  \n",
       "4            0     0          0   0    0   0  \n",
       "\n",
       "[5 rows x 983 columns]"
      ]
     },
     "execution_count": 10,
     "metadata": {},
     "output_type": "execute_result"
    }
   ],
   "source": [
    "## example application on raw lowercase texts; \n",
    "dtm_nopre = create_dtm(list_of_strings= ab_small.name_lower,\n",
    "                metadata = \n",
    "                ab_small[['id', 'neighbourhood_group', 'price_rawdata']])\n",
    "\n",
    "dtm_nopre.head()"
   ]
  },
  {
   "cell_type": "markdown",
   "metadata": {},
   "source": [
    "## 2.3 Use that matrix/column sums to get basic summary stats of top words"
   ]
  },
  {
   "cell_type": "code",
   "execution_count": 11,
   "metadata": {},
   "outputs": [
    {
     "data": {
      "text/plain": [
       "in            357\n",
       "room          204\n",
       "bedroom       164\n",
       "private       146\n",
       "cozy          134\n",
       "             ... \n",
       "fitness         1\n",
       "fl              1\n",
       "flatbushbk      1\n",
       "flatiron        1\n",
       "작은              1\n",
       "Length: 979, dtype: int64"
      ]
     },
     "execution_count": 11,
     "metadata": {},
     "output_type": "execute_result"
    }
   ],
   "source": [
    "## summing each col\n",
    "top_terms = dtm_nopre[[col for col in dtm_nopre.columns\n",
    "                      if \"metadata\" not in col and\n",
    "                      col != \"index\"]].sum(axis = 0)\n",
    "\n",
    "## sorting from most frequent to least frequent\n",
    "top_terms.sort_values(ascending = False)"
   ]
  },
  {
   "cell_type": "markdown",
   "metadata": {},
   "source": [
    "## 2.4 Activity 2: repeat the above but using the preprocessed text data\n",
    "\n",
    "- Stick with the same random sample of 1000 `ab_small`\n",
    "- Apply the preprocessing steps from activity 1 to create a new column in `ab_small` with the \n",
    "preprocessed text (if you got stuck on that, try just removing stopwords)\n",
    "- Use the `create_dtm` function to create a document-term matrix from the preprocessed data\n",
    "-  Take the sum of each of the term columns to find the top words "
   ]
  },
  {
   "cell_type": "code",
   "execution_count": 12,
   "metadata": {},
   "outputs": [],
   "source": [
    "ab_small['processed'] = [process_step1(one_list)\n",
    "                         for one_list in ab_small.name_lower.to_list()]"
   ]
  },
  {
   "cell_type": "code",
   "execution_count": 13,
   "metadata": {},
   "outputs": [
    {
     "data": {
      "text/plain": [
       "room         208\n",
       "bedroom      167\n",
       "privat       146\n",
       "cozi         134\n",
       "studio        94\n",
       "            ... \n",
       "industri       1\n",
       "indoor         1\n",
       "independ       1\n",
       "incred         1\n",
       "走路四分钟到地铁站      1\n",
       "Length: 642, dtype: int64"
      ]
     },
     "execution_count": 13,
     "metadata": {},
     "output_type": "execute_result"
    }
   ],
   "source": [
    "metadata_list = ['id', 'neighbourhood_group', 'price_rawdata']\n",
    "dtm_pre = create_dtm(list_of_strings= ab_small.processed,\n",
    "                metadata = \n",
    "                ab_small[metadata_list])\n",
    "\n",
    "\n",
    "dtm_pre_termsonly = dtm_pre[[col for col in dtm_pre.columns if \n",
    "                            \"metadata\" not in col and col != \"index\"]]\n",
    "\n",
    "dtm_pre_termsonly.sum().sort_values(ascending = False)"
   ]
  },
  {
   "cell_type": "markdown",
   "metadata": {},
   "source": [
    "# 3. Use gensim to more automatically preprocess/estimate a topic model"
   ]
  },
  {
   "cell_type": "markdown",
   "metadata": {},
   "source": [
    "## 3.1 Creating the objects to feed the LDA modeling function\n",
    "\n",
    "Different outputs described below: \n",
    "- Tokenized and preprocessed text \n",
    "- Dictionary \n",
    "- Corpus "
   ]
  },
  {
   "cell_type": "code",
   "execution_count": 14,
   "metadata": {},
   "outputs": [],
   "source": [
    "## Step 1: re-tokenize and store in list\n",
    "## here, i'm doing with the raw random sample of text\n",
    "## in activity, you should do with the preprocessed texts\n",
    "text_raw_tokens = [wordpunct_tokenize(one_text) \n",
    "                for one_text in \n",
    "                ab_small.name_lower]\n",
    "\n",
    "## Step 2: use gensim create dictionary - gets all unique words across documents\n",
    "text_raw_dict = corpora.Dictionary(text_raw_tokens)\n",
    "\n",
    "## Step 3: filter out very rare and very common words\n",
    "## here, i'm using the threshold that a word needs to appear in at least\n",
    "## 5% of docs but not more than 95%\n",
    "## this is an integer count of docs so i round\n",
    "lower_bound = round(ab_small.shape[0]*0.05)\n",
    "upper_bound = round(ab_small.shape[0]*0.95)\n",
    "\n",
    "### apply filtering to dictionary\n",
    "text_raw_dict.filter_extremes(no_below = lower_bound,\n",
    "                             no_above = upper_bound)\n",
    "\n",
    "# Step 4: apply dictionary to TOKENIZED texts\n",
    "## this creates a mapping between each word \n",
    "## in a specific listing and the key in the dictionary\n",
    "## for words that remain in the filtered dictionary\n",
    "## output is a list where len(list) == n documents\n",
    "## and each element in the list is a list of tuples\n",
    "## containing the mappings\n",
    "corpus_fromdict = [text_raw_dict.doc2bow(one_text) \n",
    "                   for one_text in text_raw_tokens]\n",
    "\n"
   ]
  },
  {
   "cell_type": "markdown",
   "metadata": {},
   "source": [
    "##  3.2 Estimating the model"
   ]
  },
  {
   "cell_type": "code",
   "execution_count": 15,
   "metadata": {},
   "outputs": [],
   "source": [
    "## Step 5: we're finally ready to estimate the model!\n",
    "## full documentation here - https://radimrehurek.com/gensim/models/ldamodel.html\n",
    "## here, we're feed the lda function (1) the corpus we created from the dictionary\n",
    "## (2) a parameter we decide on for the number of topics,\n",
    "## (3) the dictionary itself,\n",
    "## (4) parameter for number of passes through training data\n",
    "## (5) parameter that returns, for each word remaining in dict, the \n",
    "## topic probabilities\n",
    "## see documentation for many other arguments you can vary\n",
    "ldamod = gensim.models.ldamodel.LdaModel(corpus_fromdict, \n",
    "                                num_topics = 4, id2word=text_raw_dict, \n",
    "                                passes=6, alpha = 'auto',\n",
    "                                per_word_topics = True, random_state = 91988)\n"
   ]
  },
  {
   "cell_type": "markdown",
   "metadata": {},
   "source": [
    "## 3.3  Seeing what topics the estimated model discovers"
   ]
  },
  {
   "cell_type": "code",
   "execution_count": 16,
   "metadata": {},
   "outputs": [
    {
     "name": "stdout",
     "output_type": "stream",
     "text": [
      "(0, '0.218*\"in\" + 0.122*\"apartment\" + 0.101*\"room\" + 0.089*\"the\" + 0.076*\"of\" + 0.055*\"manhattan\" + 0.044*\"apt\" + 0.044*\"near\" + 0.038*\"to\" + 0.036*\"park\"')\n",
      "(1, '0.134*\"bedroom\" + 0.110*\"in\" + 0.110*\",\" + 0.104*\"-\" + 0.086*\"1\" + 0.077*\"spacious\" + 0.070*\"east\" + 0.046*\"to\" + 0.040*\"apartment\" + 0.039*\"sunny\"')\n",
      "(2, '0.168*\"cozy\" + 0.109*\",\" + 0.094*\"/\" + 0.081*\"park\" + 0.077*\"room\" + 0.065*\"with\" + 0.058*\"2\" + 0.047*\"!\" + 0.039*\"-\" + 0.039*\"and\"')\n",
      "(3, '0.156*\"private\" + 0.124*\".\" + 0.099*\"studio\" + 0.092*\"in\" + 0.083*\"room\" + 0.057*\"!\" + 0.044*\"to\" + 0.043*\"brooklyn\" + 0.039*\"manhattan\" + 0.037*\"/\"')\n"
     ]
    }
   ],
   "source": [
    "## Post-model 1: explore corpus-wide summary of topics\n",
    "### getting the topics and top words; can retrieve diff top words\n",
    "topics = ldamod.print_topics(num_words = 10)\n",
    "for topic in topics:\n",
    "    print(topic)\n"
   ]
  },
  {
   "cell_type": "code",
   "execution_count": 17,
   "metadata": {},
   "outputs": [
    {
     "data": {
      "text/plain": [
       "[['live',\n",
       "  'in',\n",
       "  'new',\n",
       "  'york',\n",
       "  'near',\n",
       "  'central',\n",
       "  'park',\n",
       "  'and',\n",
       "  'columbia',\n",
       "  'u',\n",
       "  '.'],\n",
       " ['hope', 'garden'],\n",
       " ['awesome',\n",
       "  '2',\n",
       "  'beds',\n",
       "  '-',\n",
       "  'queen',\n",
       "  '+',\n",
       "  'sofa',\n",
       "  '-',\n",
       "  'next',\n",
       "  'to',\n",
       "  'metro'],\n",
       " ['startup', 'cheap', 'place', 'brooklyn'],\n",
       " ['beautiful', 'modern', 'midtown', 'apartment']]"
      ]
     },
     "execution_count": 17,
     "metadata": {},
     "output_type": "execute_result"
    },
    {
     "data": {
      "text/plain": [
       "[[(0, 0.7291896), (1, 0.041319154), (2, 0.031489335), (3, 0.19800192)],\n",
       " [(0, 0.24624164), (1, 0.2782907), (2, 0.212672), (3, 0.2627957)],\n",
       " [(0, 0.043327797), (1, 0.8722155), (2, 0.03763539), (3, 0.04682137)],\n",
       " [(0, 0.11719994), (1, 0.13181882), (2, 0.09832003), (3, 0.6526612)],\n",
       " [(0, 0.65151316), (1, 0.13048814), (2, 0.0974924), (3, 0.12050633)]]"
      ]
     },
     "execution_count": 17,
     "metadata": {},
     "output_type": "execute_result"
    }
   ],
   "source": [
    "    \n",
    "## Post-model 2: explore topics associated with each document\n",
    "### for each item in our original dictionary, get list of topic probabilities\n",
    "l=[ldamod.get_document_topics(item) for item in corpus_fromdict]\n",
    "### print result\n",
    "text_raw_tokens[0:5]\n",
    "l[0:5]"
   ]
  },
  {
   "cell_type": "markdown",
   "metadata": {},
   "source": [
    "### Visualizing "
   ]
  },
  {
   "cell_type": "code",
   "execution_count": 18,
   "metadata": {},
   "outputs": [
    {
     "data": {
      "text/html": [
       "\n",
       "<link rel=\"stylesheet\" type=\"text/css\" href=\"https://cdn.rawgit.com/bmabey/pyLDAvis/files/ldavis.v1.0.0.css\">\n",
       "\n",
       "\n",
       "<div id=\"ldavis_el652811406803464185289133716546\"></div>\n",
       "<script type=\"text/javascript\">\n",
       "\n",
       "var ldavis_el652811406803464185289133716546_data = {\"mdsDat\": {\"x\": [0.05972154396903794, -0.007370810907208663, -0.18478383622243008, 0.13243310316060078], \"y\": [0.1658358767607158, -0.12678505088287417, 0.017864308257189373, -0.05691513413503116], \"topics\": [1, 2, 3, 4], \"cluster\": [1, 1, 1, 1], \"Freq\": [28.88279554806171, 27.22114448407657, 23.433641702115803, 20.46241826574591]}, \"tinfo\": {\"Term\": [\"cozy\", \"private\", \".\", \"apartment\", \"1\", \"studio\", \",\", \"the\", \"east\", \"bedroom\", \"in\", \"of\", \"park\", \"/\", \"spacious\", \"with\", \"room\", \"2\", \"-\", \"manhattan\", \"near\", \"!\", \"to\", \"sunny\", \"&\", \"and\", \"apt\", \"brooklyn\", \"east\", \"1\", \"spacious\", \"bedroom\", \"-\", \"sunny\", \",\", \"to\", \"2\", \"and\", \"apt\", \"in\", \"apartment\", \"brooklyn\", \"!\", \"&\", \"/\", \"manhattan\", \"studio\", \"room\", \"with\", \"near\", \".\", \"the\", \"cozy\", \"park\", \"private\", \"of\", \"private\", \".\", \"studio\", \"!\", \"manhattan\", \"brooklyn\", \"with\", \"room\", \"to\", \"/\", \"in\", \"cozy\", \"&\", \"bedroom\", \"-\", \"and\", \"2\", \"apt\", \",\", \"near\", \"of\", \"sunny\", \"the\", \"spacious\", \"apartment\", \"park\", \"1\", \"east\", \"of\", \"the\", \"apartment\", \"near\", \"manhattan\", \"in\", \"&\", \"room\", \"apt\", \"park\", \"sunny\", \"brooklyn\", \"to\", \"and\", \".\", \"!\", \"private\", \"-\", \"spacious\", \"bedroom\", \",\", \"/\", \"with\", \"east\", \"studio\", \"cozy\", \"1\", \"2\", \"cozy\", \"park\", \"/\", \"with\", \"2\", \",\", \"and\", \"near\", \"!\", \"&\", \"room\", \"apt\", \"-\", \"sunny\", \"brooklyn\", \"the\", \"spacious\", \"bedroom\", \"in\", \"studio\", \"1\", \"private\", \"apartment\", \"manhattan\", \"of\", \"east\", \"to\", \".\"], \"Freq\": [137.0, 143.0, 114.0, 129.0, 81.0, 93.0, 192.0, 76.0, 64.0, 163.0, 352.0, 61.0, 79.0, 100.0, 83.0, 75.0, 202.0, 68.0, 148.0, 79.0, 56.0, 100.0, 106.0, 66.0, 65.0, 68.0, 97.0, 92.0, 62.61389587734908, 77.43791780554712, 68.67748115142214, 119.73392713544821, 93.60748743968499, 34.61117081640259, 98.87323008600103, 41.15901196961803, 22.71882140020294, 22.165560677566177, 31.159416197609584, 99.02107566755797, 36.230684578207516, 18.496544970099325, 16.518747230035785, 9.417541853595802, 8.368749530523292, 5.740897985872817, 4.880236344105819, 10.48122741044118, 3.1759065633286636, 1.6749398915924765, 2.510430962491324, 1.3896310268554317, 2.4322479539705038, 1.2256562559178639, 1.4560359397580984, 0.4546691614709404, 131.52269614984647, 104.43640600328828, 83.44399778272998, 48.19696830982645, 33.093415817823406, 36.60489025345642, 29.555537851905726, 70.46989268283646, 36.83710035009412, 30.9191475598606, 77.83262298744756, 26.7520373751974, 12.597042171278195, 27.562000515815154, 23.315335182251705, 9.38382677776705, 8.417155019063944, 11.59260748003472, 20.919130636062526, 5.823429032876096, 5.125680109305953, 2.003340917168214, 2.1302078977972583, 2.148764669241886, 2.127446123457285, 0.8415095734073994, 0.7116146807807889, 0.3083442482692865, 55.51459068022474, 65.02793511856959, 88.94255526008133, 32.07097911553554, 39.644316701182824, 158.8313875243632, 25.921873688287494, 73.37734424956697, 32.33341594194771, 26.075020076863687, 19.390796203357105, 25.70759172514331, 27.409208031522635, 12.78139426582154, 6.756865201673652, 5.767375809812227, 7.5967181708743645, 7.309581559234461, 3.809142597352126, 3.608596093146919, 2.9733288316441557, 1.5235099156348233, 1.1177903956204955, 0.9066442413074165, 1.0682482730089107, 1.0320082812560105, 0.3862902706208081, 0.2614228141555173, 106.93608807392529, 51.64077775814869, 59.927691043513114, 41.50113736479422, 37.130385343255, 69.42622662283694, 24.587102172775317, 17.054475413227177, 29.88300431414314, 17.58751126001546, 48.66587240993988, 22.209251376450542, 24.6904948060079, 10.434397271516222, 11.912051405592575, 8.2416625985795, 8.70577100878304, 12.384073748276222, 16.520944021686716, 3.6913923944594362, 2.654112560594728, 3.282649874809667, 2.449822758156015, 0.8817373245588913, 0.6339639136236529, 0.46542902514123796, 0.7293362467003586, 0.7214523248362104], \"Total\": [137.0, 143.0, 114.0, 129.0, 81.0, 93.0, 192.0, 76.0, 64.0, 163.0, 352.0, 61.0, 79.0, 100.0, 83.0, 75.0, 202.0, 68.0, 148.0, 79.0, 56.0, 100.0, 106.0, 66.0, 65.0, 68.0, 97.0, 92.0, 64.29431339206702, 81.18993531754343, 83.3411594267992, 163.2885974926865, 148.92289898717905, 66.43970520844414, 192.19191617654465, 106.13465659793515, 68.5277845766774, 68.91788389393008, 97.29469099604256, 352.20603020105546, 129.75050871990214, 92.72107835429163, 100.36609566381759, 65.52396897317695, 100.73909804953183, 79.36036782943795, 93.08387479430415, 202.99433675278448, 75.35037217564911, 56.623823453231296, 114.42515449228947, 76.78943664180177, 137.1523816843492, 79.78296366433764, 143.8581001352886, 61.72890386462529, 143.8581001352886, 114.42515449228947, 93.08387479430415, 100.36609566381759, 79.36036782943795, 92.72107835429163, 75.35037217564911, 202.99433675278448, 106.13465659793515, 100.73909804953183, 352.20603020105546, 137.1523816843492, 65.52396897317695, 163.2885974926865, 148.92289898717905, 68.91788389393008, 68.5277845766774, 97.29469099604256, 192.19191617654465, 56.623823453231296, 61.72890386462529, 66.43970520844414, 76.78943664180177, 83.3411594267992, 129.75050871990214, 79.78296366433764, 81.18993531754343, 64.29431339206702, 61.72890386462529, 76.78943664180177, 129.75050871990214, 56.623823453231296, 79.36036782943795, 352.20603020105546, 65.52396897317695, 202.99433675278448, 97.29469099604256, 79.78296366433764, 66.43970520844414, 92.72107835429163, 106.13465659793515, 68.91788389393008, 114.42515449228947, 100.36609566381759, 143.8581001352886, 148.92289898717905, 83.3411594267992, 163.2885974926865, 192.19191617654465, 100.73909804953183, 75.35037217564911, 64.29431339206702, 93.08387479430415, 137.1523816843492, 81.18993531754343, 68.5277845766774, 137.1523816843492, 79.78296366433764, 100.73909804953183, 75.35037217564911, 68.5277845766774, 192.19191617654465, 68.91788389393008, 56.623823453231296, 100.36609566381759, 65.52396897317695, 202.99433675278448, 97.29469099604256, 148.92289898717905, 66.43970520844414, 92.72107835429163, 76.78943664180177, 83.3411594267992, 163.2885974926865, 352.20603020105546, 93.08387479430415, 81.18993531754343, 143.8581001352886, 129.75050871990214, 79.36036782943795, 61.72890386462529, 64.29431339206702, 106.13465659793515, 114.42515449228947], \"Category\": [\"Default\", \"Default\", \"Default\", \"Default\", \"Default\", \"Default\", \"Default\", \"Default\", \"Default\", \"Default\", \"Default\", \"Default\", \"Default\", \"Default\", \"Default\", \"Default\", \"Default\", \"Default\", \"Default\", \"Default\", \"Default\", \"Default\", \"Default\", \"Default\", \"Default\", \"Default\", \"Default\", \"Default\", \"Topic1\", \"Topic1\", \"Topic1\", \"Topic1\", \"Topic1\", \"Topic1\", \"Topic1\", \"Topic1\", \"Topic1\", \"Topic1\", \"Topic1\", \"Topic1\", \"Topic1\", \"Topic1\", \"Topic1\", \"Topic1\", \"Topic1\", \"Topic1\", \"Topic1\", \"Topic1\", \"Topic1\", \"Topic1\", \"Topic1\", \"Topic1\", \"Topic1\", \"Topic1\", \"Topic1\", \"Topic1\", \"Topic2\", \"Topic2\", \"Topic2\", \"Topic2\", \"Topic2\", \"Topic2\", \"Topic2\", \"Topic2\", \"Topic2\", \"Topic2\", \"Topic2\", \"Topic2\", \"Topic2\", \"Topic2\", \"Topic2\", \"Topic2\", \"Topic2\", \"Topic2\", \"Topic2\", \"Topic2\", \"Topic2\", \"Topic2\", \"Topic2\", \"Topic2\", \"Topic2\", \"Topic2\", \"Topic2\", \"Topic2\", \"Topic3\", \"Topic3\", \"Topic3\", \"Topic3\", \"Topic3\", \"Topic3\", \"Topic3\", \"Topic3\", \"Topic3\", \"Topic3\", \"Topic3\", \"Topic3\", \"Topic3\", \"Topic3\", \"Topic3\", \"Topic3\", \"Topic3\", \"Topic3\", \"Topic3\", \"Topic3\", \"Topic3\", \"Topic3\", \"Topic3\", \"Topic3\", \"Topic3\", \"Topic3\", \"Topic3\", \"Topic3\", \"Topic4\", \"Topic4\", \"Topic4\", \"Topic4\", \"Topic4\", \"Topic4\", \"Topic4\", \"Topic4\", \"Topic4\", \"Topic4\", \"Topic4\", \"Topic4\", \"Topic4\", \"Topic4\", \"Topic4\", \"Topic4\", \"Topic4\", \"Topic4\", \"Topic4\", \"Topic4\", \"Topic4\", \"Topic4\", \"Topic4\", \"Topic4\", \"Topic4\", \"Topic4\", \"Topic4\", \"Topic4\"], \"logprob\": [28.0, 27.0, 26.0, 25.0, 24.0, 23.0, 22.0, 21.0, 20.0, 19.0, 18.0, 17.0, 16.0, 15.0, 14.0, 13.0, 12.0, 11.0, 10.0, 9.0, 8.0, 7.0, 6.0, 5.0, 4.0, 3.0, 2.0, 1.0, -2.6612000465393066, -2.448699951171875, -2.5687999725341797, -2.0129001140594482, -2.2590999603271484, -3.253999948501587, -2.204400062561035, -3.0808000564575195, -3.674999952316284, -3.699700117111206, -3.359100103378296, -2.202899932861328, -3.2083001136779785, -3.8805999755859375, -3.9937000274658203, -4.555600166320801, -4.673699855804443, -5.050600051879883, -5.2129998207092285, -4.448599815368652, -5.642600059509277, -6.282400131225586, -5.877699851989746, -6.469200134277344, -5.90939998626709, -6.594699859619141, -6.422500133514404, -7.586400032043457, -1.8597999811172485, -2.090399980545044, -2.3148000240325928, -2.8636999130249023, -3.2395999431610107, -3.1387999057769775, -3.3526999950408936, -2.483799934387207, -3.1324000358581543, -3.3076000213623047, -2.384399890899658, -3.4523000717163086, -4.20550012588501, -3.422499895095825, -3.5897998809814453, -4.5, -4.608699798583984, -4.288599967956543, -3.6982998847961426, -4.977099895477295, -5.104700088500977, -6.044099807739258, -5.982699871063232, -5.974100112915039, -5.984000205993652, -6.911499977111816, -7.07919979095459, -7.915500164031982, -2.572499990463257, -2.414299964904785, -2.101099967956543, -3.1212000846862793, -2.9091999530792236, -1.521299958229065, -3.3340001106262207, -2.2934999465942383, -3.11299991607666, -3.3280999660491943, -3.624300003051758, -3.3422999382019043, -3.2781999111175537, -4.041100025177002, -4.678599834442139, -4.836900234222412, -4.561399936676025, -4.599899768829346, -5.251699924468994, -5.305799961090088, -5.4994001388549805, -6.168099880218506, -6.477799892425537, -6.687099933624268, -6.523099899291992, -6.557600021362305, -7.540299892425537, -7.930699825286865, -1.7812999486923218, -2.509200096130371, -2.3603999614715576, -2.727799892425537, -2.839099884033203, -2.2132999897003174, -3.251300096511841, -3.6171000003814697, -3.056299924850464, -3.586400032043457, -2.5685999393463135, -3.3529999256134033, -3.2471001148223877, -4.108399868011475, -3.9760000705718994, -4.344299793243408, -4.289599895477295, -3.9370999336242676, -3.648900032043457, -5.147500038146973, -5.477399826049805, -5.264900207519531, -5.557499885559082, -6.579400062561035, -6.909299850463867, -7.218299865722656, -6.769199848175049, -6.78000020980835], \"loglift\": [28.0, 27.0, 26.0, 25.0, 24.0, 23.0, 22.0, 21.0, 20.0, 19.0, 18.0, 17.0, 16.0, 15.0, 14.0, 13.0, 12.0, 11.0, 10.0, 9.0, 8.0, 7.0, 6.0, 5.0, 4.0, 3.0, 2.0, 1.0, 1.2154, 1.1946, 1.0484, 0.9317, 0.7776, 0.5898, 0.5773, 0.2947, 0.1379, 0.1075, 0.1033, -0.027, -0.0338, -0.3701, -0.5624, -0.6979, -1.2461, -1.3845, -1.7064, -1.7217, -1.9246, -2.2787, -2.5775, -2.7701, -2.7904, -2.9339, -3.3512, -3.669, 1.2115, 1.2098, 1.1919, 0.5676, 0.4265, 0.3718, 0.3653, 0.2432, 0.243, 0.12, -0.2085, -0.3333, -0.3478, -0.4779, -0.5531, -0.6928, -0.7958, -0.8262, -0.9167, -0.9734, -1.1873, -2.2003, -2.2837, -2.3569, -2.8095, -3.2507, -3.4358, -4.0388, 1.3449, 1.2847, 1.0734, 0.8825, 0.7569, 0.6546, 0.5237, 0.4334, 0.3494, 0.3327, 0.2195, 0.1682, 0.0972, -0.2339, -1.3784, -1.4056, -1.4901, -1.5632, -1.6345, -2.3612, -2.7178, -2.7405, -2.7598, -2.8105, -3.0165, -3.4386, -3.897, -4.1179, 1.3377, 1.1516, 1.0672, 0.9902, 0.9738, 0.5684, 0.5559, 0.3866, 0.375, 0.2714, 0.1584, 0.1093, -0.2104, -0.2646, -0.4655, -0.6453, -0.6724, -0.9925, -1.473, -1.6409, -1.8341, -2.1936, -2.383, -2.9133, -2.9919, -3.3417, -3.3937, -3.4798]}, \"token.table\": {\"Topic\": [1, 2, 3, 4, 1, 2, 3, 4, 1, 2, 3, 4, 1, 2, 3, 4, 1, 2, 3, 4, 1, 2, 3, 4, 1, 2, 4, 1, 2, 4, 1, 2, 3, 4, 1, 2, 3, 4, 1, 2, 3, 4, 1, 2, 3, 4, 1, 2, 3, 4, 1, 2, 3, 4, 1, 3, 1, 2, 3, 4, 1, 2, 3, 4, 1, 2, 3, 4, 2, 3, 4, 1, 2, 3, 4, 1, 2, 3, 4, 1, 2, 3, 4, 1, 2, 3, 4, 1, 2, 3, 4, 1, 2, 3, 4, 1, 2, 3, 4, 1, 2, 3, 4, 1, 2, 3, 4], \"Freq\": [0.16937990750325235, 0.4782491505974184, 0.0597811438246773, 0.2989057191233865, 0.1373543169169783, 0.19840067999119088, 0.39680135998238175, 0.2747086338339566, 0.5151101147722574, 0.10926578192138794, 0.015609397417341134, 0.3590161405988461, 0.6311991012751677, 0.1544423332907325, 0.04700418839283164, 0.16787210140297013, 0.026218011356953466, 0.9088910603743868, 0.06117535983289142, 0.008739337118984489, 0.07941305962523633, 0.30772560604779076, 0.019853264906309082, 0.5955979471892725, 0.9483934147606339, 0.012316797594293947, 0.03695039278288184, 0.3356302869278481, 0.11674096936620804, 0.5399269833187121, 0.31922048033076134, 0.13059019649894782, 0.18863028383181352, 0.3627505458304106, 0.27745555955942114, 0.015414197753301174, 0.6859318000219022, 0.015414197753301174, 0.3186196459708261, 0.1233366371499972, 0.32889769906665917, 0.2261171681083282, 0.7348951601190319, 0.17147553736110743, 0.024496505337301064, 0.07348951601190319, 0.19413061538414325, 0.39904626495629447, 0.2804108888882069, 0.1294204102560955, 0.014582320594351189, 0.19686132802374104, 0.0072911602971755946, 0.7801541517977886, 0.9798689289335077, 0.015553475062436631, 0.2810854769961952, 0.22146128490609318, 0.4514403115393438, 0.048267203120558766, 0.0756044882868393, 0.41582468557761615, 0.504029921912262, 0.01260074804780655, 0.03532082219159766, 0.10596246657479298, 0.5651331550655626, 0.3002269886285801, 0.08099933235434184, 0.9071925223686286, 0.01619986647086837, 0.012534004179227953, 0.012534004179227953, 0.3258841086599268, 0.6517682173198536, 0.006951294359230166, 0.9175708554183819, 0.055610354873841326, 0.020853883077690497, 0.04926245805654393, 0.34483720639580756, 0.35961594381277073, 0.24138604447706527, 0.8279222472373279, 0.02399774629673414, 0.04799549259346828, 0.10798985833530364, 0.053714996405649765, 0.8916689403337861, 0.010742999281129952, 0.04297199712451981, 0.5267934270658335, 0.03010248154661906, 0.2859735746928811, 0.1505124077330953, 0.013022624513638262, 0.026045249027276524, 0.8464705933864871, 0.1041809961091061, 0.3863017162746222, 0.3486137439551468, 0.2543938131564585, 0.009421993079868834, 0.039814003745153446, 0.3981400374515345, 0.013271334581717815, 0.5573960524321483], \"Term\": [\"!\", \"!\", \"!\", \"!\", \"&\", \"&\", \"&\", \"&\", \",\", \",\", \",\", \",\", \"-\", \"-\", \"-\", \"-\", \".\", \".\", \".\", \".\", \"/\", \"/\", \"/\", \"/\", \"1\", \"1\", \"1\", \"2\", \"2\", \"2\", \"and\", \"and\", \"and\", \"and\", \"apartment\", \"apartment\", \"apartment\", \"apartment\", \"apt\", \"apt\", \"apt\", \"apt\", \"bedroom\", \"bedroom\", \"bedroom\", \"bedroom\", \"brooklyn\", \"brooklyn\", \"brooklyn\", \"brooklyn\", \"cozy\", \"cozy\", \"cozy\", \"cozy\", \"east\", \"east\", \"in\", \"in\", \"in\", \"in\", \"manhattan\", \"manhattan\", \"manhattan\", \"manhattan\", \"near\", \"near\", \"near\", \"near\", \"of\", \"of\", \"of\", \"park\", \"park\", \"park\", \"park\", \"private\", \"private\", \"private\", \"private\", \"room\", \"room\", \"room\", \"room\", \"spacious\", \"spacious\", \"spacious\", \"spacious\", \"studio\", \"studio\", \"studio\", \"studio\", \"sunny\", \"sunny\", \"sunny\", \"sunny\", \"the\", \"the\", \"the\", \"the\", \"to\", \"to\", \"to\", \"to\", \"with\", \"with\", \"with\", \"with\"]}, \"R\": 28, \"lambda.step\": 0.01, \"plot.opts\": {\"xlab\": \"PC1\", \"ylab\": \"PC2\"}, \"topic.order\": [2, 4, 1, 3]};\n",
       "\n",
       "function LDAvis_load_lib(url, callback){\n",
       "  var s = document.createElement('script');\n",
       "  s.src = url;\n",
       "  s.async = true;\n",
       "  s.onreadystatechange = s.onload = callback;\n",
       "  s.onerror = function(){console.warn(\"failed to load library \" + url);};\n",
       "  document.getElementsByTagName(\"head\")[0].appendChild(s);\n",
       "}\n",
       "\n",
       "if(typeof(LDAvis) !== \"undefined\"){\n",
       "   // already loaded: just create the visualization\n",
       "   !function(LDAvis){\n",
       "       new LDAvis(\"#\" + \"ldavis_el652811406803464185289133716546\", ldavis_el652811406803464185289133716546_data);\n",
       "   }(LDAvis);\n",
       "}else if(typeof define === \"function\" && define.amd){\n",
       "   // require.js is available: use it to load d3/LDAvis\n",
       "   require.config({paths: {d3: \"https://cdnjs.cloudflare.com/ajax/libs/d3/3.5.5/d3.min\"}});\n",
       "   require([\"d3\"], function(d3){\n",
       "      window.d3 = d3;\n",
       "      LDAvis_load_lib(\"https://cdn.rawgit.com/bmabey/pyLDAvis/files/ldavis.v1.0.0.js\", function(){\n",
       "        new LDAvis(\"#\" + \"ldavis_el652811406803464185289133716546\", ldavis_el652811406803464185289133716546_data);\n",
       "      });\n",
       "    });\n",
       "}else{\n",
       "    // require.js not available: dynamically load d3 & LDAvis\n",
       "    LDAvis_load_lib(\"https://cdnjs.cloudflare.com/ajax/libs/d3/3.5.5/d3.min.js\", function(){\n",
       "         LDAvis_load_lib(\"https://cdn.rawgit.com/bmabey/pyLDAvis/files/ldavis.v1.0.0.js\", function(){\n",
       "                 new LDAvis(\"#\" + \"ldavis_el652811406803464185289133716546\", ldavis_el652811406803464185289133716546_data);\n",
       "            })\n",
       "         });\n",
       "}\n",
       "</script>"
      ],
      "text/plain": [
       "<IPython.core.display.HTML object>"
      ]
     },
     "execution_count": 18,
     "metadata": {},
     "output_type": "execute_result"
    }
   ],
   "source": [
    "\n",
    "lda_display = gensimvis.prepare(ldamod, corpus_fromdict, text_raw_dict)\n",
    "pyLDAvis.display(lda_display)"
   ]
  },
  {
   "cell_type": "markdown",
   "metadata": {},
   "source": [
    "## 3.4 Activity 3\n",
    "\n",
    "- Preprocess the texts\n",
    "- Repeat the preprocessing steps and running of the topic model with preprocessed texts (can also play around with other parameters like n_topics)- what seems to produce useful topics?\n",
    "\n"
   ]
  },
  {
   "cell_type": "code",
   "execution_count": 19,
   "metadata": {},
   "outputs": [],
   "source": [
    "# your code here\n",
    "ab_small = ab_small[ab_small.processed != \"\"].copy()\n",
    "\n",
    "tokenized_text = [wordpunct_tokenize(one_text) \n",
    "                for one_text in \n",
    "                ab_small.processed]\n"
   ]
  },
  {
   "cell_type": "code",
   "execution_count": 20,
   "metadata": {},
   "outputs": [],
   "source": [
    "## preprocess and estimate topicmod\n",
    "### create dictionary\n",
    "text_proc_dict = corpora.Dictionary(tokenized_text)\n",
    "### filter dictionary- using 2% as bounds\n",
    "text_proc_dict.filter_extremes(no_below = round(ab_small.shape[0]*0.02),\n",
    "                             no_above = round(ab_small.shape[0]*0.98))\n",
    "\n",
    "### create corpus from dictionary\n",
    "corpus_fromdict_proc = [text_proc_dict.doc2bow(one_text) \n",
    "                       for one_text in tokenized_text]\n"
   ]
  },
  {
   "cell_type": "code",
   "execution_count": 21,
   "metadata": {},
   "outputs": [
    {
     "name": "stdout",
     "output_type": "stream",
     "text": [
      "(0, '0.161*\"room\" + 0.122*\"bedroom\" + 0.113*\"privat\" + 0.072*\"cozi\" + 0.063*\"spaciou\" + 0.048*\"park\" + 0.037*\"near\" + 0.036*\"home\" + 0.031*\"larg\" + 0.030*\"beauti\" + 0.028*\"view\" + 0.028*\"central\" + 0.025*\"charm\" + 0.024*\"luxuri\" + 0.024*\"bushwick\"')\n",
      "(1, '0.132*\"east\" + 0.099*\"villag\" + 0.098*\"modern\" + 0.093*\"williamsburg\" + 0.072*\"brownston\" + 0.062*\"quiet\" + 0.058*\"garden\" + 0.047*\"harlem\" + 0.043*\"suit\" + 0.035*\"bright\" + 0.031*\"beauti\" + 0.026*\"loft\" + 0.026*\"near\" + 0.025*\"cozi\" + 0.021*\"studio\"')\n",
      "(2, '0.112*\"studio\" + 0.089*\"sunni\" + 0.062*\"cozi\" + 0.060*\"heart\" + 0.053*\"locat\" + 0.051*\"west\" + 0.044*\"side\" + 0.041*\"upper\" + 0.040*\"close\" + 0.039*\"train\" + 0.039*\"prime\" + 0.036*\"midtown\" + 0.033*\"time\" + 0.033*\"park\" + 0.031*\"loft\"')\n"
     ]
    }
   ],
   "source": [
    "### estimate model\n",
    "n_topics = 3\n",
    "ldamod_proc = gensim.models.ldamodel.LdaModel(corpus_fromdict_proc, \n",
    "                                         num_topics = n_topics, id2word=text_proc_dict, \n",
    "                                         passes=6, alpha = 'auto',\n",
    "                                        per_word_topics = True, random_state = 91988)\n",
    "\n",
    "### print topics and words\n",
    "topics = ldamod_proc.print_topics(num_words = 15)\n",
    "for topic in topics:\n",
    "    print(topic)\n",
    "    "
   ]
  },
  {
   "cell_type": "code",
   "execution_count": 22,
   "metadata": {},
   "outputs": [
    {
     "data": {
      "text/html": [
       "\n",
       "<link rel=\"stylesheet\" type=\"text/css\" href=\"https://cdn.rawgit.com/bmabey/pyLDAvis/files/ldavis.v1.0.0.css\">\n",
       "\n",
       "\n",
       "<div id=\"ldavis_el652811406803464187527151880908\"></div>\n",
       "<script type=\"text/javascript\">\n",
       "\n",
       "var ldavis_el652811406803464187527151880908_data = {\"mdsDat\": {\"x\": [0.1991746528078695, 0.010279971484483277, -0.20945462429235284], \"y\": [0.10291739885873552, -0.1913902640046349, 0.08847286514589921], \"topics\": [1, 2, 3], \"cluster\": [1, 1, 1], \"Freq\": [54.58627663404663, 27.64609303249007, 17.7676303334633]}, \"tinfo\": {\"Term\": [\"east\", \"modern\", \"villag\", \"williamsburg\", \"sunni\", \"studio\", \"room\", \"brownston\", \"quiet\", \"garden\", \"privat\", \"west\", \"heart\", \"locat\", \"harlem\", \"side\", \"suit\", \"close\", \"train\", \"prime\", \"bedroom\", \"upper\", \"midtown\", \"time\", \"loft\", \"spaciou\", \"clean\", \"home\", \"bright\", \"near\", \"home\", \"larg\", \"room\", \"privat\", \"citi\", \"view\", \"spaciou\", \"charm\", \"great\", \"bedroom\", \"huge\", \"bushwick\", \"near\", \"park\", \"luxuri\", \"central\", \"beauti\", \"cozi\", \"bright\", \"subway\", \"suit\", \"harlem\", \"studio\", \"williamsburg\", \"loft\", \"sunni\", \"locat\", \"garden\", \"close\", \"train\", \"heart\", \"villag\", \"east\", \"west\", \"train\", \"prime\", \"close\", \"side\", \"time\", \"heart\", \"upper\", \"locat\", \"clean\", \"sunni\", \"midtown\", \"studio\", \"loft\", \"subway\", \"cozi\", \"luxuri\", \"central\", \"park\", \"east\", \"villag\", \"bedroom\", \"bright\", \"modern\", \"beauti\", \"huge\", \"williamsburg\", \"spaciou\", \"citi\", \"privat\", \"room\", \"near\", \"quiet\", \"brownston\", \"garden\", \"modern\", \"villag\", \"east\", \"williamsburg\", \"harlem\", \"suit\", \"bright\", \"loft\", \"beauti\", \"near\", \"midtown\", \"clean\", \"subway\", \"upper\", \"bushwick\", \"heart\", \"studio\", \"great\", \"time\", \"cozi\", \"side\", \"view\", \"locat\", \"charm\", \"central\", \"huge\", \"larg\", \"luxuri\", \"room\", \"bedroom\", \"privat\"], \"Freq\": [66.0, 41.0, 46.0, 48.0, 65.0, 93.0, 201.0, 28.0, 24.0, 23.0, 141.0, 31.0, 40.0, 37.0, 26.0, 28.0, 26.0, 25.0, 24.0, 24.0, 162.0, 28.0, 26.0, 21.0, 34.0, 80.0, 20.0, 43.0, 42.0, 55.0, 42.10604994026524, 36.72693848920475, 189.34280454260875, 132.49090375679077, 23.195602106524486, 33.00403414025893, 74.36016103853048, 29.80889782398275, 22.4453612085728, 143.08667815116115, 22.980200988280505, 28.167215643093833, 43.28126644617816, 56.368777266532526, 28.633416072753146, 32.68452313916338, 35.733542167600206, 84.53498892322108, 24.595023244663068, 13.024002103890167, 9.306308400545559, 7.708009173704059, 18.594358716441363, 9.515846720446907, 6.493069989508384, 11.46533074657153, 3.9276759255321347, 1.211431808107357, 1.1695631910874453, 0.9338210041171993, 1.3124519118361269, 1.4001106937578227, 1.4601268308765787, 30.46591730481617, 23.25302683395093, 23.11821392201913, 24.008633287816735, 26.46398733212827, 19.717102247404863, 35.602346093153095, 24.632273457432927, 31.61527986906472, 17.140898643875616, 53.138203225640716, 21.34992078044294, 66.63534849187141, 18.304936217758804, 10.974658992566944, 37.09112793002238, 10.732461381218371, 12.040509005769428, 19.690556667107984, 14.584048555851814, 7.025559831724176, 16.98448067161018, 4.419811641257442, 3.535566815184685, 4.288200075238901, 2.124777747310403, 3.6756436013357487, 5.567838877329413, 1.4700478292603534, 7.610957046137264, 8.689825051885588, 2.3657954625711235, 23.585646619920077, 27.454675986844123, 22.160822594965055, 37.362611612498654, 37.76666294925904, 50.47984832721154, 35.656262537520625, 17.987498210266054, 16.529235611460226, 13.415185652856799, 10.000515323442647, 11.911767707811892, 9.946204754835017, 4.68914456839944, 3.2491970522346465, 3.4231673261857103, 3.290516138395439, 3.1680612040263014, 3.571347286637342, 8.220366493996602, 1.975650215655525, 1.611150923656529, 9.73804206926272, 1.5841372738036659, 1.945754822030471, 1.842471555483058, 1.366602633044297, 1.8375248741740753, 0.9780970151327267, 1.4158611864093327, 1.362804278911636, 3.3919681464120375, 2.0112851937816, 1.5418320979138316], \"Total\": [66.0, 41.0, 46.0, 48.0, 65.0, 93.0, 201.0, 28.0, 24.0, 23.0, 141.0, 31.0, 40.0, 37.0, 26.0, 28.0, 26.0, 25.0, 24.0, 24.0, 162.0, 28.0, 26.0, 21.0, 34.0, 80.0, 20.0, 43.0, 42.0, 55.0, 43.33383856251651, 38.57852113155707, 201.42459774090636, 141.64369290084187, 25.064446349005458, 35.74029588755734, 80.97889748473392, 32.832437192983434, 25.163396505435752, 162.08244401655293, 26.083075750723633, 31.979853927256396, 55.593266663584295, 77.4756274262109, 40.72868173288316, 46.56255701910688, 51.933509950651, 131.3641589225062, 42.43002053877731, 27.42182842264282, 26.21946623250861, 26.331754275600936, 93.45007370230938, 48.847752859303284, 34.798521530709834, 65.70089165456903, 37.385427350079915, 23.74620249786883, 25.569196531014104, 24.591632231221695, 40.48614529162656, 46.19233347474104, 66.52402371393993, 31.495696539771355, 24.591632231221695, 24.60561077991241, 25.569196531014104, 28.59641483042115, 21.715648922570555, 40.48614529162656, 28.680104021907546, 37.385427350079915, 20.81602322786297, 65.70089165456903, 26.785460532219417, 93.45007370230938, 34.798521530709834, 27.42182842264282, 131.3641589225062, 40.72868173288316, 46.56255701910688, 77.4756274262109, 66.52402371393993, 46.19233347474104, 162.08244401655293, 42.43002053877731, 41.27638348377232, 51.933509950651, 26.083075750723633, 48.847752859303284, 80.97889748473392, 25.064446349005458, 141.64369290084187, 201.42459774090636, 55.593266663584295, 24.817974228291373, 28.952090169942853, 23.74620249786883, 41.27638348377232, 46.19233347474104, 66.52402371393993, 48.847752859303284, 26.331754275600936, 26.21946623250861, 42.43002053877731, 34.798521530709834, 51.933509950651, 55.593266663584295, 26.785460532219417, 20.81602322786297, 27.42182842264282, 28.680104021907546, 31.979853927256396, 40.48614529162656, 93.45007370230938, 25.163396505435752, 21.715648922570555, 131.3641589225062, 28.59641483042115, 35.74029588755734, 37.385427350079915, 32.832437192983434, 46.56255701910688, 26.083075750723633, 38.57852113155707, 40.72868173288316, 201.42459774090636, 162.08244401655293, 141.64369290084187], \"Category\": [\"Default\", \"Default\", \"Default\", \"Default\", \"Default\", \"Default\", \"Default\", \"Default\", \"Default\", \"Default\", \"Default\", \"Default\", \"Default\", \"Default\", \"Default\", \"Default\", \"Default\", \"Default\", \"Default\", \"Default\", \"Default\", \"Default\", \"Default\", \"Default\", \"Default\", \"Default\", \"Default\", \"Default\", \"Default\", \"Default\", \"Topic1\", \"Topic1\", \"Topic1\", \"Topic1\", \"Topic1\", \"Topic1\", \"Topic1\", \"Topic1\", \"Topic1\", \"Topic1\", \"Topic1\", \"Topic1\", \"Topic1\", \"Topic1\", \"Topic1\", \"Topic1\", \"Topic1\", \"Topic1\", \"Topic1\", \"Topic1\", \"Topic1\", \"Topic1\", \"Topic1\", \"Topic1\", \"Topic1\", \"Topic1\", \"Topic1\", \"Topic1\", \"Topic1\", \"Topic1\", \"Topic1\", \"Topic1\", \"Topic1\", \"Topic2\", \"Topic2\", \"Topic2\", \"Topic2\", \"Topic2\", \"Topic2\", \"Topic2\", \"Topic2\", \"Topic2\", \"Topic2\", \"Topic2\", \"Topic2\", \"Topic2\", \"Topic2\", \"Topic2\", \"Topic2\", \"Topic2\", \"Topic2\", \"Topic2\", \"Topic2\", \"Topic2\", \"Topic2\", \"Topic2\", \"Topic2\", \"Topic2\", \"Topic2\", \"Topic2\", \"Topic2\", \"Topic2\", \"Topic2\", \"Topic2\", \"Topic2\", \"Topic3\", \"Topic3\", \"Topic3\", \"Topic3\", \"Topic3\", \"Topic3\", \"Topic3\", \"Topic3\", \"Topic3\", \"Topic3\", \"Topic3\", \"Topic3\", \"Topic3\", \"Topic3\", \"Topic3\", \"Topic3\", \"Topic3\", \"Topic3\", \"Topic3\", \"Topic3\", \"Topic3\", \"Topic3\", \"Topic3\", \"Topic3\", \"Topic3\", \"Topic3\", \"Topic3\", \"Topic3\", \"Topic3\", \"Topic3\", \"Topic3\", \"Topic3\", \"Topic3\", \"Topic3\"], \"logprob\": [30.0, 29.0, 28.0, 27.0, 26.0, 25.0, 24.0, 23.0, 22.0, 21.0, 20.0, 19.0, 18.0, 17.0, 16.0, 15.0, 14.0, 13.0, 12.0, 11.0, 10.0, 9.0, 8.0, 7.0, 6.0, 5.0, 4.0, 3.0, 2.0, 1.0, -3.330399990081787, -3.467099905014038, -1.8271000385284424, -2.1840999126434326, -3.9267001152038574, -3.5739998817443848, -2.761699914932251, -3.675800085067749, -3.9595000743865967, -2.1071999073028564, -3.936000108718872, -3.7325000762939453, -3.3029000759124756, -3.0387001037597656, -3.7160000801086426, -3.583699941635132, -3.494499921798706, -2.633500099182129, -3.8680999279022217, -4.503799915313721, -4.839900016784668, -5.02839994430542, -4.147799968719482, -4.817699909210205, -5.199900150299072, -4.63129997253418, -5.702600002288818, -6.878799915313721, -6.914000034332275, -7.139100074768066, -6.798699855804443, -6.734099864959717, -6.6921000480651855, -2.9737000465393066, -3.2439000606536865, -3.2497000694274902, -3.211899995803833, -3.114500045776367, -3.408799886703491, -2.8178999423980713, -3.186300039291382, -2.9367001056671143, -3.5488998889923096, -2.4173998832702637, -3.3292999267578125, -2.1910998821258545, -3.4832000732421875, -3.9946999549865723, -2.776900053024292, -4.017099857330322, -3.9019999504089355, -3.4102001190185547, -3.710400104522705, -4.440800189971924, -3.558000087738037, -4.904200077056885, -5.127500057220459, -4.934500217437744, -5.63670015335083, -5.088600158691406, -4.673299789428711, -6.005000114440918, -4.3607001304626465, -4.2281999588012695, -5.529200077056885, -2.787600040435791, -2.635699987411499, -2.849900007247925, -2.327500104904175, -2.316800117492676, -2.026599884033203, -2.374300003051758, -3.058500051498413, -3.1431000232696533, -3.351799964904785, -3.6456000804901123, -3.4707000255584717, -3.6510000228881836, -4.4029998779296875, -4.769800186157227, -4.717700004577637, -4.757199764251709, -4.795100212097168, -4.675300121307373, -3.841599941253662, -5.267300128936768, -5.47130012512207, -3.6721999645233154, -5.4882001876831055, -5.282599925994873, -5.337100028991699, -5.635900020599365, -5.339799880981445, -5.970399856567383, -5.600500106811523, -5.638700008392334, -4.726799964904785, -5.2494001388549805, -5.515200138092041], \"loglift\": [30.0, 29.0, 28.0, 27.0, 26.0, 25.0, 24.0, 23.0, 22.0, 21.0, 20.0, 19.0, 18.0, 17.0, 16.0, 15.0, 14.0, 13.0, 12.0, 11.0, 10.0, 9.0, 8.0, 7.0, 6.0, 5.0, 4.0, 3.0, 2.0, 1.0, 0.5766, 0.5562, 0.5435, 0.5386, 0.5279, 0.5257, 0.5201, 0.5088, 0.4911, 0.4807, 0.4787, 0.4784, 0.355, 0.2873, 0.253, 0.2515, 0.2315, 0.1646, 0.0601, -0.1392, -0.4304, -0.6231, -1.0092, -1.0304, -1.0735, -1.1404, -1.6478, -2.3702, -2.4794, -2.6655, -2.8237, -2.8909, -3.2137, 1.2524, 1.2297, 1.2233, 1.2227, 1.2082, 1.1891, 1.1571, 1.1335, 1.118, 1.0914, 1.0735, 1.0589, 0.9475, 0.6433, 0.3699, 0.0211, -0.048, -0.0668, -0.0841, -0.2319, -0.5976, -0.9701, -0.9761, -1.1717, -1.2084, -1.2219, -1.3013, -1.3915, -1.5505, -1.638, -1.8576, -1.8713, 1.6769, 1.6747, 1.6587, 1.6282, 1.5264, 1.4518, 1.413, 1.3467, 1.2664, 0.5763, 0.4809, 0.2554, 0.0069, -0.0148, -0.1295, -0.353, -0.4374, -0.5842, -0.7002, -0.703, -0.8167, -0.8733, -0.8741, -1.1654, -1.1828, -1.2824, -1.4513, -1.5046, -1.5556, -1.5772, -1.6696, -2.3562, -2.6615, -2.7926]}, \"token.table\": {\"Topic\": [1, 2, 3, 1, 2, 3, 1, 2, 3, 1, 2, 3, 1, 2, 3, 1, 2, 3, 1, 2, 3, 1, 2, 2, 3, 1, 2, 1, 2, 3, 1, 2, 3, 1, 3, 1, 2, 3, 1, 2, 3, 1, 2, 3, 1, 2, 3, 1, 2, 3, 1, 3, 1, 2, 3, 1, 2, 3, 1, 2, 3, 1, 2, 3, 2, 3, 1, 2, 3, 1, 2, 3, 1, 2, 3, 1, 2, 3, 1, 2, 3, 1, 2, 3, 1, 2, 3, 1, 2, 3, 1, 2, 3, 1, 2, 3, 1, 3, 1, 2, 3, 2, 3, 1, 2, 1, 2, 3, 1, 2, 3, 1, 2, 3, 2, 3, 1, 2, 3], \"Freq\": [0.6931940482014105, 0.07702156091126783, 0.23106468273380348, 0.8822670516085993, 0.10488489424717613, 0.012339399323197192, 0.5892054654357802, 0.09427287446972483, 0.3063868420266057, 0.03453982058394418, 0.03453982058394418, 0.9325751557664927, 0.8755512162028867, 0.03126968629296024, 0.09380905887888072, 0.7087239643316516, 0.25771780521150967, 0.04295296753525161, 0.9137305227651894, 0.06091536818434596, 0.03045768409217298, 0.9176344723414418, 0.039897150971367035, 0.8166785660214343, 0.144119746944959, 0.03910955898778642, 0.9386294157068741, 0.6470562495676073, 0.28165977922354674, 0.07612426465501262, 0.015032163482775814, 0.2254824522416372, 0.7516081741387907, 0.04211199664829557, 0.9264639262625025, 0.8742857902846144, 0.039740263194755196, 0.07948052638951039, 0.30381568642438755, 0.037976960803048444, 0.6835852944548719, 0.024699807620529937, 0.8891930743390777, 0.09879923048211975, 0.9692194689701393, 0.023076654023098556, 0.023076654023098556, 0.8817978454616074, 0.07667807351840066, 0.03833903675920033, 0.9590829019553618, 0.025921159512307074, 0.10699356095474591, 0.8559484876379673, 0.053496780477372954, 0.17242111837150828, 0.5172633551145248, 0.2873685306191805, 0.7120289379900612, 0.2700799419962301, 0.02455272199965728, 0.03733368701266608, 0.7840074272659877, 0.18666843506333042, 0.09690771483341284, 0.8963963622090688, 0.7734749652365119, 0.035975579778442415, 0.1798778988922121, 0.7228079572938644, 0.25814569903352297, 0.012907284951676149, 0.04064113705384556, 0.9347461522384478, 0.04064113705384556, 0.9319158325842791, 0.056479747429350254, 0.014119936857337563, 0.04029337732408655, 0.04029337732408655, 0.9670410557780772, 0.9383163830025953, 0.044681732523933114, 0.014893910841311038, 0.03496941857677173, 0.9092048829960651, 0.06993883715354346, 0.9138183193214062, 0.07409337724227617, 0.01234889620704603, 0.20331712161646442, 0.7169603762264798, 0.08560720910166923, 0.4740748793127743, 0.40114028249542444, 0.10940189522602484, 0.34325641567947757, 0.6483732296167909, 0.1674254294421745, 0.8066861600395681, 0.015220493585652228, 0.9209948121427141, 0.0920994812142714, 0.040664238575038286, 0.9352774872258806, 0.03486737702332395, 0.8716844255830988, 0.10460213106997185, 0.9233275545289666, 0.02797962286451414, 0.05595924572902828, 0.02164861406161309, 0.15154029843129163, 0.8226473343412974, 0.9525110823352436, 0.03175036941117479, 0.20471770787088422, 0.08188708314835369, 0.7369837483351832], \"Term\": [\"beauti\", \"beauti\", \"beauti\", \"bedroom\", \"bedroom\", \"bedroom\", \"bright\", \"bright\", \"bright\", \"brownston\", \"brownston\", \"brownston\", \"bushwick\", \"bushwick\", \"bushwick\", \"central\", \"central\", \"central\", \"charm\", \"charm\", \"charm\", \"citi\", \"citi\", \"clean\", \"clean\", \"close\", \"close\", \"cozi\", \"cozi\", \"cozi\", \"east\", \"east\", \"east\", \"garden\", \"garden\", \"great\", \"great\", \"great\", \"harlem\", \"harlem\", \"harlem\", \"heart\", \"heart\", \"heart\", \"home\", \"home\", \"home\", \"huge\", \"huge\", \"huge\", \"larg\", \"larg\", \"locat\", \"locat\", \"locat\", \"loft\", \"loft\", \"loft\", \"luxuri\", \"luxuri\", \"luxuri\", \"midtown\", \"midtown\", \"midtown\", \"modern\", \"modern\", \"near\", \"near\", \"near\", \"park\", \"park\", \"park\", \"prime\", \"prime\", \"prime\", \"privat\", \"privat\", \"privat\", \"quiet\", \"quiet\", \"quiet\", \"room\", \"room\", \"room\", \"side\", \"side\", \"side\", \"spaciou\", \"spaciou\", \"spaciou\", \"studio\", \"studio\", \"studio\", \"subway\", \"subway\", \"subway\", \"suit\", \"suit\", \"sunni\", \"sunni\", \"sunni\", \"time\", \"time\", \"train\", \"train\", \"upper\", \"upper\", \"upper\", \"view\", \"view\", \"view\", \"villag\", \"villag\", \"villag\", \"west\", \"west\", \"williamsburg\", \"williamsburg\", \"williamsburg\"]}, \"R\": 30, \"lambda.step\": 0.01, \"plot.opts\": {\"xlab\": \"PC1\", \"ylab\": \"PC2\"}, \"topic.order\": [1, 3, 2]};\n",
       "\n",
       "function LDAvis_load_lib(url, callback){\n",
       "  var s = document.createElement('script');\n",
       "  s.src = url;\n",
       "  s.async = true;\n",
       "  s.onreadystatechange = s.onload = callback;\n",
       "  s.onerror = function(){console.warn(\"failed to load library \" + url);};\n",
       "  document.getElementsByTagName(\"head\")[0].appendChild(s);\n",
       "}\n",
       "\n",
       "if(typeof(LDAvis) !== \"undefined\"){\n",
       "   // already loaded: just create the visualization\n",
       "   !function(LDAvis){\n",
       "       new LDAvis(\"#\" + \"ldavis_el652811406803464187527151880908\", ldavis_el652811406803464187527151880908_data);\n",
       "   }(LDAvis);\n",
       "}else if(typeof define === \"function\" && define.amd){\n",
       "   // require.js is available: use it to load d3/LDAvis\n",
       "   require.config({paths: {d3: \"https://cdnjs.cloudflare.com/ajax/libs/d3/3.5.5/d3.min\"}});\n",
       "   require([\"d3\"], function(d3){\n",
       "      window.d3 = d3;\n",
       "      LDAvis_load_lib(\"https://cdn.rawgit.com/bmabey/pyLDAvis/files/ldavis.v1.0.0.js\", function(){\n",
       "        new LDAvis(\"#\" + \"ldavis_el652811406803464187527151880908\", ldavis_el652811406803464187527151880908_data);\n",
       "      });\n",
       "    });\n",
       "}else{\n",
       "    // require.js not available: dynamically load d3 & LDAvis\n",
       "    LDAvis_load_lib(\"https://cdnjs.cloudflare.com/ajax/libs/d3/3.5.5/d3.min.js\", function(){\n",
       "         LDAvis_load_lib(\"https://cdn.rawgit.com/bmabey/pyLDAvis/files/ldavis.v1.0.0.js\", function(){\n",
       "                 new LDAvis(\"#\" + \"ldavis_el652811406803464187527151880908\", ldavis_el652811406803464187527151880908_data);\n",
       "            })\n",
       "         });\n",
       "}\n",
       "</script>"
      ],
      "text/plain": [
       "<IPython.core.display.HTML object>"
      ]
     },
     "execution_count": 22,
     "metadata": {},
     "output_type": "execute_result"
    }
   ],
   "source": [
    "### visualize\n",
    "pyLDAvis.enable_notebook()\n",
    "lda_display_proc = gensimvis.prepare(ldamod_proc, corpus_fromdict_proc, text_proc_dict)\n",
    "pyLDAvis.display(lda_display_proc)"
   ]
  },
  {
   "cell_type": "markdown",
   "metadata": {},
   "source": [
    "# Additional summaries of topics and documents \n",
    "\n",
    "What if we want to find which topics are associated with higher listing prices?"
   ]
  },
  {
   "cell_type": "code",
   "execution_count": 23,
   "metadata": {
    "scrolled": true
   },
   "outputs": [
    {
     "data": {
      "text/html": [
       "<div>\n",
       "<style scoped>\n",
       "    .dataframe tbody tr th:only-of-type {\n",
       "        vertical-align: middle;\n",
       "    }\n",
       "\n",
       "    .dataframe tbody tr th {\n",
       "        vertical-align: top;\n",
       "    }\n",
       "\n",
       "    .dataframe thead th {\n",
       "        text-align: right;\n",
       "    }\n",
       "</style>\n",
       "<table border=\"1\" class=\"dataframe\">\n",
       "  <thead>\n",
       "    <tr style=\"text-align: right;\">\n",
       "      <th></th>\n",
       "      <th>doc_id</th>\n",
       "      <th>topic_0</th>\n",
       "      <th>topic_1</th>\n",
       "      <th>topic_2</th>\n",
       "      <th>id</th>\n",
       "      <th>neighbourhood_group</th>\n",
       "      <th>price_rawdata</th>\n",
       "      <th>name</th>\n",
       "      <th>name_lower</th>\n",
       "      <th>processed</th>\n",
       "      <th>toptopic</th>\n",
       "    </tr>\n",
       "  </thead>\n",
       "  <tbody>\n",
       "    <tr>\n",
       "      <th>487</th>\n",
       "      <td>19691179</td>\n",
       "      <td>0.362415</td>\n",
       "      <td>0.252236</td>\n",
       "      <td>0.385349</td>\n",
       "      <td>19691179</td>\n",
       "      <td>Manhattan</td>\n",
       "      <td>125</td>\n",
       "      <td>Sun-filled Lower East Side Guest Room</td>\n",
       "      <td>sun-filled lower east side guest room</td>\n",
       "      <td>fill lower east side guest room</td>\n",
       "      <td>topic_2</td>\n",
       "    </tr>\n",
       "    <tr>\n",
       "      <th>635</th>\n",
       "      <td>24712037</td>\n",
       "      <td>0.288124</td>\n",
       "      <td>0.128003</td>\n",
       "      <td>0.583873</td>\n",
       "      <td>24712037</td>\n",
       "      <td>Brooklyn</td>\n",
       "      <td>198</td>\n",
       "      <td>Stylish Design Apartment in the Heart of Brooklyn</td>\n",
       "      <td>stylish design apartment in the heart of brooklyn</td>\n",
       "      <td>stylish design heart</td>\n",
       "      <td>topic_2</td>\n",
       "    </tr>\n",
       "    <tr>\n",
       "      <th>713</th>\n",
       "      <td>28165121</td>\n",
       "      <td>0.561971</td>\n",
       "      <td>0.056605</td>\n",
       "      <td>0.381424</td>\n",
       "      <td>28165121</td>\n",
       "      <td>Brooklyn</td>\n",
       "      <td>70</td>\n",
       "      <td>Large, Sunny Retreat- B/Q subway, Prospect Park!</td>\n",
       "      <td>large, sunny retreat- b/q subway, prospect park!</td>\n",
       "      <td>larg sunni retreat subway prospect park</td>\n",
       "      <td>topic_0</td>\n",
       "    </tr>\n",
       "    <tr>\n",
       "      <th>262</th>\n",
       "      <td>10105477</td>\n",
       "      <td>0.287589</td>\n",
       "      <td>0.130877</td>\n",
       "      <td>0.581534</td>\n",
       "      <td>10105477</td>\n",
       "      <td>Manhattan</td>\n",
       "      <td>97</td>\n",
       "      <td>Midtown Manhattan</td>\n",
       "      <td>midtown manhattan</td>\n",
       "      <td>midtown</td>\n",
       "      <td>topic_2</td>\n",
       "    </tr>\n",
       "    <tr>\n",
       "      <th>941</th>\n",
       "      <td>35009512</td>\n",
       "      <td>0.528191</td>\n",
       "      <td>0.351617</td>\n",
       "      <td>0.120192</td>\n",
       "      <td>35009512</td>\n",
       "      <td>Brooklyn</td>\n",
       "      <td>123</td>\n",
       "      <td>One bedroom in Williamsburg, Brooklyn</td>\n",
       "      <td>one bedroom in williamsburg, brooklyn</td>\n",
       "      <td>bedroom williamsburg</td>\n",
       "      <td>topic_0</td>\n",
       "    </tr>\n",
       "  </tbody>\n",
       "</table>\n",
       "</div>"
      ],
      "text/plain": [
       "       doc_id   topic_0   topic_1   topic_2        id neighbourhood_group  \\\n",
       "487  19691179  0.362415  0.252236  0.385349  19691179           Manhattan   \n",
       "635  24712037  0.288124  0.128003  0.583873  24712037            Brooklyn   \n",
       "713  28165121  0.561971  0.056605  0.381424  28165121            Brooklyn   \n",
       "262  10105477  0.287589  0.130877  0.581534  10105477           Manhattan   \n",
       "941  35009512  0.528191  0.351617  0.120192  35009512            Brooklyn   \n",
       "\n",
       "     price_rawdata                                               name  \\\n",
       "487            125              Sun-filled Lower East Side Guest Room   \n",
       "635            198  Stylish Design Apartment in the Heart of Brooklyn   \n",
       "713             70   Large, Sunny Retreat- B/Q subway, Prospect Park!   \n",
       "262             97                                  Midtown Manhattan   \n",
       "941            123              One bedroom in Williamsburg, Brooklyn   \n",
       "\n",
       "                                            name_lower  \\\n",
       "487              sun-filled lower east side guest room   \n",
       "635  stylish design apartment in the heart of brooklyn   \n",
       "713   large, sunny retreat- b/q subway, prospect park!   \n",
       "262                                  midtown manhattan   \n",
       "941              one bedroom in williamsburg, brooklyn   \n",
       "\n",
       "                                   processed toptopic  \n",
       "487          fill lower east side guest room  topic_2  \n",
       "635                     stylish design heart  topic_2  \n",
       "713  larg sunni retreat subway prospect park  topic_0  \n",
       "262                                  midtown  topic_2  \n",
       "941                     bedroom williamsburg  topic_0  "
      ]
     },
     "execution_count": 23,
     "metadata": {},
     "output_type": "execute_result"
    },
    {
     "data": {
      "text/html": [
       "<div>\n",
       "<style scoped>\n",
       "    .dataframe tbody tr th:only-of-type {\n",
       "        vertical-align: middle;\n",
       "    }\n",
       "\n",
       "    .dataframe tbody tr th {\n",
       "        vertical-align: top;\n",
       "    }\n",
       "\n",
       "    .dataframe thead th {\n",
       "        text-align: right;\n",
       "    }\n",
       "</style>\n",
       "<table border=\"1\" class=\"dataframe\">\n",
       "  <thead>\n",
       "    <tr style=\"text-align: right;\">\n",
       "      <th></th>\n",
       "      <th>price_rawdata</th>\n",
       "    </tr>\n",
       "    <tr>\n",
       "      <th>toptopic</th>\n",
       "      <th></th>\n",
       "    </tr>\n",
       "  </thead>\n",
       "  <tbody>\n",
       "    <tr>\n",
       "      <th>topic_0</th>\n",
       "      <td>146.550432</td>\n",
       "    </tr>\n",
       "    <tr>\n",
       "      <th>topic_1</th>\n",
       "      <td>203.549020</td>\n",
       "    </tr>\n",
       "    <tr>\n",
       "      <th>topic_2</th>\n",
       "      <td>156.869347</td>\n",
       "    </tr>\n",
       "  </tbody>\n",
       "</table>\n",
       "</div>"
      ],
      "text/plain": [
       "          price_rawdata\n",
       "toptopic               \n",
       "topic_0      146.550432\n",
       "topic_1      203.549020\n",
       "topic_2      156.869347"
      ]
     },
     "execution_count": 23,
     "metadata": {},
     "output_type": "execute_result"
    },
    {
     "data": {
      "text/html": [
       "<div>\n",
       "<style scoped>\n",
       "    .dataframe tbody tr th:only-of-type {\n",
       "        vertical-align: middle;\n",
       "    }\n",
       "\n",
       "    .dataframe tbody tr th {\n",
       "        vertical-align: top;\n",
       "    }\n",
       "\n",
       "    .dataframe thead th {\n",
       "        text-align: right;\n",
       "    }\n",
       "</style>\n",
       "<table border=\"1\" class=\"dataframe\">\n",
       "  <thead>\n",
       "    <tr style=\"text-align: right;\">\n",
       "      <th></th>\n",
       "      <th></th>\n",
       "      <th>price_rawdata</th>\n",
       "    </tr>\n",
       "    <tr>\n",
       "      <th>toptopic</th>\n",
       "      <th>neighbourhood_group</th>\n",
       "      <th></th>\n",
       "    </tr>\n",
       "  </thead>\n",
       "  <tbody>\n",
       "    <tr>\n",
       "      <th rowspan=\"5\" valign=\"top\">topic_0</th>\n",
       "      <th>Bronx</th>\n",
       "      <td>49.200000</td>\n",
       "    </tr>\n",
       "    <tr>\n",
       "      <th>Brooklyn</th>\n",
       "      <td>122.790000</td>\n",
       "    </tr>\n",
       "    <tr>\n",
       "      <th>Manhattan</th>\n",
       "      <td>199.262963</td>\n",
       "    </tr>\n",
       "    <tr>\n",
       "      <th>Queens</th>\n",
       "      <td>91.196262</td>\n",
       "    </tr>\n",
       "    <tr>\n",
       "      <th>Staten Island</th>\n",
       "      <td>116.857143</td>\n",
       "    </tr>\n",
       "    <tr>\n",
       "      <th rowspan=\"4\" valign=\"top\">topic_1</th>\n",
       "      <th>Bronx</th>\n",
       "      <td>82.500000</td>\n",
       "    </tr>\n",
       "    <tr>\n",
       "      <th>Brooklyn</th>\n",
       "      <td>147.976744</td>\n",
       "    </tr>\n",
       "    <tr>\n",
       "      <th>Manhattan</th>\n",
       "      <td>256.592593</td>\n",
       "    </tr>\n",
       "    <tr>\n",
       "      <th>Queens</th>\n",
       "      <td>126.000000</td>\n",
       "    </tr>\n",
       "    <tr>\n",
       "      <th rowspan=\"4\" valign=\"top\">topic_2</th>\n",
       "      <th>Bronx</th>\n",
       "      <td>200.000000</td>\n",
       "    </tr>\n",
       "    <tr>\n",
       "      <th>Brooklyn</th>\n",
       "      <td>133.063492</td>\n",
       "    </tr>\n",
       "    <tr>\n",
       "      <th>Manhattan</th>\n",
       "      <td>177.933333</td>\n",
       "    </tr>\n",
       "    <tr>\n",
       "      <th>Queens</th>\n",
       "      <td>85.466667</td>\n",
       "    </tr>\n",
       "  </tbody>\n",
       "</table>\n",
       "</div>"
      ],
      "text/plain": [
       "                              price_rawdata\n",
       "toptopic neighbourhood_group               \n",
       "topic_0  Bronx                    49.200000\n",
       "         Brooklyn                122.790000\n",
       "         Manhattan               199.262963\n",
       "         Queens                   91.196262\n",
       "         Staten Island           116.857143\n",
       "topic_1  Bronx                    82.500000\n",
       "         Brooklyn                147.976744\n",
       "         Manhattan               256.592593\n",
       "         Queens                  126.000000\n",
       "topic_2  Bronx                   200.000000\n",
       "         Brooklyn                133.063492\n",
       "         Manhattan               177.933333\n",
       "         Queens                   85.466667"
      ]
     },
     "execution_count": 23,
     "metadata": {},
     "output_type": "execute_result"
    }
   ],
   "source": [
    "## get topic probabilities by doc and find mean listing by topic\n",
    "### get document topics - list of list tuples\n",
    "topic_probs_bydoc =[ldamod_proc.get_document_topics(item) for item in corpus_fromdict_proc]\n",
    "\n",
    "## each document has a list containing topic, probability\n",
    "## tuples- example w/ first document\n",
    "one_list_tup = topic_probs_bydoc[0]\n",
    "\n",
    "## create a long for dataframe by flattening the list\n",
    "topic_probs_bydoc_long = pd.DataFrame([t for lst in topic_probs_bydoc for t in lst],\n",
    "                                     columns = ['topic', 'probability'])\n",
    "\n",
    "## add id var- we're repeating each id in the original data k times\n",
    "## for the number of topics\n",
    "topic_probs_bydoc_long['doc_id'] = list(np.concatenate([[one_id] * \n",
    "                                    n_topics for one_id in ab_small.id]).flat)\n",
    "\n",
    "## pivot to wide format\n",
    "topic_probs_bydoc_wide = pd.pivot_table(topic_probs_bydoc_long, index = ['doc_id'],\n",
    "                        columns = ['topic']).reset_index().reset_index(drop = True)\n",
    "topic_probs_bydoc_wide.columns = ['doc_id'] + [\"topic_\" + str(i) for i in np.arange(0, n_topics)]\n",
    "\n",
    "## merge with original data using doc id\n",
    "topic_wmeta = pd.merge(topic_probs_bydoc_wide,\n",
    "                      ab_small,\n",
    "                      left_on = 'doc_id',\n",
    "                      right_on = 'id')\n",
    "\n",
    "## create indicator for listing's top topic\n",
    "topic_wmeta['toptopic'] = topic_wmeta[[col for col in topic_wmeta.columns if \n",
    "                                    \"topic_\" in col]].idxmax(axis=1)\n",
    "topic_wmeta.sample(n = 5, random_state = 555)\n",
    "\n",
    "## group by topic and find mean price\n",
    "topic_wmeta.groupby('toptopic').agg({'price_rawdata': np.mean})\n",
    "\n",
    "## group by borough and topic -- higher price for some also reflects\n",
    "## diff borough composition\n",
    "topic_wmeta.groupby(['toptopic', \n",
    "                    'neighbourhood_group']).agg({'price_rawdata': np.mean})"
   ]
  }
 ],
 "metadata": {
  "kernelspec": {
   "display_name": "Python 3",
   "language": "python",
   "name": "python3"
  },
  "language_info": {
   "codemirror_mode": {
    "name": "ipython",
    "version": 3
   },
   "file_extension": ".py",
   "mimetype": "text/x-python",
   "name": "python",
   "nbconvert_exporter": "python",
   "pygments_lexer": "ipython3",
   "version": "3.8.3"
  }
 },
 "nbformat": 4,
 "nbformat_minor": 2
}
