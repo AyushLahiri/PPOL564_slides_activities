{
 "cells": [
  {
   "cell_type": "markdown",
   "metadata": {},
   "source": [
    "# Imports"
   ]
  },
  {
   "cell_type": "code",
   "execution_count": 1,
   "metadata": {},
   "outputs": [],
   "source": [
    "import pandas as pd\n",
    "import numpy as np\n",
    "\n",
    "\n",
    "## print multiple things from same cell\n",
    "from IPython.core.interactiveshell import InteractiveShell\n",
    "InteractiveShell.ast_node_interactivity = \"all\""
   ]
  },
  {
   "cell_type": "markdown",
   "metadata": {},
   "source": [
    "# Simulate data"
   ]
  },
  {
   "cell_type": "code",
   "execution_count": 2,
   "metadata": {},
   "outputs": [
    {
     "data": {
      "text/html": [
       "<div>\n",
       "<style scoped>\n",
       "    .dataframe tbody tr th:only-of-type {\n",
       "        vertical-align: middle;\n",
       "    }\n",
       "\n",
       "    .dataframe tbody tr th {\n",
       "        vertical-align: top;\n",
       "    }\n",
       "\n",
       "    .dataframe thead th {\n",
       "        text-align: right;\n",
       "    }\n",
       "</style>\n",
       "<table border=\"1\" class=\"dataframe\">\n",
       "  <thead>\n",
       "    <tr style=\"text-align: right;\">\n",
       "      <th></th>\n",
       "      <th>shop_name</th>\n",
       "      <th>opening_time</th>\n",
       "      <th>closing_time</th>\n",
       "      <th>hourly_wage</th>\n",
       "      <th>year</th>\n",
       "    </tr>\n",
       "  </thead>\n",
       "  <tbody>\n",
       "    <tr>\n",
       "      <th>2</th>\n",
       "      <td>Baked and Wired</td>\n",
       "      <td>10:00 AM</td>\n",
       "      <td>5:00 PM</td>\n",
       "      <td>16.308214</td>\n",
       "      <td>2019</td>\n",
       "    </tr>\n",
       "    <tr>\n",
       "      <th>2</th>\n",
       "      <td>Baked and Wired</td>\n",
       "      <td>10:00 AM</td>\n",
       "      <td>3:00 PM</td>\n",
       "      <td>19.222221</td>\n",
       "      <td>2021</td>\n",
       "    </tr>\n",
       "    <tr>\n",
       "      <th>4</th>\n",
       "      <td>Blue Bottle</td>\n",
       "      <td>8:00 AM</td>\n",
       "      <td>7:00 PM</td>\n",
       "      <td>19.231655</td>\n",
       "      <td>2019</td>\n",
       "    </tr>\n",
       "    <tr>\n",
       "      <th>4</th>\n",
       "      <td>Blue Bottle</td>\n",
       "      <td>9:00 AM</td>\n",
       "      <td>7:00 PM</td>\n",
       "      <td>19.951942</td>\n",
       "      <td>2021</td>\n",
       "    </tr>\n",
       "    <tr>\n",
       "      <th>0</th>\n",
       "      <td>Compass</td>\n",
       "      <td>10:00 AM</td>\n",
       "      <td>6:00 PM</td>\n",
       "      <td>16.169551</td>\n",
       "      <td>2019</td>\n",
       "    </tr>\n",
       "    <tr>\n",
       "      <th>0</th>\n",
       "      <td>Compass</td>\n",
       "      <td>10:00 AM</td>\n",
       "      <td>7:00 PM</td>\n",
       "      <td>15.316723</td>\n",
       "      <td>2021</td>\n",
       "    </tr>\n",
       "    <tr>\n",
       "      <th>3</th>\n",
       "      <td>Peets</td>\n",
       "      <td>10:00 AM</td>\n",
       "      <td>7:00 PM</td>\n",
       "      <td>16.240656</td>\n",
       "      <td>2019</td>\n",
       "    </tr>\n",
       "    <tr>\n",
       "      <th>3</th>\n",
       "      <td>Peets</td>\n",
       "      <td>8:00 AM</td>\n",
       "      <td>7:00 PM</td>\n",
       "      <td>19.992475</td>\n",
       "      <td>2021</td>\n",
       "    </tr>\n",
       "    <tr>\n",
       "      <th>5</th>\n",
       "      <td>Saxbys</td>\n",
       "      <td>9:00 AM</td>\n",
       "      <td>6:00 PM</td>\n",
       "      <td>14.598841</td>\n",
       "      <td>2019</td>\n",
       "    </tr>\n",
       "    <tr>\n",
       "      <th>5</th>\n",
       "      <td>Saxbys</td>\n",
       "      <td>8:00 AM</td>\n",
       "      <td>3:00 PM</td>\n",
       "      <td>17.238755</td>\n",
       "      <td>2021</td>\n",
       "    </tr>\n",
       "    <tr>\n",
       "      <th>1</th>\n",
       "      <td>Starbucks</td>\n",
       "      <td>9:00 AM</td>\n",
       "      <td>7:00 PM</td>\n",
       "      <td>19.470102</td>\n",
       "      <td>2019</td>\n",
       "    </tr>\n",
       "    <tr>\n",
       "      <th>1</th>\n",
       "      <td>Starbucks</td>\n",
       "      <td>8:00 AM</td>\n",
       "      <td>7:00 PM</td>\n",
       "      <td>19.728897</td>\n",
       "      <td>2021</td>\n",
       "    </tr>\n",
       "  </tbody>\n",
       "</table>\n",
       "</div>"
      ],
      "text/plain": [
       "         shop_name opening_time closing_time  hourly_wage  year\n",
       "2  Baked and Wired     10:00 AM      5:00 PM    16.308214  2019\n",
       "2  Baked and Wired     10:00 AM      3:00 PM    19.222221  2021\n",
       "4      Blue Bottle      8:00 AM      7:00 PM    19.231655  2019\n",
       "4      Blue Bottle      9:00 AM      7:00 PM    19.951942  2021\n",
       "0          Compass     10:00 AM      6:00 PM    16.169551  2019\n",
       "0          Compass     10:00 AM      7:00 PM    15.316723  2021\n",
       "3            Peets     10:00 AM      7:00 PM    16.240656  2019\n",
       "3            Peets      8:00 AM      7:00 PM    19.992475  2021\n",
       "5           Saxbys      9:00 AM      6:00 PM    14.598841  2019\n",
       "5           Saxbys      8:00 AM      3:00 PM    17.238755  2021\n",
       "1        Starbucks      9:00 AM      7:00 PM    19.470102  2019\n",
       "1        Starbucks      8:00 AM      7:00 PM    19.728897  2021"
      ]
     },
     "execution_count": 2,
     "metadata": {},
     "output_type": "execute_result"
    }
   ],
   "source": [
    "## setting seed for reproducibility\n",
    "np.random.seed(1129)\n",
    "shop_names = ['Compass', 'Starbucks', 'Baked and Wired', 'Peets', \n",
    "              'Blue Bottle', 'Saxbys']\n",
    "coffee_df = pd.concat([pd.DataFrame({'shop_name': shop_names,\n",
    "                         'opening_time': np.random.choice([\"8:00 AM\", \"9:00 AM\", \"10:00 AM\"],\n",
    "                                                       len(shop_names),\n",
    "                                                       replace = True),\n",
    "                         'closing_time': np.random.choice([\"5:00 PM\", \"6:00 PM\", \n",
    "                                                          \"7:00 PM\"],\n",
    "                                                         len(shop_names),\n",
    "                                                          replace = True),\n",
    "                         'hourly_wage': np.random.uniform(14, 20,\n",
    "                                                          len(shop_names)),\n",
    "                        'year': 2019}),\n",
    "                      pd.DataFrame({'shop_name': shop_names,\n",
    "                         'opening_time': np.random.choice([\"8:00 AM\", \"9:00 AM\", \"10:00 AM\"],\n",
    "                                                       len(shop_names),\n",
    "                                                       replace = True),\n",
    "                         'closing_time': np.random.choice([\"3:00 PM\", \"4:00 PM\",\n",
    "                                                           \"6:00 PM\", \n",
    "                                                          \"7:00 PM\"],\n",
    "                                                         len(shop_names),\n",
    "                                                          replace = True),\n",
    "                         'hourly_wage': np.random.uniform(14, 20,\n",
    "                                                          len(shop_names)),\n",
    "                        'year': 2021})]).sort_values(by = 'shop_name')\n",
    "                      \n",
    "\n",
    "coffee_df"
   ]
  },
  {
   "cell_type": "markdown",
   "metadata": {},
   "source": [
    "# 1. Methods versus attributes"
   ]
  },
  {
   "cell_type": "code",
   "execution_count": null,
   "metadata": {},
   "outputs": [],
   "source": [
    "## good explanation here: https://medium.com/@shawnnkoski/pandas-attributes-867a169e6d9b \n",
    "## especially in pandas:\n",
    "## attributes: give more information about some object (eg a Pandas dataframe or Series)\n",
    "## methods: apply some transformation to that object "
   ]
  },
  {
   "cell_type": "markdown",
   "metadata": {},
   "source": [
    "## 1.1 Attributes of or methods that operate on dataframes"
   ]
  },
  {
   "cell_type": "code",
   "execution_count": 3,
   "metadata": {},
   "outputs": [
    {
     "data": {
      "text/plain": [
       "(12, 5)"
      ]
     },
     "execution_count": 3,
     "metadata": {},
     "output_type": "execute_result"
    },
    {
     "data": {
      "text/plain": [
       "shop_name        object\n",
       "opening_time     object\n",
       "closing_time     object\n",
       "hourly_wage     float64\n",
       "year              int64\n",
       "dtype: object"
      ]
     },
     "execution_count": 3,
     "metadata": {},
     "output_type": "execute_result"
    },
    {
     "data": {
      "text/plain": [
       "12"
      ]
     },
     "execution_count": 3,
     "metadata": {},
     "output_type": "execute_result"
    }
   ],
   "source": [
    "## attributes of pandas dataframes\n",
    "## note: none use parantheses bc we don't\n",
    "## feed parameter\n",
    "coffee_df.shape\n",
    "coffee_df.dtypes\n",
    "\n",
    "## we can also assign those attributes to be \n",
    "## stored as objects\n",
    "rows_coffee = coffee_df.shape[0]\n",
    "rows_coffee"
   ]
  },
  {
   "cell_type": "code",
   "execution_count": 29,
   "metadata": {},
   "outputs": [
    {
     "data": {
      "text/html": [
       "<div>\n",
       "<style scoped>\n",
       "    .dataframe tbody tr th:only-of-type {\n",
       "        vertical-align: middle;\n",
       "    }\n",
       "\n",
       "    .dataframe tbody tr th {\n",
       "        vertical-align: top;\n",
       "    }\n",
       "\n",
       "    .dataframe thead th {\n",
       "        text-align: right;\n",
       "    }\n",
       "</style>\n",
       "<table border=\"1\" class=\"dataframe\">\n",
       "  <thead>\n",
       "    <tr style=\"text-align: right;\">\n",
       "      <th></th>\n",
       "      <th>shop_name</th>\n",
       "      <th>opening_time</th>\n",
       "      <th>closing_time</th>\n",
       "      <th>hourly_wage</th>\n",
       "      <th>year</th>\n",
       "    </tr>\n",
       "  </thead>\n",
       "  <tbody>\n",
       "    <tr>\n",
       "      <th>2</th>\n",
       "      <td>Baked and Wired</td>\n",
       "      <td>10:00 AM</td>\n",
       "      <td>5:00 PM</td>\n",
       "      <td>16.308214</td>\n",
       "      <td>2019</td>\n",
       "    </tr>\n",
       "    <tr>\n",
       "      <th>2</th>\n",
       "      <td>Baked and Wired</td>\n",
       "      <td>10:00 AM</td>\n",
       "      <td>3:00 PM</td>\n",
       "      <td>19.222221</td>\n",
       "      <td>2021</td>\n",
       "    </tr>\n",
       "    <tr>\n",
       "      <th>4</th>\n",
       "      <td>Blue Bottle</td>\n",
       "      <td>8:00 AM</td>\n",
       "      <td>7:00 PM</td>\n",
       "      <td>19.231655</td>\n",
       "      <td>2019</td>\n",
       "    </tr>\n",
       "    <tr>\n",
       "      <th>4</th>\n",
       "      <td>Blue Bottle</td>\n",
       "      <td>9:00 AM</td>\n",
       "      <td>7:00 PM</td>\n",
       "      <td>19.951942</td>\n",
       "      <td>2021</td>\n",
       "    </tr>\n",
       "    <tr>\n",
       "      <th>0</th>\n",
       "      <td>Compass</td>\n",
       "      <td>10:00 AM</td>\n",
       "      <td>6:00 PM</td>\n",
       "      <td>16.169551</td>\n",
       "      <td>2019</td>\n",
       "    </tr>\n",
       "    <tr>\n",
       "      <th>0</th>\n",
       "      <td>Compass</td>\n",
       "      <td>10:00 AM</td>\n",
       "      <td>7:00 PM</td>\n",
       "      <td>15.316723</td>\n",
       "      <td>2021</td>\n",
       "    </tr>\n",
       "    <tr>\n",
       "      <th>3</th>\n",
       "      <td>Peets</td>\n",
       "      <td>10:00 AM</td>\n",
       "      <td>7:00 PM</td>\n",
       "      <td>16.240656</td>\n",
       "      <td>2019</td>\n",
       "    </tr>\n",
       "  </tbody>\n",
       "</table>\n",
       "</div>"
      ],
      "text/plain": [
       "         shop_name opening_time closing_time  hourly_wage  year\n",
       "2  Baked and Wired     10:00 AM      5:00 PM    16.308214  2019\n",
       "2  Baked and Wired     10:00 AM      3:00 PM    19.222221  2021\n",
       "4      Blue Bottle      8:00 AM      7:00 PM    19.231655  2019\n",
       "4      Blue Bottle      9:00 AM      7:00 PM    19.951942  2021\n",
       "0          Compass     10:00 AM      6:00 PM    16.169551  2019\n",
       "0          Compass     10:00 AM      7:00 PM    15.316723  2021\n",
       "3            Peets     10:00 AM      7:00 PM    16.240656  2019"
      ]
     },
     "execution_count": 29,
     "metadata": {},
     "output_type": "execute_result"
    }
   ],
   "source": [
    "## methods/functions that \n",
    "## operate on dataframes\n",
    "### here, i'm going from default of head \n",
    "### if we don't input the N to print\n",
    "## to using the n parameter\n",
    "coffee_df.head(n = 7)"
   ]
  },
  {
   "cell_type": "markdown",
   "metadata": {},
   "source": [
    "## 1.2 Attributes of or methods that operate on pandas series"
   ]
  },
  {
   "cell_type": "code",
   "execution_count": 4,
   "metadata": {},
   "outputs": [
    {
     "data": {
      "text/plain": [
       "dtype('O')"
      ]
     },
     "execution_count": 4,
     "metadata": {},
     "output_type": "execute_result"
    },
    {
     "data": {
      "text/plain": [
       "array(['Baked and Wired', 'Baked and Wired', 'Blue Bottle', 'Blue Bottle',\n",
       "       'Compass', 'Compass', 'Peets', 'Peets', 'Saxbys', 'Saxbys',\n",
       "       'Starbucks', 'Starbucks'], dtype=object)"
      ]
     },
     "execution_count": 4,
     "metadata": {},
     "output_type": "execute_result"
    },
    {
     "data": {
      "text/plain": [
       "array(['Baked and Wired', 'Baked and Wired', 'Blue Bottle', 'Blue Bottle',\n",
       "       'Compass', 'Compass', 'Peets', 'Peets', 'Saxbys', 'Saxbys',\n",
       "       'Starbucks', 'Starbucks'], dtype=object)"
      ]
     },
     "execution_count": 4,
     "metadata": {},
     "output_type": "execute_result"
    },
    {
     "data": {
      "text/plain": [
       "6"
      ]
     },
     "execution_count": 4,
     "metadata": {},
     "output_type": "execute_result"
    }
   ],
   "source": [
    "## summarize dtypes and \n",
    "## values representation\n",
    "coffee_df.shop_name.dtypes\n",
    "coffee_df.shop_name.values\n",
    "\n",
    "## note that we can interchangeably\n",
    "## switch between the df.colname\n",
    "## and df[colname] syntax\n",
    "coffee_df['shop_name'].values\n",
    "\n",
    "## nunique is a type of function\n",
    "coffee_df.shop_name.nunique()"
   ]
  },
  {
   "cell_type": "markdown",
   "metadata": {},
   "source": [
    "## 1.3 Applying methods to base python objects versus pandas dataframes/series\n",
    "\n",
    "Different types of objects have different types of methods\n",
    "\n",
    "Suppose we want to convert a string to all lowercase. There are different ways a string might be stored:\n",
    "\n",
    "- As an object in base python. Method for this object: lower()- https://www.w3schools.com/python/ref_string_lower.asp \n",
    "\n",
    "- As a pandas series stored as a character. Method for this object: str.lower() - https://pandas.pydata.org/docs/reference/api/pandas.Series.str.lower.html \n",
    "\n",
    "Each accomplishes the same task but syntax differs slightly depending on what type of object we \"feed\" the lower function"
   ]
  },
  {
   "cell_type": "code",
   "execution_count": 5,
   "metadata": {},
   "outputs": [
    {
     "data": {
      "text/plain": [
       "'baked and wired'"
      ]
     },
     "execution_count": 5,
     "metadata": {},
     "output_type": "execute_result"
    },
    {
     "data": {
      "text/html": [
       "<div>\n",
       "<style scoped>\n",
       "    .dataframe tbody tr th:only-of-type {\n",
       "        vertical-align: middle;\n",
       "    }\n",
       "\n",
       "    .dataframe tbody tr th {\n",
       "        vertical-align: top;\n",
       "    }\n",
       "\n",
       "    .dataframe thead th {\n",
       "        text-align: right;\n",
       "    }\n",
       "</style>\n",
       "<table border=\"1\" class=\"dataframe\">\n",
       "  <thead>\n",
       "    <tr style=\"text-align: right;\">\n",
       "      <th></th>\n",
       "      <th>shop_name</th>\n",
       "      <th>opening_time</th>\n",
       "      <th>closing_time</th>\n",
       "      <th>hourly_wage</th>\n",
       "      <th>year</th>\n",
       "      <th>sname_lower</th>\n",
       "    </tr>\n",
       "  </thead>\n",
       "  <tbody>\n",
       "    <tr>\n",
       "      <th>2</th>\n",
       "      <td>Baked and Wired</td>\n",
       "      <td>10:00 AM</td>\n",
       "      <td>5:00 PM</td>\n",
       "      <td>16.308214</td>\n",
       "      <td>2019</td>\n",
       "      <td>baked and wired</td>\n",
       "    </tr>\n",
       "    <tr>\n",
       "      <th>2</th>\n",
       "      <td>Baked and Wired</td>\n",
       "      <td>10:00 AM</td>\n",
       "      <td>3:00 PM</td>\n",
       "      <td>19.222221</td>\n",
       "      <td>2021</td>\n",
       "      <td>baked and wired</td>\n",
       "    </tr>\n",
       "    <tr>\n",
       "      <th>4</th>\n",
       "      <td>Blue Bottle</td>\n",
       "      <td>8:00 AM</td>\n",
       "      <td>7:00 PM</td>\n",
       "      <td>19.231655</td>\n",
       "      <td>2019</td>\n",
       "      <td>blue bottle</td>\n",
       "    </tr>\n",
       "    <tr>\n",
       "      <th>4</th>\n",
       "      <td>Blue Bottle</td>\n",
       "      <td>9:00 AM</td>\n",
       "      <td>7:00 PM</td>\n",
       "      <td>19.951942</td>\n",
       "      <td>2021</td>\n",
       "      <td>blue bottle</td>\n",
       "    </tr>\n",
       "    <tr>\n",
       "      <th>0</th>\n",
       "      <td>Compass</td>\n",
       "      <td>10:00 AM</td>\n",
       "      <td>6:00 PM</td>\n",
       "      <td>16.169551</td>\n",
       "      <td>2019</td>\n",
       "      <td>compass</td>\n",
       "    </tr>\n",
       "  </tbody>\n",
       "</table>\n",
       "</div>"
      ],
      "text/plain": [
       "         shop_name opening_time closing_time  hourly_wage  year  \\\n",
       "2  Baked and Wired     10:00 AM      5:00 PM    16.308214  2019   \n",
       "2  Baked and Wired     10:00 AM      3:00 PM    19.222221  2021   \n",
       "4      Blue Bottle      8:00 AM      7:00 PM    19.231655  2019   \n",
       "4      Blue Bottle      9:00 AM      7:00 PM    19.951942  2021   \n",
       "0          Compass     10:00 AM      6:00 PM    16.169551  2019   \n",
       "\n",
       "       sname_lower  \n",
       "2  baked and wired  \n",
       "2  baked and wired  \n",
       "4      blue bottle  \n",
       "4      blue bottle  \n",
       "0          compass  "
      ]
     },
     "execution_count": 5,
     "metadata": {},
     "output_type": "execute_result"
    },
    {
     "data": {
      "text/html": [
       "<div>\n",
       "<style scoped>\n",
       "    .dataframe tbody tr th:only-of-type {\n",
       "        vertical-align: middle;\n",
       "    }\n",
       "\n",
       "    .dataframe tbody tr th {\n",
       "        vertical-align: top;\n",
       "    }\n",
       "\n",
       "    .dataframe thead th {\n",
       "        text-align: right;\n",
       "    }\n",
       "</style>\n",
       "<table border=\"1\" class=\"dataframe\">\n",
       "  <thead>\n",
       "    <tr style=\"text-align: right;\">\n",
       "      <th></th>\n",
       "      <th>shop_name</th>\n",
       "      <th>opening_time</th>\n",
       "      <th>closing_time</th>\n",
       "      <th>hourly_wage</th>\n",
       "      <th>year</th>\n",
       "      <th>sname_lower</th>\n",
       "      <th>sname_lower_alternate</th>\n",
       "    </tr>\n",
       "  </thead>\n",
       "  <tbody>\n",
       "    <tr>\n",
       "      <th>2</th>\n",
       "      <td>Baked and Wired</td>\n",
       "      <td>10:00 AM</td>\n",
       "      <td>5:00 PM</td>\n",
       "      <td>16.308214</td>\n",
       "      <td>2019</td>\n",
       "      <td>baked and wired</td>\n",
       "      <td>baked and wired</td>\n",
       "    </tr>\n",
       "    <tr>\n",
       "      <th>2</th>\n",
       "      <td>Baked and Wired</td>\n",
       "      <td>10:00 AM</td>\n",
       "      <td>3:00 PM</td>\n",
       "      <td>19.222221</td>\n",
       "      <td>2021</td>\n",
       "      <td>baked and wired</td>\n",
       "      <td>baked and wired</td>\n",
       "    </tr>\n",
       "    <tr>\n",
       "      <th>4</th>\n",
       "      <td>Blue Bottle</td>\n",
       "      <td>8:00 AM</td>\n",
       "      <td>7:00 PM</td>\n",
       "      <td>19.231655</td>\n",
       "      <td>2019</td>\n",
       "      <td>blue bottle</td>\n",
       "      <td>blue bottle</td>\n",
       "    </tr>\n",
       "    <tr>\n",
       "      <th>4</th>\n",
       "      <td>Blue Bottle</td>\n",
       "      <td>9:00 AM</td>\n",
       "      <td>7:00 PM</td>\n",
       "      <td>19.951942</td>\n",
       "      <td>2021</td>\n",
       "      <td>blue bottle</td>\n",
       "      <td>blue bottle</td>\n",
       "    </tr>\n",
       "    <tr>\n",
       "      <th>0</th>\n",
       "      <td>Compass</td>\n",
       "      <td>10:00 AM</td>\n",
       "      <td>6:00 PM</td>\n",
       "      <td>16.169551</td>\n",
       "      <td>2019</td>\n",
       "      <td>compass</td>\n",
       "      <td>compass</td>\n",
       "    </tr>\n",
       "  </tbody>\n",
       "</table>\n",
       "</div>"
      ],
      "text/plain": [
       "         shop_name opening_time closing_time  hourly_wage  year  \\\n",
       "2  Baked and Wired     10:00 AM      5:00 PM    16.308214  2019   \n",
       "2  Baked and Wired     10:00 AM      3:00 PM    19.222221  2021   \n",
       "4      Blue Bottle      8:00 AM      7:00 PM    19.231655  2019   \n",
       "4      Blue Bottle      9:00 AM      7:00 PM    19.951942  2021   \n",
       "0          Compass     10:00 AM      6:00 PM    16.169551  2019   \n",
       "\n",
       "       sname_lower sname_lower_alternate  \n",
       "2  baked and wired       baked and wired  \n",
       "2  baked and wired       baked and wired  \n",
       "4      blue bottle           blue bottle  \n",
       "4      blue bottle           blue bottle  \n",
       "0          compass               compass  "
      ]
     },
     "execution_count": 5,
     "metadata": {},
     "output_type": "execute_result"
    }
   ],
   "source": [
    "## using .lower() in base python for one string\n",
    "example_string = 'Baked and Wired'\n",
    "example_string.lower()\n",
    "\n",
    "## using .lower() in base python for all strings by using list\n",
    "## comprehension to iterate\n",
    "coffee_df['sname_lower'] = [i.lower() for i in coffee_df.shop_name]\n",
    "coffee_df.head()\n",
    "\n",
    "## using .str.lower() in pandas for all strings that is \n",
    "## vectorized so it automatically converts all strings \n",
    "coffee_df['sname_lower_alternate'] = coffee_df.shop_name.str.lower()\n",
    "coffee_df.head()\n",
    "\n",
    "## drop extra columns\n",
    "coffee_df = coffee_df.drop(columns = ['sname_lower', 'sname_lower_alternate'])"
   ]
  },
  {
   "cell_type": "markdown",
   "metadata": {},
   "source": [
    "## 1.4 Practice for you \n",
    "\n",
    "- Use the quantile function (a method that operates on pandas series: https://pandas.pydata.org/docs/reference/api/pandas.Series.quantile.html) to get three percentiles of the `hourly_wage` column and assign to an object you call `wage_summary`\n",
    "\n",
    "    - Bottom 10th (0.1)\n",
    "    - Median (0.5)\n",
    "    - Top 10th (0.9)\n",
    "\n",
    "- Check the type of `wage summary`, convert the type to a numpy array and calculate the gap between the 90th percentile hourly wage and the 10th percentile (hint, you may want to use np.min and np.max)"
   ]
  },
  {
   "cell_type": "code",
   "execution_count": 6,
   "metadata": {},
   "outputs": [
    {
     "data": {
      "text/plain": [
       "0.1    15.402006\n",
       "0.5    18.230488\n",
       "0.9    19.929637\n",
       "Name: hourly_wage, dtype: float64"
      ]
     },
     "execution_count": 6,
     "metadata": {},
     "output_type": "execute_result"
    },
    {
     "data": {
      "text/plain": [
       "pandas.core.series.Series"
      ]
     },
     "execution_count": 6,
     "metadata": {},
     "output_type": "execute_result"
    },
    {
     "data": {
      "text/plain": [
       "array([15.40200596, 18.23048838, 19.92963731])"
      ]
     },
     "execution_count": 6,
     "metadata": {},
     "output_type": "execute_result"
    },
    {
     "data": {
      "text/plain": [
       "4.52763135081562"
      ]
     },
     "execution_count": 6,
     "metadata": {},
     "output_type": "execute_result"
    }
   ],
   "source": [
    "wage_summary = coffee_df.hourly_wage.quantile(q = [0.1, 0.5, 0.9])\n",
    "wage_summary\n",
    "type(wage_summary)\n",
    "w_s_array = np.array(wage_summary)\n",
    "w_s_array\n",
    "\n",
    "gap = np.max(w_s_array) - np.min(w_s_array)\n",
    "gap"
   ]
  },
  {
   "cell_type": "markdown",
   "metadata": {},
   "source": [
    "# 2. pivot() or pivot_table() to reshape\n",
    "\n",
    "We currently have a \"long\" format dataframe where each coffee shop appears twice, once for its 2019 information and another time for its 2021 information\n",
    "\n",
    "To perform different calculations (eg changes in total hours), we may want to reshape to wide format where each row is a single coffee shop and we have one value for its 2019 wages/hours and another value for its 2021 wages/hours\n",
    "\n",
    "Good discussion here of pivot() versus pivot_table(): https://www.roelpeters.be/pandas-pivot_table-vs-pivot/#:~:text=Basically%2C%20the%20pivot_table()%20function,Here's%20an%20example\n",
    "\n",
    "**Task**: \n",
    "\n",
    "- We first want to calculate the # of hours open per day. Trickier with no dates so we add an arbitrary same date to each (could also use .today() which is today's date)\n",
    "\n",
    "- We then want to pivot to wide to create different columns for 2019 versus 2021 total hours open and total wages"
   ]
  },
  {
   "cell_type": "markdown",
   "metadata": {},
   "source": [
    "## 2.1 Adding a new column with difference in times\n",
    "\n",
    "How to get hours: https://stackoverflow.com/questions/52093199/pandas-extract-hour-from-timedelta"
   ]
  },
  {
   "cell_type": "code",
   "execution_count": 61,
   "metadata": {},
   "outputs": [
    {
     "data": {
      "text/html": [
       "<div>\n",
       "<style scoped>\n",
       "    .dataframe tbody tr th:only-of-type {\n",
       "        vertical-align: middle;\n",
       "    }\n",
       "\n",
       "    .dataframe tbody tr th {\n",
       "        vertical-align: top;\n",
       "    }\n",
       "\n",
       "    .dataframe thead th {\n",
       "        text-align: right;\n",
       "    }\n",
       "</style>\n",
       "<table border=\"1\" class=\"dataframe\">\n",
       "  <thead>\n",
       "    <tr style=\"text-align: right;\">\n",
       "      <th></th>\n",
       "      <th>shop_name</th>\n",
       "      <th>opening_time</th>\n",
       "      <th>closing_time</th>\n",
       "      <th>hours_open</th>\n",
       "    </tr>\n",
       "  </thead>\n",
       "  <tbody>\n",
       "    <tr>\n",
       "      <th>2</th>\n",
       "      <td>Baked and Wired</td>\n",
       "      <td>10:00 AM</td>\n",
       "      <td>5:00 PM</td>\n",
       "      <td>7</td>\n",
       "    </tr>\n",
       "    <tr>\n",
       "      <th>2</th>\n",
       "      <td>Baked and Wired</td>\n",
       "      <td>10:00 AM</td>\n",
       "      <td>3:00 PM</td>\n",
       "      <td>5</td>\n",
       "    </tr>\n",
       "    <tr>\n",
       "      <th>4</th>\n",
       "      <td>Blue Bottle</td>\n",
       "      <td>8:00 AM</td>\n",
       "      <td>7:00 PM</td>\n",
       "      <td>11</td>\n",
       "    </tr>\n",
       "    <tr>\n",
       "      <th>4</th>\n",
       "      <td>Blue Bottle</td>\n",
       "      <td>9:00 AM</td>\n",
       "      <td>7:00 PM</td>\n",
       "      <td>10</td>\n",
       "    </tr>\n",
       "    <tr>\n",
       "      <th>0</th>\n",
       "      <td>Compass</td>\n",
       "      <td>10:00 AM</td>\n",
       "      <td>6:00 PM</td>\n",
       "      <td>8</td>\n",
       "    </tr>\n",
       "  </tbody>\n",
       "</table>\n",
       "</div>"
      ],
      "text/plain": [
       "         shop_name opening_time closing_time  hours_open\n",
       "2  Baked and Wired     10:00 AM      5:00 PM           7\n",
       "2  Baked and Wired     10:00 AM      3:00 PM           5\n",
       "4      Blue Bottle      8:00 AM      7:00 PM          11\n",
       "4      Blue Bottle      9:00 AM      7:00 PM          10\n",
       "0          Compass     10:00 AM      6:00 PM           8"
      ]
     },
     "execution_count": 61,
     "metadata": {},
     "output_type": "execute_result"
    }
   ],
   "source": [
    "coffee_df['open_date'] = pd.to_datetime(\"01-01-2020 \" + coffee_df.opening_time.astype(str))\n",
    "coffee_df['close_date'] = pd.to_datetime(\"01-01-2020 \" + coffee_df.closing_time.astype(str))\n",
    "coffee_df['hours_open'] = (coffee_df.close_date - coffee_df.open_date).dt.components['hours']\n",
    "coffee_df[['shop_name', 'opening_time', 'closing_time', 'hours_open']].head()\n"
   ]
  },
  {
   "cell_type": "markdown",
   "metadata": {},
   "source": [
    "## 2.2 Reshaping\n",
    "\n",
    "We want to subset to the following columns and reshape from long to wide, so where each row represents a single shop:\n",
    "\n",
    "- shop_name\n",
    "- year\n",
    "- hours_open\n",
    "- hourly_wage"
   ]
  },
  {
   "cell_type": "code",
   "execution_count": 8,
   "metadata": {},
   "outputs": [
    {
     "data": {
      "text/html": [
       "<div>\n",
       "<style scoped>\n",
       "    .dataframe tbody tr th:only-of-type {\n",
       "        vertical-align: middle;\n",
       "    }\n",
       "\n",
       "    .dataframe tbody tr th {\n",
       "        vertical-align: top;\n",
       "    }\n",
       "\n",
       "    .dataframe thead th {\n",
       "        text-align: right;\n",
       "    }\n",
       "</style>\n",
       "<table border=\"1\" class=\"dataframe\">\n",
       "  <thead>\n",
       "    <tr style=\"text-align: right;\">\n",
       "      <th></th>\n",
       "      <th>shop_name</th>\n",
       "      <th>year</th>\n",
       "      <th>hours_open</th>\n",
       "      <th>hourly_wage</th>\n",
       "    </tr>\n",
       "  </thead>\n",
       "  <tbody>\n",
       "    <tr>\n",
       "      <th>2</th>\n",
       "      <td>Baked and Wired</td>\n",
       "      <td>2019</td>\n",
       "      <td>7</td>\n",
       "      <td>16.308214</td>\n",
       "    </tr>\n",
       "    <tr>\n",
       "      <th>2</th>\n",
       "      <td>Baked and Wired</td>\n",
       "      <td>2021</td>\n",
       "      <td>5</td>\n",
       "      <td>19.222221</td>\n",
       "    </tr>\n",
       "    <tr>\n",
       "      <th>4</th>\n",
       "      <td>Blue Bottle</td>\n",
       "      <td>2019</td>\n",
       "      <td>11</td>\n",
       "      <td>19.231655</td>\n",
       "    </tr>\n",
       "    <tr>\n",
       "      <th>4</th>\n",
       "      <td>Blue Bottle</td>\n",
       "      <td>2021</td>\n",
       "      <td>10</td>\n",
       "      <td>19.951942</td>\n",
       "    </tr>\n",
       "    <tr>\n",
       "      <th>0</th>\n",
       "      <td>Compass</td>\n",
       "      <td>2019</td>\n",
       "      <td>8</td>\n",
       "      <td>16.169551</td>\n",
       "    </tr>\n",
       "  </tbody>\n",
       "</table>\n",
       "</div>"
      ],
      "text/plain": [
       "         shop_name  year  hours_open  hourly_wage\n",
       "2  Baked and Wired  2019           7    16.308214\n",
       "2  Baked and Wired  2021           5    19.222221\n",
       "4      Blue Bottle  2019          11    19.231655\n",
       "4      Blue Bottle  2021          10    19.951942\n",
       "0          Compass  2019           8    16.169551"
      ]
     },
     "execution_count": 8,
     "metadata": {},
     "output_type": "execute_result"
    }
   ],
   "source": [
    "coffee_keep = coffee_df[['shop_name', 'year', 'hours_open', 'hourly_wage']]\n",
    "coffee_keep.head()"
   ]
  },
  {
   "cell_type": "code",
   "execution_count": 9,
   "metadata": {},
   "outputs": [
    {
     "data": {
      "text/html": [
       "<div>\n",
       "<style scoped>\n",
       "    .dataframe tbody tr th:only-of-type {\n",
       "        vertical-align: middle;\n",
       "    }\n",
       "\n",
       "    .dataframe tbody tr th {\n",
       "        vertical-align: top;\n",
       "    }\n",
       "\n",
       "    .dataframe thead tr th {\n",
       "        text-align: left;\n",
       "    }\n",
       "\n",
       "    .dataframe thead tr:last-of-type th {\n",
       "        text-align: right;\n",
       "    }\n",
       "</style>\n",
       "<table border=\"1\" class=\"dataframe\">\n",
       "  <thead>\n",
       "    <tr>\n",
       "      <th></th>\n",
       "      <th colspan=\"2\" halign=\"left\">hours_open</th>\n",
       "      <th colspan=\"2\" halign=\"left\">hourly_wage</th>\n",
       "    </tr>\n",
       "    <tr>\n",
       "      <th>year</th>\n",
       "      <th>2019</th>\n",
       "      <th>2021</th>\n",
       "      <th>2019</th>\n",
       "      <th>2021</th>\n",
       "    </tr>\n",
       "    <tr>\n",
       "      <th>shop_name</th>\n",
       "      <th></th>\n",
       "      <th></th>\n",
       "      <th></th>\n",
       "      <th></th>\n",
       "    </tr>\n",
       "  </thead>\n",
       "  <tbody>\n",
       "    <tr>\n",
       "      <th>Baked and Wired</th>\n",
       "      <td>7.0</td>\n",
       "      <td>5.0</td>\n",
       "      <td>16.308214</td>\n",
       "      <td>19.222221</td>\n",
       "    </tr>\n",
       "    <tr>\n",
       "      <th>Blue Bottle</th>\n",
       "      <td>11.0</td>\n",
       "      <td>10.0</td>\n",
       "      <td>19.231655</td>\n",
       "      <td>19.951942</td>\n",
       "    </tr>\n",
       "    <tr>\n",
       "      <th>Compass</th>\n",
       "      <td>8.0</td>\n",
       "      <td>9.0</td>\n",
       "      <td>16.169551</td>\n",
       "      <td>15.316723</td>\n",
       "    </tr>\n",
       "    <tr>\n",
       "      <th>Peets</th>\n",
       "      <td>9.0</td>\n",
       "      <td>11.0</td>\n",
       "      <td>16.240656</td>\n",
       "      <td>19.992475</td>\n",
       "    </tr>\n",
       "    <tr>\n",
       "      <th>Saxbys</th>\n",
       "      <td>9.0</td>\n",
       "      <td>7.0</td>\n",
       "      <td>14.598841</td>\n",
       "      <td>17.238755</td>\n",
       "    </tr>\n",
       "    <tr>\n",
       "      <th>Starbucks</th>\n",
       "      <td>10.0</td>\n",
       "      <td>11.0</td>\n",
       "      <td>19.470102</td>\n",
       "      <td>19.728897</td>\n",
       "    </tr>\n",
       "  </tbody>\n",
       "</table>\n",
       "</div>"
      ],
      "text/plain": [
       "                hours_open       hourly_wage           \n",
       "year                  2019  2021        2019       2021\n",
       "shop_name                                              \n",
       "Baked and Wired        7.0   5.0   16.308214  19.222221\n",
       "Blue Bottle           11.0  10.0   19.231655  19.951942\n",
       "Compass                8.0   9.0   16.169551  15.316723\n",
       "Peets                  9.0  11.0   16.240656  19.992475\n",
       "Saxbys                 9.0   7.0   14.598841  17.238755\n",
       "Starbucks             10.0  11.0   19.470102  19.728897"
      ]
     },
     "execution_count": 9,
     "metadata": {},
     "output_type": "execute_result"
    }
   ],
   "source": [
    "## pivot to wide using shop_name as the index--- what we want to keep as rows\n",
    "coffee_wide = pd.pivot(coffee_keep, index = 'shop_name',\n",
    "                      columns= 'year', \n",
    "                      values = ['hours_open', 'hourly_wage'])\n",
    "coffee_wide\n",
    "\n",
    "## notice in above the shop_name\n",
    "## gets added as an index rather than its own column\n",
    "## so we can't do subsetting - uncomment to see error\n",
    "# coffee_wide[coffee_wide.shop_name == \"Blue Bottle\"]\n",
    "\n"
   ]
  },
  {
   "cell_type": "code",
   "execution_count": 10,
   "metadata": {},
   "outputs": [
    {
     "data": {
      "text/plain": [
       "MultiIndex([(  'shop_name',   ''),\n",
       "            ( 'hours_open', 2019),\n",
       "            ( 'hours_open', 2021),\n",
       "            ('hourly_wage', 2019),\n",
       "            ('hourly_wage', 2021)],\n",
       "           names=[None, 'year'])"
      ]
     },
     "execution_count": 10,
     "metadata": {},
     "output_type": "execute_result"
    },
    {
     "data": {
      "text/html": [
       "<div>\n",
       "<style scoped>\n",
       "    .dataframe tbody tr th:only-of-type {\n",
       "        vertical-align: middle;\n",
       "    }\n",
       "\n",
       "    .dataframe tbody tr th {\n",
       "        vertical-align: top;\n",
       "    }\n",
       "\n",
       "    .dataframe thead th {\n",
       "        text-align: right;\n",
       "    }\n",
       "</style>\n",
       "<table border=\"1\" class=\"dataframe\">\n",
       "  <thead>\n",
       "    <tr style=\"text-align: right;\">\n",
       "      <th></th>\n",
       "      <th>shop_name</th>\n",
       "      <th>hours_open_2019</th>\n",
       "      <th>hours_open_2021</th>\n",
       "      <th>hourly_wage_2019</th>\n",
       "      <th>hourly_wage_2021</th>\n",
       "    </tr>\n",
       "  </thead>\n",
       "  <tbody>\n",
       "    <tr>\n",
       "      <th>0</th>\n",
       "      <td>Baked and Wired</td>\n",
       "      <td>7.0</td>\n",
       "      <td>5.0</td>\n",
       "      <td>16.308214</td>\n",
       "      <td>19.222221</td>\n",
       "    </tr>\n",
       "    <tr>\n",
       "      <th>1</th>\n",
       "      <td>Blue Bottle</td>\n",
       "      <td>11.0</td>\n",
       "      <td>10.0</td>\n",
       "      <td>19.231655</td>\n",
       "      <td>19.951942</td>\n",
       "    </tr>\n",
       "    <tr>\n",
       "      <th>2</th>\n",
       "      <td>Compass</td>\n",
       "      <td>8.0</td>\n",
       "      <td>9.0</td>\n",
       "      <td>16.169551</td>\n",
       "      <td>15.316723</td>\n",
       "    </tr>\n",
       "    <tr>\n",
       "      <th>3</th>\n",
       "      <td>Peets</td>\n",
       "      <td>9.0</td>\n",
       "      <td>11.0</td>\n",
       "      <td>16.240656</td>\n",
       "      <td>19.992475</td>\n",
       "    </tr>\n",
       "    <tr>\n",
       "      <th>4</th>\n",
       "      <td>Saxbys</td>\n",
       "      <td>9.0</td>\n",
       "      <td>7.0</td>\n",
       "      <td>14.598841</td>\n",
       "      <td>17.238755</td>\n",
       "    </tr>\n",
       "  </tbody>\n",
       "</table>\n",
       "</div>"
      ],
      "text/plain": [
       "         shop_name  hours_open_2019  hours_open_2021  hourly_wage_2019  \\\n",
       "0  Baked and Wired              7.0              5.0         16.308214   \n",
       "1      Blue Bottle             11.0             10.0         19.231655   \n",
       "2          Compass              8.0              9.0         16.169551   \n",
       "3            Peets              9.0             11.0         16.240656   \n",
       "4           Saxbys              9.0              7.0         14.598841   \n",
       "\n",
       "   hourly_wage_2021  \n",
       "0         19.222221  \n",
       "1         19.951942  \n",
       "2         15.316723  \n",
       "3         19.992475  \n",
       "4         17.238755  "
      ]
     },
     "execution_count": 10,
     "metadata": {},
     "output_type": "execute_result"
    }
   ],
   "source": [
    "## trying again with reset_index()\n",
    "coffee_wide = pd.pivot(coffee_df, index = 'shop_name',\n",
    "                      columns= 'year', \n",
    "                      values = ['hours_open', 'hourly_wage']).reset_index()\n",
    "\n",
    "coffee_wide.columns \n",
    "## pasting together the two levels of the multi index- https://stackoverflow.com/questions/24290297/pandas-dataframe-with-multiindex-column-merge-levels\n",
    "new_col  =[str(x) + \"_\" + str(y)\n",
    "           if y != \"\" \n",
    "           else str(x) for x, y in coffee_wide.columns]\n",
    "coffee_wide.columns = new_col\n",
    "coffee_wide.head()\n"
   ]
  },
  {
   "cell_type": "markdown",
   "metadata": {},
   "source": [
    "## 2.3 Using that reshaped data to simplify operations\n",
    "\n",
    "Create a new column that takes value of True if hours_open_2021 is less than in 2019, False otherwise"
   ]
  },
  {
   "cell_type": "code",
   "execution_count": 11,
   "metadata": {},
   "outputs": [
    {
     "data": {
      "text/html": [
       "<div>\n",
       "<style scoped>\n",
       "    .dataframe tbody tr th:only-of-type {\n",
       "        vertical-align: middle;\n",
       "    }\n",
       "\n",
       "    .dataframe tbody tr th {\n",
       "        vertical-align: top;\n",
       "    }\n",
       "\n",
       "    .dataframe thead th {\n",
       "        text-align: right;\n",
       "    }\n",
       "</style>\n",
       "<table border=\"1\" class=\"dataframe\">\n",
       "  <thead>\n",
       "    <tr style=\"text-align: right;\">\n",
       "      <th></th>\n",
       "      <th>shop_name</th>\n",
       "      <th>hours_open_2019</th>\n",
       "      <th>hours_open_2021</th>\n",
       "      <th>hourly_wage_2019</th>\n",
       "      <th>hourly_wage_2021</th>\n",
       "      <th>is_fewer_hours</th>\n",
       "    </tr>\n",
       "  </thead>\n",
       "  <tbody>\n",
       "    <tr>\n",
       "      <th>0</th>\n",
       "      <td>Baked and Wired</td>\n",
       "      <td>7.0</td>\n",
       "      <td>5.0</td>\n",
       "      <td>16.308214</td>\n",
       "      <td>19.222221</td>\n",
       "      <td>True</td>\n",
       "    </tr>\n",
       "    <tr>\n",
       "      <th>1</th>\n",
       "      <td>Blue Bottle</td>\n",
       "      <td>11.0</td>\n",
       "      <td>10.0</td>\n",
       "      <td>19.231655</td>\n",
       "      <td>19.951942</td>\n",
       "      <td>True</td>\n",
       "    </tr>\n",
       "    <tr>\n",
       "      <th>2</th>\n",
       "      <td>Compass</td>\n",
       "      <td>8.0</td>\n",
       "      <td>9.0</td>\n",
       "      <td>16.169551</td>\n",
       "      <td>15.316723</td>\n",
       "      <td>False</td>\n",
       "    </tr>\n",
       "    <tr>\n",
       "      <th>3</th>\n",
       "      <td>Peets</td>\n",
       "      <td>9.0</td>\n",
       "      <td>11.0</td>\n",
       "      <td>16.240656</td>\n",
       "      <td>19.992475</td>\n",
       "      <td>False</td>\n",
       "    </tr>\n",
       "    <tr>\n",
       "      <th>4</th>\n",
       "      <td>Saxbys</td>\n",
       "      <td>9.0</td>\n",
       "      <td>7.0</td>\n",
       "      <td>14.598841</td>\n",
       "      <td>17.238755</td>\n",
       "      <td>True</td>\n",
       "    </tr>\n",
       "  </tbody>\n",
       "</table>\n",
       "</div>"
      ],
      "text/plain": [
       "         shop_name  hours_open_2019  hours_open_2021  hourly_wage_2019  \\\n",
       "0  Baked and Wired              7.0              5.0         16.308214   \n",
       "1      Blue Bottle             11.0             10.0         19.231655   \n",
       "2          Compass              8.0              9.0         16.169551   \n",
       "3            Peets              9.0             11.0         16.240656   \n",
       "4           Saxbys              9.0              7.0         14.598841   \n",
       "\n",
       "   hourly_wage_2021  is_fewer_hours  \n",
       "0         19.222221            True  \n",
       "1         19.951942            True  \n",
       "2         15.316723           False  \n",
       "3         19.992475           False  \n",
       "4         17.238755            True  "
      ]
     },
     "execution_count": 11,
     "metadata": {},
     "output_type": "execute_result"
    }
   ],
   "source": [
    "coffee_wide['is_fewer_hours'] = coffee_wide.hours_open_2021 < coffee_wide.hours_open_2019\n",
    "coffee_wide.head()"
   ]
  },
  {
   "cell_type": "markdown",
   "metadata": {},
   "source": [
    "## 2.4 Practice for you\n",
    "\n",
    "- Below is a fake dataframe with metro stops and delays. \n",
    "\n",
    "- Reshape so that each row is a metro stop and find whether there were more days with delays in 2021 than in 2020 for that stop\n"
   ]
  },
  {
   "cell_type": "code",
   "execution_count": 13,
   "metadata": {},
   "outputs": [
    {
     "data": {
      "text/html": [
       "<div>\n",
       "<style scoped>\n",
       "    .dataframe tbody tr th:only-of-type {\n",
       "        vertical-align: middle;\n",
       "    }\n",
       "\n",
       "    .dataframe tbody tr th {\n",
       "        vertical-align: top;\n",
       "    }\n",
       "\n",
       "    .dataframe thead th {\n",
       "        text-align: right;\n",
       "    }\n",
       "</style>\n",
       "<table border=\"1\" class=\"dataframe\">\n",
       "  <thead>\n",
       "    <tr style=\"text-align: right;\">\n",
       "      <th></th>\n",
       "      <th>stop</th>\n",
       "      <th>days_delayed</th>\n",
       "      <th>year</th>\n",
       "    </tr>\n",
       "  </thead>\n",
       "  <tbody>\n",
       "    <tr>\n",
       "      <th>0</th>\n",
       "      <td>dupont circle</td>\n",
       "      <td>200</td>\n",
       "      <td>2020</td>\n",
       "    </tr>\n",
       "    <tr>\n",
       "      <th>1</th>\n",
       "      <td>dupont circle</td>\n",
       "      <td>50</td>\n",
       "      <td>2021</td>\n",
       "    </tr>\n",
       "    <tr>\n",
       "      <th>2</th>\n",
       "      <td>foggy bottom</td>\n",
       "      <td>40</td>\n",
       "      <td>2020</td>\n",
       "    </tr>\n",
       "    <tr>\n",
       "      <th>3</th>\n",
       "      <td>foggy bottom</td>\n",
       "      <td>100</td>\n",
       "      <td>2021</td>\n",
       "    </tr>\n",
       "  </tbody>\n",
       "</table>\n",
       "</div>"
      ],
      "text/plain": [
       "            stop  days_delayed  year\n",
       "0  dupont circle           200  2020\n",
       "1  dupont circle            50  2021\n",
       "2   foggy bottom            40  2020\n",
       "3   foggy bottom           100  2021"
      ]
     },
     "execution_count": 13,
     "metadata": {},
     "output_type": "execute_result"
    }
   ],
   "source": [
    "## long dataframe\n",
    "np.random.seed(1129)\n",
    "metro_stops = pd.DataFrame({'stop': ['dupont circle', 'dupont circle', \n",
    "                           'foggy bottom', 'foggy bottom'],\n",
    "                           'days_delayed': np.random.choice([50, 40, 100, 200],\n",
    "                                                           4, replace = False),\n",
    "                           'year': [2020, 2021, 2020, 2021]})\n",
    "metro_stops"
   ]
  },
  {
   "cell_type": "code",
   "execution_count": 25,
   "metadata": {},
   "outputs": [
    {
     "data": {
      "text/html": [
       "<div>\n",
       "<style scoped>\n",
       "    .dataframe tbody tr th:only-of-type {\n",
       "        vertical-align: middle;\n",
       "    }\n",
       "\n",
       "    .dataframe tbody tr th {\n",
       "        vertical-align: top;\n",
       "    }\n",
       "\n",
       "    .dataframe thead th {\n",
       "        text-align: right;\n",
       "    }\n",
       "</style>\n",
       "<table border=\"1\" class=\"dataframe\">\n",
       "  <thead>\n",
       "    <tr style=\"text-align: right;\">\n",
       "      <th></th>\n",
       "      <th>stop</th>\n",
       "      <th>year_2020</th>\n",
       "      <th>year_2021</th>\n",
       "      <th>is_delayed_more</th>\n",
       "    </tr>\n",
       "  </thead>\n",
       "  <tbody>\n",
       "    <tr>\n",
       "      <th>0</th>\n",
       "      <td>dupont circle</td>\n",
       "      <td>200</td>\n",
       "      <td>50</td>\n",
       "      <td>False</td>\n",
       "    </tr>\n",
       "    <tr>\n",
       "      <th>1</th>\n",
       "      <td>foggy bottom</td>\n",
       "      <td>40</td>\n",
       "      <td>100</td>\n",
       "      <td>True</td>\n",
       "    </tr>\n",
       "  </tbody>\n",
       "</table>\n",
       "</div>"
      ],
      "text/plain": [
       "            stop  year_2020  year_2021  is_delayed_more\n",
       "0  dupont circle        200         50            False\n",
       "1   foggy bottom         40        100             True"
      ]
     },
     "execution_count": 25,
     "metadata": {},
     "output_type": "execute_result"
    }
   ],
   "source": [
    "## your code\n",
    "metro_wide = pd.pivot(metro_stops, \n",
    "                     index = 'stop',\n",
    "                     columns = 'year',\n",
    "                     values = 'days_delayed').reset_index()\n",
    "metro_wide.columns = [\"year\" + \"_\" + str(x) \n",
    "        if isinstance(x ,int) \n",
    "        else x for x in metro_wide.columns]\n",
    "metro_wide['is_delayed_more'] = metro_wide.year_2021 > metro_wide.year_2020\n",
    "metro_wide"
   ]
  },
  {
   "cell_type": "markdown",
   "metadata": {},
   "source": [
    "# 3. User defined functions and if/elif/control flow"
   ]
  },
  {
   "cell_type": "markdown",
   "metadata": {},
   "source": [
    "## 3.1 if/elif/else outside a function\n",
    "\n",
    "**Task**: with the original `coffee_df` data, pick an arbitrary shop_name and check if has more than 1 word; if it does, print \"shop name has >1 word\"; if not, print \"shop name has one word\""
   ]
  },
  {
   "cell_type": "code",
   "execution_count": 62,
   "metadata": {},
   "outputs": [
    {
     "data": {
      "text/plain": [
       "'Baked and Wired'"
      ]
     },
     "execution_count": 62,
     "metadata": {},
     "output_type": "execute_result"
    },
    {
     "data": {
      "text/plain": [
       "['Baked', 'and', 'Wired']"
      ]
     },
     "execution_count": 62,
     "metadata": {},
     "output_type": "execute_result"
    },
    {
     "data": {
      "text/plain": [
       "list"
      ]
     },
     "execution_count": 62,
     "metadata": {},
     "output_type": "execute_result"
    },
    {
     "data": {
      "text/plain": [
       "3"
      ]
     },
     "execution_count": 62,
     "metadata": {},
     "output_type": "execute_result"
    }
   ],
   "source": [
    "one_shop = coffee_df.shop_name.iloc[0]\n",
    "one_shop\n",
    "\n",
    "sep_shop = one_shop.split(\" \")\n",
    "sep_shop\n",
    "type(sep_shop)\n",
    "len(sep_shop)\n"
   ]
  },
  {
   "cell_type": "code",
   "execution_count": 63,
   "metadata": {},
   "outputs": [
    {
     "name": "stdout",
     "output_type": "stream",
     "text": [
      "Shop has >1 word\n"
     ]
    }
   ],
   "source": [
    "if len(sep_shop) > 1:\n",
    "    print(\"Shop has >1 word\")\n",
    "else:\n",
    "    print(\"Shop has 1 word\")"
   ]
  },
  {
   "cell_type": "markdown",
   "metadata": {},
   "source": [
    "## 3.2 if/elif/else inside a function \n",
    "\n",
    "**Task**: move that inside a function that takes a single shop name as an argument. Apply the function w/ one arbitrary shop name"
   ]
  },
  {
   "cell_type": "code",
   "execution_count": 64,
   "metadata": {},
   "outputs": [],
   "source": [
    "def check_namel(one_shop: str):\n",
    "    sep_shop = one_shop.split(\" \") \n",
    "    if len(sep_shop) > 1:\n",
    "        print(one_shop + \": Shop has >1 word\")\n",
    "    else:\n",
    "        print(one_shop + \": Shop has 1 word\")\n"
   ]
  },
  {
   "cell_type": "code",
   "execution_count": 65,
   "metadata": {},
   "outputs": [
    {
     "name": "stdout",
     "output_type": "stream",
     "text": [
      "Baked and Wired: Shop has >1 word\n"
     ]
    }
   ],
   "source": [
    "check_namel(one_shop = one_shop)"
   ]
  },
  {
   "cell_type": "markdown",
   "metadata": {},
   "source": [
    "## 3.3 different ways of executing over all shop names\n",
    "\n",
    "Note: because the function returns nothing, it just returns `None` with either way of executing"
   ]
  },
  {
   "cell_type": "markdown",
   "metadata": {},
   "source": [
    "### 3.3.1 List comprehension"
   ]
  },
  {
   "cell_type": "code",
   "execution_count": 67,
   "metadata": {},
   "outputs": [
    {
     "name": "stdout",
     "output_type": "stream",
     "text": [
      "Baked and Wired: Shop has >1 word\n",
      "Blue Bottle: Shop has >1 word\n",
      "Compass: Shop has 1 word\n",
      "Peets: Shop has 1 word\n",
      "Saxbys: Shop has 1 word\n",
      "Starbucks: Shop has 1 word\n"
     ]
    },
    {
     "data": {
      "text/plain": [
       "[None, None, None, None, None, None]"
      ]
     },
     "execution_count": 67,
     "metadata": {},
     "output_type": "execute_result"
    }
   ],
   "source": [
    "[check_namel(one_shop) for one_shop in coffee_df.shop_name.unique()]"
   ]
  },
  {
   "cell_type": "markdown",
   "metadata": {},
   "source": [
    "### 3.3.2 Apply "
   ]
  },
  {
   "cell_type": "code",
   "execution_count": 68,
   "metadata": {},
   "outputs": [
    {
     "name": "stdout",
     "output_type": "stream",
     "text": [
      "Baked and Wired: Shop has >1 word\n",
      "Baked and Wired: Shop has >1 word\n",
      "Blue Bottle: Shop has >1 word\n",
      "Blue Bottle: Shop has >1 word\n",
      "Compass: Shop has 1 word\n",
      "Compass: Shop has 1 word\n",
      "Peets: Shop has 1 word\n",
      "Peets: Shop has 1 word\n",
      "Saxbys: Shop has 1 word\n",
      "Saxbys: Shop has 1 word\n",
      "Starbucks: Shop has 1 word\n",
      "Starbucks: Shop has 1 word\n"
     ]
    },
    {
     "data": {
      "text/plain": [
       "2    None\n",
       "2    None\n",
       "4    None\n",
       "4    None\n",
       "0    None\n",
       "0    None\n",
       "3    None\n",
       "3    None\n",
       "5    None\n",
       "5    None\n",
       "1    None\n",
       "1    None\n",
       "Name: shop_name, dtype: object"
      ]
     },
     "execution_count": 68,
     "metadata": {},
     "output_type": "execute_result"
    }
   ],
   "source": [
    "coffee_df.shop_name.apply(check_namel)"
   ]
  },
  {
   "cell_type": "markdown",
   "metadata": {},
   "source": [
    "## 3.4 Practice for you"
   ]
  },
  {
   "cell_type": "markdown",
   "metadata": {},
   "source": [
    "**Task**: modify the previous function to do the following instead of printing:\n",
    "        \n",
    "- If the shop name is longer than 1 word, return just the first word of the name\n",
    "- Otherwise return the full shop name\n",
    "\n",
    "After making sure the function works with one shop name, iterate over the shop names using one of the above methods (list comprehension or apply) and create a new column in `coffee_df` with the single-word name"
   ]
  },
  {
   "cell_type": "code",
   "execution_count": 69,
   "metadata": {},
   "outputs": [],
   "source": [
    "def shorten_name(one_shop: str):\n",
    "    sep_shop = one_shop.split(\" \") \n",
    "    if len(sep_shop) > 1:\n",
    "        return(sep_shop[0])\n",
    "    else:\n",
    "        return(one_shop)"
   ]
  },
  {
   "cell_type": "code",
   "execution_count": 70,
   "metadata": {},
   "outputs": [
    {
     "data": {
      "text/html": [
       "<div>\n",
       "<style scoped>\n",
       "    .dataframe tbody tr th:only-of-type {\n",
       "        vertical-align: middle;\n",
       "    }\n",
       "\n",
       "    .dataframe tbody tr th {\n",
       "        vertical-align: top;\n",
       "    }\n",
       "\n",
       "    .dataframe thead th {\n",
       "        text-align: right;\n",
       "    }\n",
       "</style>\n",
       "<table border=\"1\" class=\"dataframe\">\n",
       "  <thead>\n",
       "    <tr style=\"text-align: right;\">\n",
       "      <th></th>\n",
       "      <th>shop_name</th>\n",
       "      <th>sname_short</th>\n",
       "    </tr>\n",
       "  </thead>\n",
       "  <tbody>\n",
       "    <tr>\n",
       "      <th>2</th>\n",
       "      <td>Baked and Wired</td>\n",
       "      <td>Baked</td>\n",
       "    </tr>\n",
       "    <tr>\n",
       "      <th>2</th>\n",
       "      <td>Baked and Wired</td>\n",
       "      <td>Baked</td>\n",
       "    </tr>\n",
       "    <tr>\n",
       "      <th>4</th>\n",
       "      <td>Blue Bottle</td>\n",
       "      <td>Blue</td>\n",
       "    </tr>\n",
       "    <tr>\n",
       "      <th>4</th>\n",
       "      <td>Blue Bottle</td>\n",
       "      <td>Blue</td>\n",
       "    </tr>\n",
       "    <tr>\n",
       "      <th>0</th>\n",
       "      <td>Compass</td>\n",
       "      <td>Compass</td>\n",
       "    </tr>\n",
       "  </tbody>\n",
       "</table>\n",
       "</div>"
      ],
      "text/plain": [
       "         shop_name sname_short\n",
       "2  Baked and Wired       Baked\n",
       "2  Baked and Wired       Baked\n",
       "4      Blue Bottle        Blue\n",
       "4      Blue Bottle        Blue\n",
       "0          Compass     Compass"
      ]
     },
     "execution_count": 70,
     "metadata": {},
     "output_type": "execute_result"
    }
   ],
   "source": [
    "coffee_df['sname_short'] = [shorten_name(one_shop) for one_shop in \n",
    "                           coffee_df.shop_name]\n",
    "coffee_df[['shop_name', 'sname_short']].head()"
   ]
  },
  {
   "cell_type": "markdown",
   "metadata": {},
   "source": [
    "# 4. Plotting practice\n",
    "\n",
    "**Task**: create a plot where the x axis is a coffee shop and the y axis is the number of hours open, creating separate bars (or shading separately) for 2019 versus 2021"
   ]
  },
  {
   "cell_type": "code",
   "execution_count": 71,
   "metadata": {},
   "outputs": [
    {
     "data": {
      "image/png": "[encoded data removed]",
      "text/plain": [
       "<Figure size 640x480 with 1 Axes>"
      ]
     },
     "metadata": {},
     "output_type": "display_data"
    },
    {
     "data": {
      "text/plain": [
       "<ggplot: (8780819231916)>"
      ]
     },
     "execution_count": 71,
     "metadata": {},
     "output_type": "execute_result"
    }
   ],
   "source": [
    "import plotnine\n",
    "from plotnine import *\n",
    "\n",
    "(ggplot(coffee_df, aes(x = 'shop_name', y = 'hours_open',\n",
    "                      group = 'factor(year)',\n",
    "                      fill = 'factor(year)')) +\n",
    "geom_bar(stat = 'identity', position = 'dodge') +\n",
    "theme(axis_text_x= element_text(angle = 90)))"
   ]
  }
 ],
 "metadata": {
  "kernelspec": {
   "display_name": "Python 3",
   "language": "python",
   "name": "python3"
  },
  "language_info": {
   "codemirror_mode": {
    "name": "ipython",
    "version": 3
   },
   "file_extension": ".py",
   "mimetype": "text/x-python",
   "name": "python",
   "nbconvert_exporter": "python",
   "pygments_lexer": "ipython3",
   "version": "3.8.3"
  }
 },
 "nbformat": 4,
 "nbformat_minor": 4
}
