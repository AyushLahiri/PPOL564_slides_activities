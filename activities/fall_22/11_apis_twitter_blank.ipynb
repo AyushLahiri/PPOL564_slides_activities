{
 "cells": [
  {
   "cell_type": "code",
   "execution_count": null,
   "metadata": {},
   "outputs": [],
   "source": [
    "## imports\n",
    "import pandas as pd\n",
    "import numpy as np\n",
    "import re\n",
    "import requests\n",
    "import yaml\n",
    "import tweepy\n",
    "import pickle\n",
    "import plotnine\n",
    "from plotnine import *\n",
    "from vaderSentiment.vaderSentiment import SentimentIntensityAnalyzer\n",
    "\n",
    "## repeated printouts\n",
    "from IPython.core.interactiveshell import InteractiveShell\n",
    "InteractiveShell.ast_node_interactivity = \"all\"\n",
    "pd.set_option('display.max_colwidth', None)\n",
    "\n",
    "## function to load credentials file\n",
    "def load_creds(path: str):\n",
    "    with open(path, 'r') as stream:\n",
    "        try:\n",
    "            creds = yaml.safe_load(stream)\n",
    "        except yaml.YAMLError as exc:\n",
    "            print(exc)\n",
    "    return(creds)"
   ]
  },
  {
   "cell_type": "markdown",
   "metadata": {},
   "source": [
    "# 0. Setup: authenticate to Twitter API"
   ]
  },
  {
   "cell_type": "code",
   "execution_count": null,
   "metadata": {},
   "outputs": [],
   "source": [
    "## read creds file- replace with path to your creds\n",
    "creds = load_creds(\"YOUR PATH TO CREDS\")\n"
   ]
  },
  {
   "cell_type": "code",
   "execution_count": null,
   "metadata": {},
   "outputs": [],
   "source": [
    "## use bearer token to initialize a tweepy client (connection with twitter API)\n"
   ]
  },
  {
   "cell_type": "markdown",
   "metadata": {},
   "source": [
    "# 1. Use one: pulling recent tweets associated with a hashtag\n",
    "\n",
    "Here, we're going to pull recent tweets associated with the metoo hashtag. Note that if we want tweets older than a week, we need to either get an academic license (rather than a student one) or use another method (discussion here: https://stackoverflow.com/questions/24214189/how-can-i-get-tweets-older-than-a-week-using-tweepy-or-other-python-libraries) \n",
    "\n",
    "The `Cursor` class w/in tweepy allows us to pull while skipping annoying things like pagination\n",
    "\n",
    "**Example use**: Gallagher et al. look at the use of hashtags #BlackLivesMatter, #AllLivesMatters, and others in days following instances of officer-involved shootings or indictments/non-indictments. They examine things like the different words that are used in tweets containing those hashtags and whether the conversations occur separately or whether those using the #AllLivesMatter hashtag are inserting themselves into BLM conversations: https://journals.plos.org/plosone/article?id=10.1371/journal.pone.0195644"
   ]
  },
  {
   "cell_type": "markdown",
   "metadata": {},
   "source": [
    "## 1.1 Printing tweets and their attributes"
   ]
  },
  {
   "cell_type": "code",
   "execution_count": null,
   "metadata": {},
   "outputs": [],
   "source": [
    "## construct a hashtag\n",
    "## we're filtering out retweets for simplicity\n",
    "## discussion here of query construction:\n",
    "## https://developer.twitter.com/en/docs/twitter-api/tweets/search/integrate/build-a-query\n",
    "query = \"#metoo econ -@jenniferagerson -is:retweet\"\n",
    "\n"
   ]
  },
  {
   "cell_type": "code",
   "execution_count": null,
   "metadata": {},
   "outputs": [],
   "source": []
  },
  {
   "cell_type": "code",
   "execution_count": null,
   "metadata": {},
   "outputs": [],
   "source": []
  },
  {
   "cell_type": "markdown",
   "metadata": {},
   "source": [
    "## 1.2 Printing attributes of users "
   ]
  },
  {
   "cell_type": "code",
   "execution_count": null,
   "metadata": {},
   "outputs": [],
   "source": []
  },
  {
   "cell_type": "markdown",
   "metadata": {},
   "source": [
    "## 1.3 Storing that tweet and user information in a dataframe\n",
    "\n",
    "If we want to work with this as data, instead of iterating and printing, \n",
    "want to store in a dataframe"
   ]
  },
  {
   "cell_type": "markdown",
   "metadata": {},
   "source": [
    "### 1.3.1 Pull attributes/metadata about tweets"
   ]
  },
  {
   "cell_type": "code",
   "execution_count": null,
   "metadata": {},
   "outputs": [],
   "source": []
  },
  {
   "cell_type": "markdown",
   "metadata": {},
   "source": [
    "### 1.3.2 Pull attributes/metadata about users"
   ]
  },
  {
   "cell_type": "code",
   "execution_count": null,
   "metadata": {},
   "outputs": [],
   "source": []
  },
  {
   "cell_type": "markdown",
   "metadata": {},
   "source": [
    "## 1.4 Exploring the results"
   ]
  },
  {
   "cell_type": "code",
   "execution_count": null,
   "metadata": {},
   "outputs": [],
   "source": [
    "### 1. what percent are diff languages?\n"
   ]
  },
  {
   "cell_type": "code",
   "execution_count": null,
   "metadata": {},
   "outputs": [],
   "source": [
    "### 2. what's the relationship b/t followers and likes? (logged and removing 0)\n",
    "\n"
   ]
  },
  {
   "cell_type": "code",
   "execution_count": null,
   "metadata": {},
   "outputs": [],
   "source": [
    "### 3. search for who's tagged in a tweet - restricting to english language\n",
    "tag_pat = r\".*(@\\w+).*\"\n",
    "\n",
    "\n"
   ]
  },
  {
   "cell_type": "code",
   "execution_count": null,
   "metadata": {},
   "outputs": [],
   "source": [
    "### 4. search for hashtags in a tweet\n",
    "hash_pat = r\".*(\\#\\w+)\\s+.*\"\n"
   ]
  },
  {
   "cell_type": "markdown",
   "metadata": {},
   "source": [
    "# 2. Use two: examining relationships between those on the site\n",
    "\n",
    "- Previous example showed both who tweeted with a lot of likes/high follower counts, and also who they tended to tag in the tweets\n",
    "- We can also use twitter to form the start of a social network where nodes are different accounts and edges are drawn between followers who follow the same focal account; here, we'll look at a simplified form\n",
    "\n",
    "**Example use**: Mosleh et al. do a field experiment where they create Twitter bots that either self-identify as Republican or Democrat and then the bots follow people. They look at how the partisanship of the user the bot follows predicts whether the user follows a bot back: https://www.pnas.org/content/118/7/e2022761118.short"
   ]
  },
  {
   "cell_type": "code",
   "execution_count": 3,
   "metadata": {},
   "outputs": [
    {
     "data": {
      "text/html": [
       "<div>\n",
       "<style scoped>\n",
       "    .dataframe tbody tr th:only-of-type {\n",
       "        vertical-align: middle;\n",
       "    }\n",
       "\n",
       "    .dataframe tbody tr th {\n",
       "        vertical-align: top;\n",
       "    }\n",
       "\n",
       "    .dataframe thead th {\n",
       "        text-align: right;\n",
       "    }\n",
       "</style>\n",
       "<table border=\"1\" class=\"dataframe\">\n",
       "  <thead>\n",
       "    <tr style=\"text-align: right;\">\n",
       "      <th></th>\n",
       "      <th>id</th>\n",
       "      <th>created_at</th>\n",
       "      <th>author_id</th>\n",
       "      <th>text</th>\n",
       "      <th>lang</th>\n",
       "      <th>geo</th>\n",
       "      <th>public_metrics_tweet</th>\n",
       "      <th>username</th>\n",
       "      <th>description</th>\n",
       "      <th>location</th>\n",
       "      <th>verified</th>\n",
       "      <th>public_metrics_user</th>\n",
       "    </tr>\n",
       "  </thead>\n",
       "  <tbody>\n",
       "    <tr>\n",
       "      <th>1</th>\n",
       "      <td>1585557668776779778</td>\n",
       "      <td>2022-10-27 09:03:01+00:00</td>\n",
       "      <td>725686324662046724</td>\n",
       "      <td>There is a large #MeToo moment taking place in Economics.\\nTo all men who react to this with \"I can't believe it, I am so shocked\": where have you been the past 5 years?\\nTo all men in political science who say \"that's econ, not us\": where have you been the past 5 years? https://t.co/tvIYfkjtzg</td>\n",
       "      <td>en</td>\n",
       "      <td>None</td>\n",
       "      <td>237</td>\n",
       "      <td>tabouchadi</td>\n",
       "      <td>Associate Professor in European Politics at Nuffield College, University of Oxford. Elections, parties, social democracy &amp; the radical right. he/him. 🏳️‍🌈</td>\n",
       "      <td>None</td>\n",
       "      <td>True</td>\n",
       "      <td>19276</td>\n",
       "    </tr>\n",
       "    <tr>\n",
       "      <th>5</th>\n",
       "      <td>1585239900961374208</td>\n",
       "      <td>2022-10-26 12:00:19+00:00</td>\n",
       "      <td>482431084</td>\n",
       "      <td>It's hard to overstate how important econ's latest #MeToo events are.\\n\\nTo be its best, the field needs everyone, which means welcoming and protecting every economist or potential economist.\\n\\nI've mostly been listening but have two thoughts to emphasize:</td>\n",
       "      <td>en</td>\n",
       "      <td>None</td>\n",
       "      <td>149</td>\n",
       "      <td>JoshuaSGoodman</td>\n",
       "      <td>Education/labor economist - @WhiteHouseCEA (2022-23) - @BUWheelock / @BU_Economics - @Wheelock_Policy - @JPAM_DC</td>\n",
       "      <td>Cambridge, MA</td>\n",
       "      <td>False</td>\n",
       "      <td>17499</td>\n",
       "    </tr>\n",
       "    <tr>\n",
       "      <th>13</th>\n",
       "      <td>1584721962823479297</td>\n",
       "      <td>2022-10-25 01:42:13+00:00</td>\n",
       "      <td>64092459</td>\n",
       "      <td>the #metoo (second season) moment in Econ has been SUPER useful in building my block list</td>\n",
       "      <td>en</td>\n",
       "      <td>None</td>\n",
       "      <td>121</td>\n",
       "      <td>dynarski</td>\n",
       "      <td>economist | inequality &amp; education | 1st-gen | prof @Harvard | @americanacad @NAEduc NBER | columns @nytimes https://t.co/5RZ12LOAPB | @dynarski@mastodon.social</td>\n",
       "      <td>Cambridge via Somerville</td>\n",
       "      <td>True</td>\n",
       "      <td>44231</td>\n",
       "    </tr>\n",
       "    <tr>\n",
       "      <th>18</th>\n",
       "      <td>1584590533489414144</td>\n",
       "      <td>2022-10-24 16:59:58+00:00</td>\n",
       "      <td>242422673</td>\n",
       "      <td>If anyone has anything to say regarding the ongoing #metoo in econ, I can put u in touch with very professional investigative journalist that reached out to me. They can protect your identity and are open to chat on signal/telegram etc. They have long experience with this stuff</td>\n",
       "      <td>en</td>\n",
       "      <td>{'place_id': '2260fcb4a77f2bad'}</td>\n",
       "      <td>65</td>\n",
       "      <td>dorotheafrenkel</td>\n",
       "      <td>Assistant Prof in Behavioral Econ @TheChoiceLab examining the role of gender in group work, reproducibility &amp; other topics.atm: TEACHING. 🇸🇪✡️🇭🇺</td>\n",
       "      <td>Bergen, Norway</td>\n",
       "      <td>False</td>\n",
       "      <td>4154</td>\n",
       "    </tr>\n",
       "    <tr>\n",
       "      <th>14</th>\n",
       "      <td>1584654525717413889</td>\n",
       "      <td>2022-10-24 21:14:15+00:00</td>\n",
       "      <td>245987858</td>\n",
       "      <td>Plus, it highlights how important these statements are…signaling what the culture in Econ is currently like, moving towards, etc. The ripple effects can be massive! #EconTwitter #MeToo \\n(3/4)</td>\n",
       "      <td>en</td>\n",
       "      <td>None</td>\n",
       "      <td>47</td>\n",
       "      <td>estebanjq3</td>\n",
       "      <td>Development economist, demographer &amp; social scientist @MathematicaNow prior @UW_AAE @UW_CDE @IFPRI @FAO @AmeriCorpsNCCC Anti-fascist Anti-racist he/el 🇺🇸🇪🇨</td>\n",
       "      <td>Chicagoland, IL</td>\n",
       "      <td>False</td>\n",
       "      <td>2470</td>\n",
       "    </tr>\n",
       "  </tbody>\n",
       "</table>\n",
       "</div>"
      ],
      "text/plain": [
       "                     id                created_at           author_id  \\\n",
       "1   1585557668776779778 2022-10-27 09:03:01+00:00  725686324662046724   \n",
       "5   1585239900961374208 2022-10-26 12:00:19+00:00           482431084   \n",
       "13  1584721962823479297 2022-10-25 01:42:13+00:00            64092459   \n",
       "18  1584590533489414144 2022-10-24 16:59:58+00:00           242422673   \n",
       "14  1584654525717413889 2022-10-24 21:14:15+00:00           245987858   \n",
       "\n",
       "                                                                                                                                                                                                                                                                                                       text  \\\n",
       "1   There is a large #MeToo moment taking place in Economics.\\nTo all men who react to this with \"I can't believe it, I am so shocked\": where have you been the past 5 years?\\nTo all men in political science who say \"that's econ, not us\": where have you been the past 5 years? https://t.co/tvIYfkjtzg   \n",
       "5                                         It's hard to overstate how important econ's latest #MeToo events are.\\n\\nTo be its best, the field needs everyone, which means welcoming and protecting every economist or potential economist.\\n\\nI've mostly been listening but have two thoughts to emphasize:   \n",
       "13                                                                                                                                                                                                                the #metoo (second season) moment in Econ has been SUPER useful in building my block list   \n",
       "18                   If anyone has anything to say regarding the ongoing #metoo in econ, I can put u in touch with very professional investigative journalist that reached out to me. They can protect your identity and are open to chat on signal/telegram etc. They have long experience with this stuff   \n",
       "14                                                                                                         Plus, it highlights how important these statements are…signaling what the culture in Econ is currently like, moving towards, etc. The ripple effects can be massive! #EconTwitter #MeToo \\n(3/4)   \n",
       "\n",
       "   lang                               geo  public_metrics_tweet  \\\n",
       "1    en                              None                   237   \n",
       "5    en                              None                   149   \n",
       "13   en                              None                   121   \n",
       "18   en  {'place_id': '2260fcb4a77f2bad'}                    65   \n",
       "14   en                              None                    47   \n",
       "\n",
       "           username  \\\n",
       "1        tabouchadi   \n",
       "5    JoshuaSGoodman   \n",
       "13         dynarski   \n",
       "18  dorotheafrenkel   \n",
       "14       estebanjq3   \n",
       "\n",
       "                                                                                                                                                         description  \\\n",
       "1         Associate Professor in European Politics at Nuffield College, University of Oxford. Elections, parties, social democracy & the radical right. he/him. 🏳️‍🌈   \n",
       "5                                                   Education/labor economist - @WhiteHouseCEA (2022-23) - @BUWheelock / @BU_Economics - @Wheelock_Policy - @JPAM_DC   \n",
       "13  economist | inequality & education | 1st-gen | prof @Harvard | @americanacad @NAEduc NBER | columns @nytimes https://t.co/5RZ12LOAPB | @dynarski@mastodon.social   \n",
       "18                  Assistant Prof in Behavioral Econ @TheChoiceLab examining the role of gender in group work, reproducibility & other topics.atm: TEACHING. 🇸🇪✡️🇭🇺   \n",
       "14       Development economist, demographer & social scientist @MathematicaNow prior @UW_AAE @UW_CDE @IFPRI @FAO @AmeriCorpsNCCC Anti-fascist Anti-racist he/el 🇺🇸🇪🇨   \n",
       "\n",
       "                    location  verified  public_metrics_user  \n",
       "1                       None      True                19276  \n",
       "5              Cambridge, MA     False                17499  \n",
       "13  Cambridge via Somerville      True                44231  \n",
       "18            Bergen, Norway     False                 4154  \n",
       "14           Chicagoland, IL     False                 2470  "
      ]
     },
     "execution_count": 3,
     "metadata": {},
     "output_type": "execute_result"
    }
   ],
   "source": [
    "## read in standardized tweets\n",
    "READ_SAVED = True\n",
    "if READ_SAVED:\n",
    "    tweets_df = pd.read_pickle(\"../../public_data/tweets_f22.pkl\")\n",
    "tweets_df.sort_values(by = 'public_metrics_tweet', ascending = False).head()\n",
    "\n",
    "\n"
   ]
  },
  {
   "cell_type": "code",
   "execution_count": null,
   "metadata": {},
   "outputs": [],
   "source": [
    "\n"
   ]
  },
  {
   "cell_type": "code",
   "execution_count": null,
   "metadata": {},
   "outputs": [],
   "source": []
  },
  {
   "cell_type": "markdown",
   "metadata": {},
   "source": [
    "# Use three: extract recent tweets from a specific user\n",
    "\n",
    "If we have a dataset or panel of users, can get their tweets and extract properties like likes, retweets, etc (most recent ~3200)\n",
    "\n",
    "**Example use**: Bisbee et al. construct a panel of political science professors use Twitter; they then follow those users and looks at who retweets each other's research, finding that male professors are more likely to pass on research by other male professors than by female professors - https://www.cambridge.org/core/journals/perspectives-on-politics/article/polisci-twitter-a-descriptive-analysis-of-how-political-scientists-use-twitter-in-2019/C8A193C3E939C1ABCD4600DFE8AEF79A"
   ]
  },
  {
   "cell_type": "code",
   "execution_count": null,
   "metadata": {},
   "outputs": [],
   "source": [
    "## step 1: choose a focal account and get their numeric id\n",
    "focal_account = \"McCourtSchool\"\n"
   ]
  },
  {
   "cell_type": "code",
   "execution_count": null,
   "metadata": {},
   "outputs": [],
   "source": [
    "## do sentiment scoring on the tweet\n"
   ]
  },
  {
   "cell_type": "markdown",
   "metadata": {},
   "source": [
    "# Activity for your practice\n",
    "\n",
    "1. Choose a public user (e.g., a politician; celebrity) and pull 100 tweets from their timeline and metadata about those tweets. When pulling metadata, make sure to get the conversation_id and count of replies (latter is in public_metrics)\n",
    "2. Choose one of their tweets to focus on that got a lot of replies and get the conversation_id of that tweet\n",
    "3. Paste the conversation id of that tweet into a query using this documentation for query building: https://developer.twitter.com/en/docs/twitter-api/tweets/search/integrate/build-a-query#examples\n",
    "4. Similar to example 1.1 in the example code, use the `search_recent_tweets` method to pull tweets that are in response to the focal tweet from step 2--- note, if there are no public replies, this may return None; therefore, make sure to choose a tweet with 20+ replies\n",
    "5. Place them in a dataframe and views the results"
   ]
  },
  {
   "cell_type": "code",
   "execution_count": null,
   "metadata": {},
   "outputs": [],
   "source": []
  }
 ],
 "metadata": {
  "kernelspec": {
   "display_name": "Python 3",
   "language": "python",
   "name": "python3"
  },
  "language_info": {
   "codemirror_mode": {
    "name": "ipython",
    "version": 3
   },
   "file_extension": ".py",
   "mimetype": "text/x-python",
   "name": "python",
   "nbconvert_exporter": "python",
   "pygments_lexer": "ipython3",
   "version": "3.8.3"
  }
 },
 "nbformat": 4,
 "nbformat_minor": 4
}
