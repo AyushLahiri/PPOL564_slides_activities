{
 "cells": [
  {
   "cell_type": "markdown",
   "metadata": {},
   "source": [
    "# Imports"
   ]
  },
  {
   "cell_type": "code",
   "execution_count": 1,
   "metadata": {},
   "outputs": [],
   "source": [
    "import pandas as pd\n",
    "import numpy as np\n",
    "\n",
    "\n",
    "## print multiple things from same cell\n",
    "from IPython.core.interactiveshell import InteractiveShell\n",
    "InteractiveShell.ast_node_interactivity = \"all\""
   ]
  },
  {
   "cell_type": "markdown",
   "metadata": {},
   "source": [
    "# Simulate data"
   ]
  },
  {
   "cell_type": "code",
   "execution_count": 2,
   "metadata": {},
   "outputs": [
    {
     "data": {
      "text/html": [
       "<div>\n",
       "<style scoped>\n",
       "    .dataframe tbody tr th:only-of-type {\n",
       "        vertical-align: middle;\n",
       "    }\n",
       "\n",
       "    .dataframe tbody tr th {\n",
       "        vertical-align: top;\n",
       "    }\n",
       "\n",
       "    .dataframe thead th {\n",
       "        text-align: right;\n",
       "    }\n",
       "</style>\n",
       "<table border=\"1\" class=\"dataframe\">\n",
       "  <thead>\n",
       "    <tr style=\"text-align: right;\">\n",
       "      <th></th>\n",
       "      <th>shop_name</th>\n",
       "      <th>opening_time</th>\n",
       "      <th>closing_time</th>\n",
       "      <th>hourly_wage</th>\n",
       "      <th>year</th>\n",
       "    </tr>\n",
       "  </thead>\n",
       "  <tbody>\n",
       "    <tr>\n",
       "      <th>2</th>\n",
       "      <td>Baked and Wired</td>\n",
       "      <td>10:00 AM</td>\n",
       "      <td>5:00 PM</td>\n",
       "      <td>16.308214</td>\n",
       "      <td>2019</td>\n",
       "    </tr>\n",
       "    <tr>\n",
       "      <th>2</th>\n",
       "      <td>Baked and Wired</td>\n",
       "      <td>10:00 AM</td>\n",
       "      <td>3:00 PM</td>\n",
       "      <td>19.222221</td>\n",
       "      <td>2021</td>\n",
       "    </tr>\n",
       "    <tr>\n",
       "      <th>4</th>\n",
       "      <td>Blue Bottle</td>\n",
       "      <td>8:00 AM</td>\n",
       "      <td>7:00 PM</td>\n",
       "      <td>19.231655</td>\n",
       "      <td>2019</td>\n",
       "    </tr>\n",
       "    <tr>\n",
       "      <th>4</th>\n",
       "      <td>Blue Bottle</td>\n",
       "      <td>9:00 AM</td>\n",
       "      <td>7:00 PM</td>\n",
       "      <td>19.951942</td>\n",
       "      <td>2021</td>\n",
       "    </tr>\n",
       "    <tr>\n",
       "      <th>0</th>\n",
       "      <td>Compass</td>\n",
       "      <td>10:00 AM</td>\n",
       "      <td>6:00 PM</td>\n",
       "      <td>16.169551</td>\n",
       "      <td>2019</td>\n",
       "    </tr>\n",
       "    <tr>\n",
       "      <th>0</th>\n",
       "      <td>Compass</td>\n",
       "      <td>10:00 AM</td>\n",
       "      <td>7:00 PM</td>\n",
       "      <td>15.316723</td>\n",
       "      <td>2021</td>\n",
       "    </tr>\n",
       "    <tr>\n",
       "      <th>3</th>\n",
       "      <td>Peets</td>\n",
       "      <td>10:00 AM</td>\n",
       "      <td>7:00 PM</td>\n",
       "      <td>16.240656</td>\n",
       "      <td>2019</td>\n",
       "    </tr>\n",
       "    <tr>\n",
       "      <th>3</th>\n",
       "      <td>Peets</td>\n",
       "      <td>8:00 AM</td>\n",
       "      <td>7:00 PM</td>\n",
       "      <td>19.992475</td>\n",
       "      <td>2021</td>\n",
       "    </tr>\n",
       "    <tr>\n",
       "      <th>5</th>\n",
       "      <td>Saxbys</td>\n",
       "      <td>9:00 AM</td>\n",
       "      <td>6:00 PM</td>\n",
       "      <td>14.598841</td>\n",
       "      <td>2019</td>\n",
       "    </tr>\n",
       "    <tr>\n",
       "      <th>5</th>\n",
       "      <td>Saxbys</td>\n",
       "      <td>8:00 AM</td>\n",
       "      <td>3:00 PM</td>\n",
       "      <td>17.238755</td>\n",
       "      <td>2021</td>\n",
       "    </tr>\n",
       "    <tr>\n",
       "      <th>1</th>\n",
       "      <td>Starbucks</td>\n",
       "      <td>9:00 AM</td>\n",
       "      <td>7:00 PM</td>\n",
       "      <td>19.470102</td>\n",
       "      <td>2019</td>\n",
       "    </tr>\n",
       "    <tr>\n",
       "      <th>1</th>\n",
       "      <td>Starbucks</td>\n",
       "      <td>8:00 AM</td>\n",
       "      <td>7:00 PM</td>\n",
       "      <td>19.728897</td>\n",
       "      <td>2021</td>\n",
       "    </tr>\n",
       "  </tbody>\n",
       "</table>\n",
       "</div>"
      ],
      "text/plain": [
       "         shop_name opening_time closing_time  hourly_wage  year\n",
       "2  Baked and Wired     10:00 AM      5:00 PM    16.308214  2019\n",
       "2  Baked and Wired     10:00 AM      3:00 PM    19.222221  2021\n",
       "4      Blue Bottle      8:00 AM      7:00 PM    19.231655  2019\n",
       "4      Blue Bottle      9:00 AM      7:00 PM    19.951942  2021\n",
       "0          Compass     10:00 AM      6:00 PM    16.169551  2019\n",
       "0          Compass     10:00 AM      7:00 PM    15.316723  2021\n",
       "3            Peets     10:00 AM      7:00 PM    16.240656  2019\n",
       "3            Peets      8:00 AM      7:00 PM    19.992475  2021\n",
       "5           Saxbys      9:00 AM      6:00 PM    14.598841  2019\n",
       "5           Saxbys      8:00 AM      3:00 PM    17.238755  2021\n",
       "1        Starbucks      9:00 AM      7:00 PM    19.470102  2019\n",
       "1        Starbucks      8:00 AM      7:00 PM    19.728897  2021"
      ]
     },
     "execution_count": 2,
     "metadata": {},
     "output_type": "execute_result"
    }
   ],
   "source": [
    "## setting seed for reproducibility\n",
    "np.random.seed(1129)\n",
    "shop_names = ['Compass', 'Starbucks', 'Baked and Wired', 'Peets', \n",
    "              'Blue Bottle', 'Saxbys']\n",
    "coffee_df = pd.concat([pd.DataFrame({'shop_name': shop_names,\n",
    "                         'opening_time': np.random.choice([\"8:00 AM\", \"9:00 AM\", \"10:00 AM\"],\n",
    "                                                       len(shop_names),\n",
    "                                                       replace = True),\n",
    "                         'closing_time': np.random.choice([\"5:00 PM\", \"6:00 PM\", \n",
    "                                                          \"7:00 PM\"],\n",
    "                                                         len(shop_names),\n",
    "                                                          replace = True),\n",
    "                         'hourly_wage': np.random.uniform(14, 20,\n",
    "                                                          len(shop_names)),\n",
    "                        'year': 2019}),\n",
    "                      pd.DataFrame({'shop_name': shop_names,\n",
    "                         'opening_time': np.random.choice([\"8:00 AM\", \"9:00 AM\", \"10:00 AM\"],\n",
    "                                                       len(shop_names),\n",
    "                                                       replace = True),\n",
    "                         'closing_time': np.random.choice([\"3:00 PM\", \"4:00 PM\",\n",
    "                                                           \"6:00 PM\", \n",
    "                                                          \"7:00 PM\"],\n",
    "                                                         len(shop_names),\n",
    "                                                          replace = True),\n",
    "                         'hourly_wage': np.random.uniform(14, 20,\n",
    "                                                          len(shop_names)),\n",
    "                        'year': 2021})]).sort_values(by = 'shop_name')\n",
    "                      \n",
    "\n",
    "coffee_df"
   ]
  },
  {
   "cell_type": "markdown",
   "metadata": {},
   "source": [
    "# 1. Methods versus attributes"
   ]
  },
  {
   "cell_type": "code",
   "execution_count": 3,
   "metadata": {},
   "outputs": [],
   "source": [
    "## good explanation here: https://medium.com/@shawnnkoski/pandas-attributes-867a169e6d9b \n",
    "## especially in pandas:\n",
    "## attributes: give more information about some object (eg a Pandas dataframe or Series)\n",
    "## methods: apply some transformation to that object "
   ]
  },
  {
   "cell_type": "markdown",
   "metadata": {},
   "source": [
    "## 1.1 Attributes of or methods that operate on dataframes"
   ]
  },
  {
   "cell_type": "code",
   "execution_count": null,
   "metadata": {},
   "outputs": [],
   "source": []
  },
  {
   "cell_type": "code",
   "execution_count": null,
   "metadata": {},
   "outputs": [],
   "source": []
  },
  {
   "cell_type": "markdown",
   "metadata": {},
   "source": [
    "## 1.2 Attributes of or methods that operate on pandas series"
   ]
  },
  {
   "cell_type": "code",
   "execution_count": null,
   "metadata": {},
   "outputs": [],
   "source": []
  },
  {
   "cell_type": "markdown",
   "metadata": {},
   "source": [
    "## 1.3 Applying methods to base python objects versus pandas dataframes/series\n",
    "\n",
    "Different types of objects have different types of methods\n",
    "\n",
    "Suppose we want to convert a string to all lowercase. There are different ways a string might be stored:\n",
    "\n",
    "- As an object in base python. Method for this object: lower()- https://www.w3schools.com/python/ref_string_lower.asp \n",
    "\n",
    "- As a pandas series stored as a character. Method for this object: str.lower() - https://pandas.pydata.org/docs/reference/api/pandas.Series.str.lower.html \n",
    "\n",
    "Each accomplishes the same task but syntax differs slightly depending on what type of object we \"feed\" the lower function"
   ]
  },
  {
   "cell_type": "code",
   "execution_count": null,
   "metadata": {},
   "outputs": [],
   "source": []
  },
  {
   "cell_type": "markdown",
   "metadata": {},
   "source": [
    "## 1.4 Practice for you \n",
    "\n",
    "- Use the quantile function (a method that operates on pandas series: https://pandas.pydata.org/docs/reference/api/pandas.Series.quantile.html) to get three percentiles of the `hourly_wage` column and assign to an object you call `wage_summary`\n",
    "\n",
    "    - Bottom 10th (0.1)\n",
    "    - Median (0.5)\n",
    "    - Top 10th (0.9)\n",
    "\n",
    "- Check the type of `wage summary`, convert the type to a numpy array and calculate the gap between the 90th percentile hourly wage and the 10th percentile (hint, you may want to use np.min and np.max)"
   ]
  },
  {
   "cell_type": "code",
   "execution_count": null,
   "metadata": {},
   "outputs": [],
   "source": []
  },
  {
   "cell_type": "markdown",
   "metadata": {},
   "source": [
    "# 2. pivot() or pivot_table() to reshape\n",
    "\n",
    "We currently have a \"long\" format dataframe where each coffee shop appears twice, once for its 2019 information and another time for its 2021 information\n",
    "\n",
    "To perform different calculations (eg changes in total hours), we may want to reshape to wide format where each row is a single coffee shop and we have one value for its 2019 wages/hours and another value for its 2021 wages/hours\n",
    "\n",
    "Good discussion here of pivot() versus pivot_table(): https://www.roelpeters.be/pandas-pivot_table-vs-pivot/#:~:text=Basically%2C%20the%20pivot_table()%20function,Here's%20an%20example\n",
    "\n",
    "**Task**: \n",
    "\n",
    "- We first want to calculate the # of hours open per day. Trickier with no dates so we add an arbitrary same date to each (could also use .today() which is today's date)\n",
    "\n",
    "- We then want to pivot to wide to create different columns for 2019 versus 2021 total hours open and total wages"
   ]
  },
  {
   "cell_type": "markdown",
   "metadata": {},
   "source": [
    "## 2.1 Adding a new column with difference in times\n",
    "\n",
    "How to get hours: https://stackoverflow.com/questions/52093199/pandas-extract-hour-from-timedelta"
   ]
  },
  {
   "cell_type": "code",
   "execution_count": null,
   "metadata": {},
   "outputs": [],
   "source": [
    "\n"
   ]
  },
  {
   "cell_type": "markdown",
   "metadata": {},
   "source": [
    "## 2.2 Reshaping\n",
    "\n",
    "We want to subset to the following columns and reshape from long to wide, so where each row represents a single shop:\n",
    "\n",
    "- shop_name\n",
    "- year\n",
    "- hours_open\n",
    "- hourly_wage"
   ]
  },
  {
   "cell_type": "code",
   "execution_count": null,
   "metadata": {},
   "outputs": [],
   "source": []
  },
  {
   "cell_type": "code",
   "execution_count": null,
   "metadata": {},
   "outputs": [],
   "source": []
  },
  {
   "cell_type": "markdown",
   "metadata": {},
   "source": [
    "## 2.3 Using that reshaped data to simplify operations\n",
    "\n",
    "Create a new column that takes value of True if hours_open_2021 is less than in 2019, False otherwise"
   ]
  },
  {
   "cell_type": "code",
   "execution_count": null,
   "metadata": {},
   "outputs": [],
   "source": []
  },
  {
   "cell_type": "markdown",
   "metadata": {},
   "source": [
    "## 2.4 Practice for you\n",
    "\n",
    "- Below is a fake dataframe with metro stops and delays. \n",
    "\n",
    "- Reshape so that each row is a metro stop and find whether there were more days with delays in 2021 than in 2020 for that stop\n"
   ]
  },
  {
   "cell_type": "code",
   "execution_count": 4,
   "metadata": {},
   "outputs": [
    {
     "data": {
      "text/html": [
       "<div>\n",
       "<style scoped>\n",
       "    .dataframe tbody tr th:only-of-type {\n",
       "        vertical-align: middle;\n",
       "    }\n",
       "\n",
       "    .dataframe tbody tr th {\n",
       "        vertical-align: top;\n",
       "    }\n",
       "\n",
       "    .dataframe thead th {\n",
       "        text-align: right;\n",
       "    }\n",
       "</style>\n",
       "<table border=\"1\" class=\"dataframe\">\n",
       "  <thead>\n",
       "    <tr style=\"text-align: right;\">\n",
       "      <th></th>\n",
       "      <th>stop</th>\n",
       "      <th>days_delayed</th>\n",
       "      <th>year</th>\n",
       "    </tr>\n",
       "  </thead>\n",
       "  <tbody>\n",
       "    <tr>\n",
       "      <th>0</th>\n",
       "      <td>dupont circle</td>\n",
       "      <td>200</td>\n",
       "      <td>2020</td>\n",
       "    </tr>\n",
       "    <tr>\n",
       "      <th>1</th>\n",
       "      <td>dupont circle</td>\n",
       "      <td>50</td>\n",
       "      <td>2021</td>\n",
       "    </tr>\n",
       "    <tr>\n",
       "      <th>2</th>\n",
       "      <td>foggy bottom</td>\n",
       "      <td>40</td>\n",
       "      <td>2020</td>\n",
       "    </tr>\n",
       "    <tr>\n",
       "      <th>3</th>\n",
       "      <td>foggy bottom</td>\n",
       "      <td>100</td>\n",
       "      <td>2021</td>\n",
       "    </tr>\n",
       "  </tbody>\n",
       "</table>\n",
       "</div>"
      ],
      "text/plain": [
       "            stop  days_delayed  year\n",
       "0  dupont circle           200  2020\n",
       "1  dupont circle            50  2021\n",
       "2   foggy bottom            40  2020\n",
       "3   foggy bottom           100  2021"
      ]
     },
     "execution_count": 4,
     "metadata": {},
     "output_type": "execute_result"
    }
   ],
   "source": [
    "## long dataframe\n",
    "np.random.seed(1129)\n",
    "metro_stops = pd.DataFrame({'stop': ['dupont circle', 'dupont circle', \n",
    "                           'foggy bottom', 'foggy bottom'],\n",
    "                           'days_delayed': np.random.choice([50, 40, 100, 200],\n",
    "                                                           4, replace = False),\n",
    "                           'year': [2020, 2021, 2020, 2021]})\n",
    "metro_stops"
   ]
  },
  {
   "cell_type": "code",
   "execution_count": 5,
   "metadata": {},
   "outputs": [],
   "source": [
    "## your code\n"
   ]
  },
  {
   "cell_type": "markdown",
   "metadata": {},
   "source": [
    "# 3. User defined functions and if/elif/control flow"
   ]
  },
  {
   "cell_type": "markdown",
   "metadata": {},
   "source": [
    "## 3.1 if/elif/else outside a function\n",
    "\n",
    "**Task**: with the original `coffee_df` data, pick an arbitrary shop_name and check if has more than 1 word; if it does, print \"shop name has >1 word\"; if not, print \"shop name has one word\""
   ]
  },
  {
   "cell_type": "code",
   "execution_count": null,
   "metadata": {},
   "outputs": [],
   "source": [
    "\n"
   ]
  },
  {
   "cell_type": "code",
   "execution_count": null,
   "metadata": {},
   "outputs": [],
   "source": []
  },
  {
   "cell_type": "markdown",
   "metadata": {},
   "source": [
    "## 3.2 if/elif/else inside a function \n",
    "\n",
    "**Task**: move that inside a function that takes a single shop name as an argument. Apply the function w/ one arbitrary shop name"
   ]
  },
  {
   "cell_type": "code",
   "execution_count": null,
   "metadata": {},
   "outputs": [],
   "source": []
  },
  {
   "cell_type": "code",
   "execution_count": null,
   "metadata": {},
   "outputs": [],
   "source": []
  },
  {
   "cell_type": "markdown",
   "metadata": {},
   "source": [
    "## 3.3 different ways of executing over all shop names\n",
    "\n",
    "Note: because the function returns nothing, it just returns `None` with either way of executing"
   ]
  },
  {
   "cell_type": "markdown",
   "metadata": {},
   "source": [
    "### 3.3.1 List comprehension"
   ]
  },
  {
   "cell_type": "code",
   "execution_count": null,
   "metadata": {},
   "outputs": [],
   "source": []
  },
  {
   "cell_type": "markdown",
   "metadata": {},
   "source": [
    "### 3.3.2 Apply "
   ]
  },
  {
   "cell_type": "code",
   "execution_count": null,
   "metadata": {},
   "outputs": [],
   "source": []
  },
  {
   "cell_type": "markdown",
   "metadata": {},
   "source": [
    "## 3.4 Practice for you"
   ]
  },
  {
   "cell_type": "markdown",
   "metadata": {},
   "source": [
    "**Task**: modify the previous function to do the following instead of printing:\n",
    "        \n",
    "- If the shop name is longer than 1 word, return just the first word of the name\n",
    "- Otherwise return the full shop name\n",
    "\n",
    "After making sure the function works with one shop name, iterate over the shop names using one of the above methods (list comprehension or apply) and create a new column in `coffee_df` with the single-word name"
   ]
  },
  {
   "cell_type": "code",
   "execution_count": null,
   "metadata": {},
   "outputs": [],
   "source": []
  },
  {
   "cell_type": "code",
   "execution_count": null,
   "metadata": {},
   "outputs": [],
   "source": []
  },
  {
   "cell_type": "markdown",
   "metadata": {},
   "source": [
    "# 4. Plotting practice\n",
    "\n",
    "**Task**: create a plot where the x axis is a coffee shop and the y axis is the number of hours open, creating separate bars (or shading separately) for 2019 versus 2021"
   ]
  },
  {
   "cell_type": "code",
   "execution_count": null,
   "metadata": {},
   "outputs": [],
   "source": []
  }
 ],
 "metadata": {
  "kernelspec": {
   "display_name": "Python 3",
   "language": "python",
   "name": "python3"
  },
  "language_info": {
   "codemirror_mode": {
    "name": "ipython",
    "version": 3
   },
   "file_extension": ".py",
   "mimetype": "text/x-python",
   "name": "python",
   "nbconvert_exporter": "python",
   "pygments_lexer": "ipython3",
   "version": "3.8.3"
  }
 },
 "nbformat": 4,
 "nbformat_minor": 4
}
